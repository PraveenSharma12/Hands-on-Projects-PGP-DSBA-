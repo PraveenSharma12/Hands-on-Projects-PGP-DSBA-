{
 "cells": [
  {
   "cell_type": "markdown",
   "id": "04d0465b",
   "metadata": {},
   "source": [
    "# Problem 1: Linear Regression\n",
    "\n",
    "## The comp-activ databases is a collection of a computer systems activity measures .\n",
    "## The data was collected from a Sun Sparcstation 20/712 with 128 Mbytes of memory running in a multi-user university department. Users would typically be doing a large variety of tasks ranging from accessing the internet, editing files or running very cpu-bound programs. \n",
    "\n",
    "## As you are a budding data scientist you thought to find out a linear equation to build a model to predict 'usr'(Portion of time (%) that cpus run in user mode) and to find out how each attribute affects the system to be in 'usr' mode using a list of system attributes."
   ]
  },
  {
   "cell_type": "markdown",
   "id": "23d234ab",
   "metadata": {},
   "source": [
    "### DATA DICTIONARY:\n",
    "-----------------------\n",
    "System measures used:\n",
    "\n",
    "1. lread - Reads (transfers per second ) between system memory and user memory\n",
    "2. lwrite - writes (transfers per second) between system memory and user memory\n",
    "3. scall - Number of system calls of all types per second\n",
    "4. sread - Number of system read calls per second .\n",
    "5. swrite - Number of system write calls per second .\n",
    "6. fork - Number of system fork calls per second.\n",
    "7. exec - Number of system exec calls per second.\n",
    "8. rchar - Number of characters transferred per second by system read calls\n",
    "9. wchar - Number of characters transfreed per second by system write calls\n",
    "10. pgout - Number of page out requests per second\n",
    "11. ppgout - Number of pages, paged out per second\n",
    "12. pgfree - Number of pages per second placed on the free list.\n",
    "13. pgscan - Number of pages checked if they can be freed per second\n",
    "14. atch - Number of page attaches (satisfying a page fault by reclaiming a page in memory) per second\n",
    "15. pgin - Number of page-in requests per second\n",
    "16. ppgin - Number of pages paged in per second\n",
    "17. pflt - Number of page faults caused by protection errors (copy-on-writes).\n",
    "18. vflt - Number of page faults caused by address translation .\n",
    "19. runqsz - Process run queue size (The number of kernel threads in memory that are waiting for a CPU to run.\n",
    "Typically, this value should be less than 2. Consistently higher values mean that the system might be CPU-bound.)\n",
    "20. freemem - Number of memory pages available to user processes\n",
    "21. freeswap - Number of disk blocks available for page swapping.\n",
    "22. usr - Portion of time (%) that cpus run in user mode"
   ]
  },
  {
   "cell_type": "markdown",
   "id": "50e1401a",
   "metadata": {},
   "source": [
    "## 1.1 Read the data and do exploratory data analysis. Describe the data briefly. (Check the Data types, shape, EDA, 5 point summary). Perform Univariate, Bivariate Analysis, Multivariate Analysis."
   ]
  },
  {
   "cell_type": "code",
   "execution_count": 224,
   "id": "1b81e5eb",
   "metadata": {},
   "outputs": [],
   "source": [
    "#import required libraries\n",
    "import pandas as pd\n",
    "import numpy as np\n",
    "\n",
    "# for visualizing data\n",
    "import matplotlib.pyplot as plt\n",
    "import seaborn as sns\n",
    "\n",
    "# For randomized data splitting\n",
    "from sklearn.model_selection import train_test_split\n",
    "\n",
    "# To build linear regression_model\n",
    "import statsmodels.api as sm\n",
    "\n",
    "# To check model performance\n",
    "from sklearn.metrics import mean_absolute_error, mean_squared_error"
   ]
  },
  {
   "cell_type": "code",
   "execution_count": 225,
   "id": "91669675",
   "metadata": {},
   "outputs": [],
   "source": [
    "#upload the required data\n",
    "df = pd.read_excel(\"compactiv (1).xlsx\")"
   ]
  },
  {
   "cell_type": "code",
   "execution_count": 104,
   "id": "8c8f08a9",
   "metadata": {},
   "outputs": [
    {
     "data": {
      "text/html": [
       "<div>\n",
       "<style scoped>\n",
       "    .dataframe tbody tr th:only-of-type {\n",
       "        vertical-align: middle;\n",
       "    }\n",
       "\n",
       "    .dataframe tbody tr th {\n",
       "        vertical-align: top;\n",
       "    }\n",
       "\n",
       "    .dataframe thead th {\n",
       "        text-align: right;\n",
       "    }\n",
       "</style>\n",
       "<table border=\"1\" class=\"dataframe\">\n",
       "  <thead>\n",
       "    <tr style=\"text-align: right;\">\n",
       "      <th></th>\n",
       "      <th>lread</th>\n",
       "      <th>lwrite</th>\n",
       "      <th>scall</th>\n",
       "      <th>sread</th>\n",
       "      <th>swrite</th>\n",
       "      <th>fork</th>\n",
       "      <th>exec</th>\n",
       "      <th>rchar</th>\n",
       "      <th>wchar</th>\n",
       "      <th>pgout</th>\n",
       "      <th>...</th>\n",
       "      <th>pgscan</th>\n",
       "      <th>atch</th>\n",
       "      <th>pgin</th>\n",
       "      <th>ppgin</th>\n",
       "      <th>pflt</th>\n",
       "      <th>vflt</th>\n",
       "      <th>runqsz</th>\n",
       "      <th>freemem</th>\n",
       "      <th>freeswap</th>\n",
       "      <th>usr</th>\n",
       "    </tr>\n",
       "  </thead>\n",
       "  <tbody>\n",
       "    <tr>\n",
       "      <th>0</th>\n",
       "      <td>1</td>\n",
       "      <td>0</td>\n",
       "      <td>2147</td>\n",
       "      <td>79</td>\n",
       "      <td>68</td>\n",
       "      <td>0.2</td>\n",
       "      <td>0.2</td>\n",
       "      <td>40671.0</td>\n",
       "      <td>53995.0</td>\n",
       "      <td>0.0</td>\n",
       "      <td>...</td>\n",
       "      <td>0.0</td>\n",
       "      <td>0.0</td>\n",
       "      <td>1.6</td>\n",
       "      <td>2.6</td>\n",
       "      <td>16.00</td>\n",
       "      <td>26.40</td>\n",
       "      <td>CPU_Bound</td>\n",
       "      <td>4670</td>\n",
       "      <td>1730946</td>\n",
       "      <td>95</td>\n",
       "    </tr>\n",
       "    <tr>\n",
       "      <th>1</th>\n",
       "      <td>0</td>\n",
       "      <td>0</td>\n",
       "      <td>170</td>\n",
       "      <td>18</td>\n",
       "      <td>21</td>\n",
       "      <td>0.2</td>\n",
       "      <td>0.2</td>\n",
       "      <td>448.0</td>\n",
       "      <td>8385.0</td>\n",
       "      <td>0.0</td>\n",
       "      <td>...</td>\n",
       "      <td>0.0</td>\n",
       "      <td>0.0</td>\n",
       "      <td>0.0</td>\n",
       "      <td>0.0</td>\n",
       "      <td>15.63</td>\n",
       "      <td>16.83</td>\n",
       "      <td>Not_CPU_Bound</td>\n",
       "      <td>7278</td>\n",
       "      <td>1869002</td>\n",
       "      <td>97</td>\n",
       "    </tr>\n",
       "    <tr>\n",
       "      <th>2</th>\n",
       "      <td>15</td>\n",
       "      <td>3</td>\n",
       "      <td>2162</td>\n",
       "      <td>159</td>\n",
       "      <td>119</td>\n",
       "      <td>2.0</td>\n",
       "      <td>2.4</td>\n",
       "      <td>NaN</td>\n",
       "      <td>31950.0</td>\n",
       "      <td>0.0</td>\n",
       "      <td>...</td>\n",
       "      <td>0.0</td>\n",
       "      <td>1.2</td>\n",
       "      <td>6.0</td>\n",
       "      <td>9.4</td>\n",
       "      <td>150.20</td>\n",
       "      <td>220.20</td>\n",
       "      <td>Not_CPU_Bound</td>\n",
       "      <td>702</td>\n",
       "      <td>1021237</td>\n",
       "      <td>87</td>\n",
       "    </tr>\n",
       "    <tr>\n",
       "      <th>3</th>\n",
       "      <td>0</td>\n",
       "      <td>0</td>\n",
       "      <td>160</td>\n",
       "      <td>12</td>\n",
       "      <td>16</td>\n",
       "      <td>0.2</td>\n",
       "      <td>0.2</td>\n",
       "      <td>NaN</td>\n",
       "      <td>8670.0</td>\n",
       "      <td>0.0</td>\n",
       "      <td>...</td>\n",
       "      <td>0.0</td>\n",
       "      <td>0.0</td>\n",
       "      <td>0.2</td>\n",
       "      <td>0.2</td>\n",
       "      <td>15.60</td>\n",
       "      <td>16.80</td>\n",
       "      <td>Not_CPU_Bound</td>\n",
       "      <td>7248</td>\n",
       "      <td>1863704</td>\n",
       "      <td>98</td>\n",
       "    </tr>\n",
       "    <tr>\n",
       "      <th>4</th>\n",
       "      <td>5</td>\n",
       "      <td>1</td>\n",
       "      <td>330</td>\n",
       "      <td>39</td>\n",
       "      <td>38</td>\n",
       "      <td>0.4</td>\n",
       "      <td>0.4</td>\n",
       "      <td>NaN</td>\n",
       "      <td>12185.0</td>\n",
       "      <td>0.0</td>\n",
       "      <td>...</td>\n",
       "      <td>0.0</td>\n",
       "      <td>0.0</td>\n",
       "      <td>1.0</td>\n",
       "      <td>1.2</td>\n",
       "      <td>37.80</td>\n",
       "      <td>47.60</td>\n",
       "      <td>Not_CPU_Bound</td>\n",
       "      <td>633</td>\n",
       "      <td>1760253</td>\n",
       "      <td>90</td>\n",
       "    </tr>\n",
       "  </tbody>\n",
       "</table>\n",
       "<p>5 rows × 22 columns</p>\n",
       "</div>"
      ],
      "text/plain": [
       "   lread  lwrite  scall  sread  swrite  fork  exec    rchar    wchar  pgout  \\\n",
       "0      1       0   2147     79      68   0.2   0.2  40671.0  53995.0    0.0   \n",
       "1      0       0    170     18      21   0.2   0.2    448.0   8385.0    0.0   \n",
       "2     15       3   2162    159     119   2.0   2.4      NaN  31950.0    0.0   \n",
       "3      0       0    160     12      16   0.2   0.2      NaN   8670.0    0.0   \n",
       "4      5       1    330     39      38   0.4   0.4      NaN  12185.0    0.0   \n",
       "\n",
       "   ...  pgscan  atch  pgin  ppgin    pflt    vflt         runqsz  freemem  \\\n",
       "0  ...     0.0   0.0   1.6    2.6   16.00   26.40      CPU_Bound     4670   \n",
       "1  ...     0.0   0.0   0.0    0.0   15.63   16.83  Not_CPU_Bound     7278   \n",
       "2  ...     0.0   1.2   6.0    9.4  150.20  220.20  Not_CPU_Bound      702   \n",
       "3  ...     0.0   0.0   0.2    0.2   15.60   16.80  Not_CPU_Bound     7248   \n",
       "4  ...     0.0   0.0   1.0    1.2   37.80   47.60  Not_CPU_Bound      633   \n",
       "\n",
       "  freeswap  usr  \n",
       "0  1730946   95  \n",
       "1  1869002   97  \n",
       "2  1021237   87  \n",
       "3  1863704   98  \n",
       "4  1760253   90  \n",
       "\n",
       "[5 rows x 22 columns]"
      ]
     },
     "execution_count": 104,
     "metadata": {},
     "output_type": "execute_result"
    }
   ],
   "source": [
    "#print first 5 rows\n",
    "df.head()"
   ]
  },
  {
   "cell_type": "code",
   "execution_count": 26,
   "id": "df4fefc1",
   "metadata": {},
   "outputs": [
    {
     "data": {
      "text/html": [
       "<div>\n",
       "<style scoped>\n",
       "    .dataframe tbody tr th:only-of-type {\n",
       "        vertical-align: middle;\n",
       "    }\n",
       "\n",
       "    .dataframe tbody tr th {\n",
       "        vertical-align: top;\n",
       "    }\n",
       "\n",
       "    .dataframe thead th {\n",
       "        text-align: right;\n",
       "    }\n",
       "</style>\n",
       "<table border=\"1\" class=\"dataframe\">\n",
       "  <thead>\n",
       "    <tr style=\"text-align: right;\">\n",
       "      <th></th>\n",
       "      <th>lread</th>\n",
       "      <th>lwrite</th>\n",
       "      <th>scall</th>\n",
       "      <th>sread</th>\n",
       "      <th>swrite</th>\n",
       "      <th>fork</th>\n",
       "      <th>exec</th>\n",
       "      <th>rchar</th>\n",
       "      <th>wchar</th>\n",
       "      <th>pgout</th>\n",
       "      <th>...</th>\n",
       "      <th>pgscan</th>\n",
       "      <th>atch</th>\n",
       "      <th>pgin</th>\n",
       "      <th>ppgin</th>\n",
       "      <th>pflt</th>\n",
       "      <th>vflt</th>\n",
       "      <th>runqsz</th>\n",
       "      <th>freemem</th>\n",
       "      <th>freeswap</th>\n",
       "      <th>usr</th>\n",
       "    </tr>\n",
       "  </thead>\n",
       "  <tbody>\n",
       "    <tr>\n",
       "      <th>8187</th>\n",
       "      <td>16</td>\n",
       "      <td>12</td>\n",
       "      <td>3009</td>\n",
       "      <td>360</td>\n",
       "      <td>244</td>\n",
       "      <td>1.6</td>\n",
       "      <td>5.81</td>\n",
       "      <td>405250.0</td>\n",
       "      <td>85282.0</td>\n",
       "      <td>8.02</td>\n",
       "      <td>...</td>\n",
       "      <td>55.11</td>\n",
       "      <td>0.6</td>\n",
       "      <td>35.87</td>\n",
       "      <td>47.90</td>\n",
       "      <td>139.28</td>\n",
       "      <td>270.74</td>\n",
       "      <td>CPU_Bound</td>\n",
       "      <td>387</td>\n",
       "      <td>986647</td>\n",
       "      <td>80</td>\n",
       "    </tr>\n",
       "    <tr>\n",
       "      <th>8188</th>\n",
       "      <td>4</td>\n",
       "      <td>0</td>\n",
       "      <td>1596</td>\n",
       "      <td>170</td>\n",
       "      <td>146</td>\n",
       "      <td>2.4</td>\n",
       "      <td>1.80</td>\n",
       "      <td>89489.0</td>\n",
       "      <td>41764.0</td>\n",
       "      <td>3.80</td>\n",
       "      <td>...</td>\n",
       "      <td>0.20</td>\n",
       "      <td>0.8</td>\n",
       "      <td>3.80</td>\n",
       "      <td>4.40</td>\n",
       "      <td>122.40</td>\n",
       "      <td>212.60</td>\n",
       "      <td>Not_CPU_Bound</td>\n",
       "      <td>263</td>\n",
       "      <td>1055742</td>\n",
       "      <td>90</td>\n",
       "    </tr>\n",
       "    <tr>\n",
       "      <th>8189</th>\n",
       "      <td>16</td>\n",
       "      <td>5</td>\n",
       "      <td>3116</td>\n",
       "      <td>289</td>\n",
       "      <td>190</td>\n",
       "      <td>0.6</td>\n",
       "      <td>0.60</td>\n",
       "      <td>325948.0</td>\n",
       "      <td>52640.0</td>\n",
       "      <td>0.40</td>\n",
       "      <td>...</td>\n",
       "      <td>0.00</td>\n",
       "      <td>0.4</td>\n",
       "      <td>28.40</td>\n",
       "      <td>45.20</td>\n",
       "      <td>60.20</td>\n",
       "      <td>219.80</td>\n",
       "      <td>Not_CPU_Bound</td>\n",
       "      <td>400</td>\n",
       "      <td>969106</td>\n",
       "      <td>87</td>\n",
       "    </tr>\n",
       "    <tr>\n",
       "      <th>8190</th>\n",
       "      <td>32</td>\n",
       "      <td>45</td>\n",
       "      <td>5180</td>\n",
       "      <td>254</td>\n",
       "      <td>179</td>\n",
       "      <td>1.2</td>\n",
       "      <td>1.20</td>\n",
       "      <td>62571.0</td>\n",
       "      <td>29505.0</td>\n",
       "      <td>1.40</td>\n",
       "      <td>...</td>\n",
       "      <td>18.04</td>\n",
       "      <td>0.4</td>\n",
       "      <td>23.05</td>\n",
       "      <td>24.25</td>\n",
       "      <td>93.19</td>\n",
       "      <td>202.81</td>\n",
       "      <td>CPU_Bound</td>\n",
       "      <td>141</td>\n",
       "      <td>1022458</td>\n",
       "      <td>83</td>\n",
       "    </tr>\n",
       "    <tr>\n",
       "      <th>8191</th>\n",
       "      <td>2</td>\n",
       "      <td>0</td>\n",
       "      <td>985</td>\n",
       "      <td>55</td>\n",
       "      <td>46</td>\n",
       "      <td>1.6</td>\n",
       "      <td>4.80</td>\n",
       "      <td>111111.0</td>\n",
       "      <td>22256.0</td>\n",
       "      <td>0.00</td>\n",
       "      <td>...</td>\n",
       "      <td>0.00</td>\n",
       "      <td>0.2</td>\n",
       "      <td>3.40</td>\n",
       "      <td>6.20</td>\n",
       "      <td>91.80</td>\n",
       "      <td>110.00</td>\n",
       "      <td>CPU_Bound</td>\n",
       "      <td>659</td>\n",
       "      <td>1756514</td>\n",
       "      <td>94</td>\n",
       "    </tr>\n",
       "  </tbody>\n",
       "</table>\n",
       "<p>5 rows × 22 columns</p>\n",
       "</div>"
      ],
      "text/plain": [
       "      lread  lwrite  scall  sread  swrite  fork  exec     rchar    wchar  \\\n",
       "8187     16      12   3009    360     244   1.6  5.81  405250.0  85282.0   \n",
       "8188      4       0   1596    170     146   2.4  1.80   89489.0  41764.0   \n",
       "8189     16       5   3116    289     190   0.6  0.60  325948.0  52640.0   \n",
       "8190     32      45   5180    254     179   1.2  1.20   62571.0  29505.0   \n",
       "8191      2       0    985     55      46   1.6  4.80  111111.0  22256.0   \n",
       "\n",
       "      pgout  ...  pgscan  atch   pgin  ppgin    pflt    vflt         runqsz  \\\n",
       "8187   8.02  ...   55.11   0.6  35.87  47.90  139.28  270.74      CPU_Bound   \n",
       "8188   3.80  ...    0.20   0.8   3.80   4.40  122.40  212.60  Not_CPU_Bound   \n",
       "8189   0.40  ...    0.00   0.4  28.40  45.20   60.20  219.80  Not_CPU_Bound   \n",
       "8190   1.40  ...   18.04   0.4  23.05  24.25   93.19  202.81      CPU_Bound   \n",
       "8191   0.00  ...    0.00   0.2   3.40   6.20   91.80  110.00      CPU_Bound   \n",
       "\n",
       "      freemem freeswap  usr  \n",
       "8187      387   986647   80  \n",
       "8188      263  1055742   90  \n",
       "8189      400   969106   87  \n",
       "8190      141  1022458   83  \n",
       "8191      659  1756514   94  \n",
       "\n",
       "[5 rows x 22 columns]"
      ]
     },
     "execution_count": 26,
     "metadata": {},
     "output_type": "execute_result"
    }
   ],
   "source": [
    "#print last 5 rows\n",
    "df.tail()"
   ]
  },
  {
   "cell_type": "code",
   "execution_count": 27,
   "id": "bdd7050c",
   "metadata": {},
   "outputs": [
    {
     "name": "stdout",
     "output_type": "stream",
     "text": [
      "<class 'pandas.core.frame.DataFrame'>\n",
      "RangeIndex: 8192 entries, 0 to 8191\n",
      "Data columns (total 22 columns):\n",
      " #   Column    Non-Null Count  Dtype  \n",
      "---  ------    --------------  -----  \n",
      " 0   lread     8192 non-null   int64  \n",
      " 1   lwrite    8192 non-null   int64  \n",
      " 2   scall     8192 non-null   int64  \n",
      " 3   sread     8192 non-null   int64  \n",
      " 4   swrite    8192 non-null   int64  \n",
      " 5   fork      8192 non-null   float64\n",
      " 6   exec      8192 non-null   float64\n",
      " 7   rchar     8088 non-null   float64\n",
      " 8   wchar     8177 non-null   float64\n",
      " 9   pgout     8192 non-null   float64\n",
      " 10  ppgout    8192 non-null   float64\n",
      " 11  pgfree    8192 non-null   float64\n",
      " 12  pgscan    8192 non-null   float64\n",
      " 13  atch      8192 non-null   float64\n",
      " 14  pgin      8192 non-null   float64\n",
      " 15  ppgin     8192 non-null   float64\n",
      " 16  pflt      8192 non-null   float64\n",
      " 17  vflt      8192 non-null   float64\n",
      " 18  runqsz    8192 non-null   object \n",
      " 19  freemem   8192 non-null   int64  \n",
      " 20  freeswap  8192 non-null   int64  \n",
      " 21  usr       8192 non-null   int64  \n",
      "dtypes: float64(13), int64(8), object(1)\n",
      "memory usage: 1.4+ MB\n"
     ]
    }
   ],
   "source": [
    "#infomation about dataset\n",
    "df.info()"
   ]
  },
  {
   "cell_type": "markdown",
   "id": "1b97dd19",
   "metadata": {},
   "source": [
    "Insights:\n",
    "1. Data consists of both categorical and numerical values. \n",
    "2. There are total of 8192 rows and 22 columns in the dataset. Out of 22, only 1 columns is of object type,8 columns are of integer type and remaining 13 are of float type data."
   ]
  },
  {
   "cell_type": "code",
   "execution_count": 28,
   "id": "e8282dcc",
   "metadata": {},
   "outputs": [
    {
     "data": {
      "text/html": [
       "<div>\n",
       "<style scoped>\n",
       "    .dataframe tbody tr th:only-of-type {\n",
       "        vertical-align: middle;\n",
       "    }\n",
       "\n",
       "    .dataframe tbody tr th {\n",
       "        vertical-align: top;\n",
       "    }\n",
       "\n",
       "    .dataframe thead th {\n",
       "        text-align: right;\n",
       "    }\n",
       "</style>\n",
       "<table border=\"1\" class=\"dataframe\">\n",
       "  <thead>\n",
       "    <tr style=\"text-align: right;\">\n",
       "      <th></th>\n",
       "      <th>lread</th>\n",
       "      <th>lwrite</th>\n",
       "      <th>scall</th>\n",
       "      <th>sread</th>\n",
       "      <th>swrite</th>\n",
       "      <th>fork</th>\n",
       "      <th>exec</th>\n",
       "      <th>rchar</th>\n",
       "      <th>wchar</th>\n",
       "      <th>pgout</th>\n",
       "      <th>...</th>\n",
       "      <th>pgscan</th>\n",
       "      <th>atch</th>\n",
       "      <th>pgin</th>\n",
       "      <th>ppgin</th>\n",
       "      <th>pflt</th>\n",
       "      <th>vflt</th>\n",
       "      <th>runqsz</th>\n",
       "      <th>freemem</th>\n",
       "      <th>freeswap</th>\n",
       "      <th>usr</th>\n",
       "    </tr>\n",
       "  </thead>\n",
       "  <tbody>\n",
       "    <tr>\n",
       "      <th>count</th>\n",
       "      <td>8192.000000</td>\n",
       "      <td>8192.000000</td>\n",
       "      <td>8192.000000</td>\n",
       "      <td>8192.000000</td>\n",
       "      <td>8192.000000</td>\n",
       "      <td>8192.000000</td>\n",
       "      <td>8192.000000</td>\n",
       "      <td>8.088000e+03</td>\n",
       "      <td>8.177000e+03</td>\n",
       "      <td>8192.000000</td>\n",
       "      <td>...</td>\n",
       "      <td>8192.000000</td>\n",
       "      <td>8192.000000</td>\n",
       "      <td>8192.000000</td>\n",
       "      <td>8192.000000</td>\n",
       "      <td>8192.000000</td>\n",
       "      <td>8192.000000</td>\n",
       "      <td>8192</td>\n",
       "      <td>8192.000000</td>\n",
       "      <td>8.192000e+03</td>\n",
       "      <td>8192.000000</td>\n",
       "    </tr>\n",
       "    <tr>\n",
       "      <th>unique</th>\n",
       "      <td>NaN</td>\n",
       "      <td>NaN</td>\n",
       "      <td>NaN</td>\n",
       "      <td>NaN</td>\n",
       "      <td>NaN</td>\n",
       "      <td>NaN</td>\n",
       "      <td>NaN</td>\n",
       "      <td>NaN</td>\n",
       "      <td>NaN</td>\n",
       "      <td>NaN</td>\n",
       "      <td>...</td>\n",
       "      <td>NaN</td>\n",
       "      <td>NaN</td>\n",
       "      <td>NaN</td>\n",
       "      <td>NaN</td>\n",
       "      <td>NaN</td>\n",
       "      <td>NaN</td>\n",
       "      <td>2</td>\n",
       "      <td>NaN</td>\n",
       "      <td>NaN</td>\n",
       "      <td>NaN</td>\n",
       "    </tr>\n",
       "    <tr>\n",
       "      <th>top</th>\n",
       "      <td>NaN</td>\n",
       "      <td>NaN</td>\n",
       "      <td>NaN</td>\n",
       "      <td>NaN</td>\n",
       "      <td>NaN</td>\n",
       "      <td>NaN</td>\n",
       "      <td>NaN</td>\n",
       "      <td>NaN</td>\n",
       "      <td>NaN</td>\n",
       "      <td>NaN</td>\n",
       "      <td>...</td>\n",
       "      <td>NaN</td>\n",
       "      <td>NaN</td>\n",
       "      <td>NaN</td>\n",
       "      <td>NaN</td>\n",
       "      <td>NaN</td>\n",
       "      <td>NaN</td>\n",
       "      <td>Not_CPU_Bound</td>\n",
       "      <td>NaN</td>\n",
       "      <td>NaN</td>\n",
       "      <td>NaN</td>\n",
       "    </tr>\n",
       "    <tr>\n",
       "      <th>freq</th>\n",
       "      <td>NaN</td>\n",
       "      <td>NaN</td>\n",
       "      <td>NaN</td>\n",
       "      <td>NaN</td>\n",
       "      <td>NaN</td>\n",
       "      <td>NaN</td>\n",
       "      <td>NaN</td>\n",
       "      <td>NaN</td>\n",
       "      <td>NaN</td>\n",
       "      <td>NaN</td>\n",
       "      <td>...</td>\n",
       "      <td>NaN</td>\n",
       "      <td>NaN</td>\n",
       "      <td>NaN</td>\n",
       "      <td>NaN</td>\n",
       "      <td>NaN</td>\n",
       "      <td>NaN</td>\n",
       "      <td>4331</td>\n",
       "      <td>NaN</td>\n",
       "      <td>NaN</td>\n",
       "      <td>NaN</td>\n",
       "    </tr>\n",
       "    <tr>\n",
       "      <th>mean</th>\n",
       "      <td>19.559692</td>\n",
       "      <td>13.106201</td>\n",
       "      <td>2306.318237</td>\n",
       "      <td>210.479980</td>\n",
       "      <td>150.058228</td>\n",
       "      <td>1.884554</td>\n",
       "      <td>2.791998</td>\n",
       "      <td>1.973857e+05</td>\n",
       "      <td>9.590299e+04</td>\n",
       "      <td>2.285317</td>\n",
       "      <td>...</td>\n",
       "      <td>21.526849</td>\n",
       "      <td>1.127505</td>\n",
       "      <td>8.277960</td>\n",
       "      <td>12.388586</td>\n",
       "      <td>109.793799</td>\n",
       "      <td>185.315796</td>\n",
       "      <td>NaN</td>\n",
       "      <td>1763.456299</td>\n",
       "      <td>1.328126e+06</td>\n",
       "      <td>83.968872</td>\n",
       "    </tr>\n",
       "    <tr>\n",
       "      <th>std</th>\n",
       "      <td>53.353799</td>\n",
       "      <td>29.891726</td>\n",
       "      <td>1633.617322</td>\n",
       "      <td>198.980146</td>\n",
       "      <td>160.478980</td>\n",
       "      <td>2.479493</td>\n",
       "      <td>5.212456</td>\n",
       "      <td>2.398375e+05</td>\n",
       "      <td>1.408417e+05</td>\n",
       "      <td>5.307038</td>\n",
       "      <td>...</td>\n",
       "      <td>71.141340</td>\n",
       "      <td>5.708347</td>\n",
       "      <td>13.874978</td>\n",
       "      <td>22.281318</td>\n",
       "      <td>114.419221</td>\n",
       "      <td>191.000603</td>\n",
       "      <td>NaN</td>\n",
       "      <td>2482.104511</td>\n",
       "      <td>4.220194e+05</td>\n",
       "      <td>18.401905</td>\n",
       "    </tr>\n",
       "    <tr>\n",
       "      <th>min</th>\n",
       "      <td>0.000000</td>\n",
       "      <td>0.000000</td>\n",
       "      <td>109.000000</td>\n",
       "      <td>6.000000</td>\n",
       "      <td>7.000000</td>\n",
       "      <td>0.000000</td>\n",
       "      <td>0.000000</td>\n",
       "      <td>2.780000e+02</td>\n",
       "      <td>1.498000e+03</td>\n",
       "      <td>0.000000</td>\n",
       "      <td>...</td>\n",
       "      <td>0.000000</td>\n",
       "      <td>0.000000</td>\n",
       "      <td>0.000000</td>\n",
       "      <td>0.000000</td>\n",
       "      <td>0.000000</td>\n",
       "      <td>0.200000</td>\n",
       "      <td>NaN</td>\n",
       "      <td>55.000000</td>\n",
       "      <td>2.000000e+00</td>\n",
       "      <td>0.000000</td>\n",
       "    </tr>\n",
       "    <tr>\n",
       "      <th>25%</th>\n",
       "      <td>2.000000</td>\n",
       "      <td>0.000000</td>\n",
       "      <td>1012.000000</td>\n",
       "      <td>86.000000</td>\n",
       "      <td>63.000000</td>\n",
       "      <td>0.400000</td>\n",
       "      <td>0.200000</td>\n",
       "      <td>3.409150e+04</td>\n",
       "      <td>2.291600e+04</td>\n",
       "      <td>0.000000</td>\n",
       "      <td>...</td>\n",
       "      <td>0.000000</td>\n",
       "      <td>0.000000</td>\n",
       "      <td>0.600000</td>\n",
       "      <td>0.600000</td>\n",
       "      <td>25.000000</td>\n",
       "      <td>45.400000</td>\n",
       "      <td>NaN</td>\n",
       "      <td>231.000000</td>\n",
       "      <td>1.042624e+06</td>\n",
       "      <td>81.000000</td>\n",
       "    </tr>\n",
       "    <tr>\n",
       "      <th>50%</th>\n",
       "      <td>7.000000</td>\n",
       "      <td>1.000000</td>\n",
       "      <td>2051.500000</td>\n",
       "      <td>166.000000</td>\n",
       "      <td>117.000000</td>\n",
       "      <td>0.800000</td>\n",
       "      <td>1.200000</td>\n",
       "      <td>1.254735e+05</td>\n",
       "      <td>4.661900e+04</td>\n",
       "      <td>0.000000</td>\n",
       "      <td>...</td>\n",
       "      <td>0.000000</td>\n",
       "      <td>0.000000</td>\n",
       "      <td>2.800000</td>\n",
       "      <td>3.800000</td>\n",
       "      <td>63.800000</td>\n",
       "      <td>120.400000</td>\n",
       "      <td>NaN</td>\n",
       "      <td>579.000000</td>\n",
       "      <td>1.289290e+06</td>\n",
       "      <td>89.000000</td>\n",
       "    </tr>\n",
       "    <tr>\n",
       "      <th>75%</th>\n",
       "      <td>20.000000</td>\n",
       "      <td>10.000000</td>\n",
       "      <td>3317.250000</td>\n",
       "      <td>279.000000</td>\n",
       "      <td>185.000000</td>\n",
       "      <td>2.200000</td>\n",
       "      <td>2.800000</td>\n",
       "      <td>2.678288e+05</td>\n",
       "      <td>1.061010e+05</td>\n",
       "      <td>2.400000</td>\n",
       "      <td>...</td>\n",
       "      <td>0.000000</td>\n",
       "      <td>0.600000</td>\n",
       "      <td>9.765000</td>\n",
       "      <td>13.800000</td>\n",
       "      <td>159.600000</td>\n",
       "      <td>251.800000</td>\n",
       "      <td>NaN</td>\n",
       "      <td>2002.250000</td>\n",
       "      <td>1.730380e+06</td>\n",
       "      <td>94.000000</td>\n",
       "    </tr>\n",
       "    <tr>\n",
       "      <th>max</th>\n",
       "      <td>1845.000000</td>\n",
       "      <td>575.000000</td>\n",
       "      <td>12493.000000</td>\n",
       "      <td>5318.000000</td>\n",
       "      <td>5456.000000</td>\n",
       "      <td>20.120000</td>\n",
       "      <td>59.560000</td>\n",
       "      <td>2.526649e+06</td>\n",
       "      <td>1.801623e+06</td>\n",
       "      <td>81.440000</td>\n",
       "      <td>...</td>\n",
       "      <td>1237.000000</td>\n",
       "      <td>211.580000</td>\n",
       "      <td>141.200000</td>\n",
       "      <td>292.610000</td>\n",
       "      <td>899.800000</td>\n",
       "      <td>1365.000000</td>\n",
       "      <td>NaN</td>\n",
       "      <td>12027.000000</td>\n",
       "      <td>2.243187e+06</td>\n",
       "      <td>99.000000</td>\n",
       "    </tr>\n",
       "  </tbody>\n",
       "</table>\n",
       "<p>11 rows × 22 columns</p>\n",
       "</div>"
      ],
      "text/plain": [
       "              lread       lwrite         scall        sread       swrite  \\\n",
       "count   8192.000000  8192.000000   8192.000000  8192.000000  8192.000000   \n",
       "unique          NaN          NaN           NaN          NaN          NaN   \n",
       "top             NaN          NaN           NaN          NaN          NaN   \n",
       "freq            NaN          NaN           NaN          NaN          NaN   \n",
       "mean      19.559692    13.106201   2306.318237   210.479980   150.058228   \n",
       "std       53.353799    29.891726   1633.617322   198.980146   160.478980   \n",
       "min        0.000000     0.000000    109.000000     6.000000     7.000000   \n",
       "25%        2.000000     0.000000   1012.000000    86.000000    63.000000   \n",
       "50%        7.000000     1.000000   2051.500000   166.000000   117.000000   \n",
       "75%       20.000000    10.000000   3317.250000   279.000000   185.000000   \n",
       "max     1845.000000   575.000000  12493.000000  5318.000000  5456.000000   \n",
       "\n",
       "               fork         exec         rchar         wchar        pgout  \\\n",
       "count   8192.000000  8192.000000  8.088000e+03  8.177000e+03  8192.000000   \n",
       "unique          NaN          NaN           NaN           NaN          NaN   \n",
       "top             NaN          NaN           NaN           NaN          NaN   \n",
       "freq            NaN          NaN           NaN           NaN          NaN   \n",
       "mean       1.884554     2.791998  1.973857e+05  9.590299e+04     2.285317   \n",
       "std        2.479493     5.212456  2.398375e+05  1.408417e+05     5.307038   \n",
       "min        0.000000     0.000000  2.780000e+02  1.498000e+03     0.000000   \n",
       "25%        0.400000     0.200000  3.409150e+04  2.291600e+04     0.000000   \n",
       "50%        0.800000     1.200000  1.254735e+05  4.661900e+04     0.000000   \n",
       "75%        2.200000     2.800000  2.678288e+05  1.061010e+05     2.400000   \n",
       "max       20.120000    59.560000  2.526649e+06  1.801623e+06    81.440000   \n",
       "\n",
       "        ...       pgscan         atch         pgin        ppgin         pflt  \\\n",
       "count   ...  8192.000000  8192.000000  8192.000000  8192.000000  8192.000000   \n",
       "unique  ...          NaN          NaN          NaN          NaN          NaN   \n",
       "top     ...          NaN          NaN          NaN          NaN          NaN   \n",
       "freq    ...          NaN          NaN          NaN          NaN          NaN   \n",
       "mean    ...    21.526849     1.127505     8.277960    12.388586   109.793799   \n",
       "std     ...    71.141340     5.708347    13.874978    22.281318   114.419221   \n",
       "min     ...     0.000000     0.000000     0.000000     0.000000     0.000000   \n",
       "25%     ...     0.000000     0.000000     0.600000     0.600000    25.000000   \n",
       "50%     ...     0.000000     0.000000     2.800000     3.800000    63.800000   \n",
       "75%     ...     0.000000     0.600000     9.765000    13.800000   159.600000   \n",
       "max     ...  1237.000000   211.580000   141.200000   292.610000   899.800000   \n",
       "\n",
       "               vflt         runqsz       freemem      freeswap          usr  \n",
       "count   8192.000000           8192   8192.000000  8.192000e+03  8192.000000  \n",
       "unique          NaN              2           NaN           NaN          NaN  \n",
       "top             NaN  Not_CPU_Bound           NaN           NaN          NaN  \n",
       "freq            NaN           4331           NaN           NaN          NaN  \n",
       "mean     185.315796            NaN   1763.456299  1.328126e+06    83.968872  \n",
       "std      191.000603            NaN   2482.104511  4.220194e+05    18.401905  \n",
       "min        0.200000            NaN     55.000000  2.000000e+00     0.000000  \n",
       "25%       45.400000            NaN    231.000000  1.042624e+06    81.000000  \n",
       "50%      120.400000            NaN    579.000000  1.289290e+06    89.000000  \n",
       "75%      251.800000            NaN   2002.250000  1.730380e+06    94.000000  \n",
       "max     1365.000000            NaN  12027.000000  2.243187e+06    99.000000  \n",
       "\n",
       "[11 rows x 22 columns]"
      ]
     },
     "execution_count": 28,
     "metadata": {},
     "output_type": "execute_result"
    }
   ],
   "source": [
    "#description of dataset\n",
    "df.describe(include = 'all' )"
   ]
  },
  {
   "cell_type": "code",
   "execution_count": 30,
   "id": "fa1ef4bd",
   "metadata": {},
   "outputs": [
    {
     "data": {
      "text/plain": [
       "(8192, 22)"
      ]
     },
     "execution_count": 30,
     "metadata": {},
     "output_type": "execute_result"
    }
   ],
   "source": [
    "#shape of the dataset\n",
    "df.shape"
   ]
  },
  {
   "cell_type": "code",
   "execution_count": 34,
   "id": "ac6671b6",
   "metadata": {},
   "outputs": [
    {
     "name": "stdout",
     "output_type": "stream",
     "text": [
      "Number of duplicate rows = 0\n"
     ]
    }
   ],
   "source": [
    "#checking for duplicate rows\n",
    "# Are there any duplicates\n",
    "duplicate = df.duplicated()\n",
    "print('Number of duplicate rows = %d' % (duplicate.sum()))\n",
    "#df[duplicate]"
   ]
  },
  {
   "cell_type": "code",
   "execution_count": 35,
   "id": "eed2897b",
   "metadata": {},
   "outputs": [
    {
     "data": {
      "text/html": [
       "<div>\n",
       "<style scoped>\n",
       "    .dataframe tbody tr th:only-of-type {\n",
       "        vertical-align: middle;\n",
       "    }\n",
       "\n",
       "    .dataframe tbody tr th {\n",
       "        vertical-align: top;\n",
       "    }\n",
       "\n",
       "    .dataframe thead th {\n",
       "        text-align: right;\n",
       "    }\n",
       "</style>\n",
       "<table border=\"1\" class=\"dataframe\">\n",
       "  <thead>\n",
       "    <tr style=\"text-align: right;\">\n",
       "      <th></th>\n",
       "      <th>lread</th>\n",
       "      <th>lwrite</th>\n",
       "    </tr>\n",
       "  </thead>\n",
       "  <tbody>\n",
       "    <tr>\n",
       "      <th>count</th>\n",
       "      <td>8192.000000</td>\n",
       "      <td>8192.000000</td>\n",
       "    </tr>\n",
       "    <tr>\n",
       "      <th>mean</th>\n",
       "      <td>19.559692</td>\n",
       "      <td>13.106201</td>\n",
       "    </tr>\n",
       "    <tr>\n",
       "      <th>std</th>\n",
       "      <td>53.353799</td>\n",
       "      <td>29.891726</td>\n",
       "    </tr>\n",
       "    <tr>\n",
       "      <th>min</th>\n",
       "      <td>0.000000</td>\n",
       "      <td>0.000000</td>\n",
       "    </tr>\n",
       "    <tr>\n",
       "      <th>25%</th>\n",
       "      <td>2.000000</td>\n",
       "      <td>0.000000</td>\n",
       "    </tr>\n",
       "    <tr>\n",
       "      <th>50%</th>\n",
       "      <td>7.000000</td>\n",
       "      <td>1.000000</td>\n",
       "    </tr>\n",
       "    <tr>\n",
       "      <th>75%</th>\n",
       "      <td>20.000000</td>\n",
       "      <td>10.000000</td>\n",
       "    </tr>\n",
       "    <tr>\n",
       "      <th>max</th>\n",
       "      <td>1845.000000</td>\n",
       "      <td>575.000000</td>\n",
       "    </tr>\n",
       "  </tbody>\n",
       "</table>\n",
       "</div>"
      ],
      "text/plain": [
       "             lread       lwrite\n",
       "count  8192.000000  8192.000000\n",
       "mean     19.559692    13.106201\n",
       "std      53.353799    29.891726\n",
       "min       0.000000     0.000000\n",
       "25%       2.000000     0.000000\n",
       "50%       7.000000     1.000000\n",
       "75%      20.000000    10.000000\n",
       "max    1845.000000   575.000000"
      ]
     },
     "execution_count": 35,
     "metadata": {},
     "output_type": "execute_result"
    }
   ],
   "source": [
    "#Exploratory Data Analysis\n",
    "#Univariate Analysis\n",
    "df[['lread','lwrite']].describe()"
   ]
  },
  {
   "cell_type": "markdown",
   "id": "0ce3c0ed",
   "metadata": {},
   "source": [
    "Insights:\n",
    "The reads between system and memory has maximum value than writes between system and memory."
   ]
  },
  {
   "cell_type": "code",
   "execution_count": 36,
   "id": "59fc90d8",
   "metadata": {},
   "outputs": [
    {
     "data": {
      "image/png": "[encoded data removed]",
      "text/plain": [
       "<Figure size 720x576 with 4 Axes>"
      ]
     },
     "metadata": {
      "needs_background": "light"
     },
     "output_type": "display_data"
    }
   ],
   "source": [
    "fig, axes = plt.subplots(nrows=2,ncols=2)\n",
    "fig.set_size_inches(10,8)\n",
    "sns.histplot(df['lread'], kde=True, ax=axes[0][0])\n",
    "sns.boxplot(x='lread', data=df, ax=axes[0][1])\n",
    "sns.histplot(df['lwrite'] , kde=True, ax=axes[1][0])\n",
    "sns.boxplot(x='lwrite', data=df , ax=axes[1][1])\n",
    "plt.show()"
   ]
  },
  {
   "cell_type": "markdown",
   "id": "f943562b",
   "metadata": {},
   "source": [
    "Insights:\n",
    "There are more outliers in writes between system and memory than reads between system and memory"
   ]
  },
  {
   "cell_type": "code",
   "execution_count": 37,
   "id": "5024a971",
   "metadata": {},
   "outputs": [
    {
     "data": {
      "text/plain": [
       "Not_CPU_Bound    0.528687\n",
       "CPU_Bound        0.471313\n",
       "Name: runqsz, dtype: float64"
      ]
     },
     "execution_count": 37,
     "metadata": {},
     "output_type": "execute_result"
    }
   ],
   "source": [
    "#categorial varaible\n",
    "df['runqsz'].value_counts(normalize=True)"
   ]
  },
  {
   "cell_type": "markdown",
   "id": "03cad8c7",
   "metadata": {},
   "source": [
    "Insights :\n",
    "There are highest queue size process runs in Not_CPU_Bound than CPU-Bound."
   ]
  },
  {
   "cell_type": "code",
   "execution_count": 38,
   "id": "000ef73f",
   "metadata": {},
   "outputs": [
    {
     "data": {
      "text/plain": [
       "<AxesSubplot:xlabel='runqsz', ylabel='count'>"
      ]
     },
     "execution_count": 38,
     "metadata": {},
     "output_type": "execute_result"
    },
    {
     "data": {
      "image/png": "[encoded data removed]",
      "text/plain": [
       "<Figure size 432x288 with 1 Axes>"
      ]
     },
     "metadata": {
      "needs_background": "light"
     },
     "output_type": "display_data"
    }
   ],
   "source": [
    "sns.countplot(x='runqsz', data=df, palette='pastel')"
   ]
  },
  {
   "cell_type": "markdown",
   "id": "6848252a",
   "metadata": {},
   "source": [
    "Insights:\n",
    "Not_CPU_Bound has the highest count than the CPU_bound"
   ]
  },
  {
   "cell_type": "code",
   "execution_count": 39,
   "id": "d0d0bd3c",
   "metadata": {},
   "outputs": [
    {
     "data": {
      "text/plain": [
       "<matplotlib.collections.PathCollection at 0x2470c73f3d0>"
      ]
     },
     "execution_count": 39,
     "metadata": {},
     "output_type": "execute_result"
    },
    {
     "data": {
      "image/png": "[encoded data removed]",
      "text/plain": [
       "<Figure size 432x288 with 1 Axes>"
      ]
     },
     "metadata": {
      "needs_background": "light"
     },
     "output_type": "display_data"
    }
   ],
   "source": [
    "#Bivariate analysis\n",
    "#Numeric vs Numeric\n",
    "plt.scatter(df['sread'],df['swrite'])"
   ]
  },
  {
   "cell_type": "markdown",
   "id": "8110d94f",
   "metadata": {},
   "source": [
    "Insight:\n",
    "There is a positive correlation between sread and swrite."
   ]
  },
  {
   "cell_type": "code",
   "execution_count": 40,
   "id": "825f94b9",
   "metadata": {},
   "outputs": [
    {
     "data": {
      "text/plain": [
       "<matplotlib.collections.PathCollection at 0x2470c791b50>"
      ]
     },
     "execution_count": 40,
     "metadata": {},
     "output_type": "execute_result"
    },
    {
     "data": {
      "image/png": "[encoded data removed]",
      "text/plain": [
       "<Figure size 432x288 with 1 Axes>"
      ]
     },
     "metadata": {
      "needs_background": "light"
     },
     "output_type": "display_data"
    }
   ],
   "source": [
    "plt.scatter(df['pflt'],df['vflt'])"
   ]
  },
  {
   "cell_type": "markdown",
   "id": "5d2fe7d5",
   "metadata": {},
   "source": [
    "Insight:\n",
    "There is a highest positive correlation between pflt and vflt."
   ]
  },
  {
   "cell_type": "code",
   "execution_count": 41,
   "id": "47e02cda",
   "metadata": {},
   "outputs": [
    {
     "data": {
      "text/plain": [
       "<AxesSubplot:xlabel='runqsz', ylabel='usr'>"
      ]
     },
     "execution_count": 41,
     "metadata": {},
     "output_type": "execute_result"
    },
    {
     "data": {
      "image/png": "[encoded data removed]",
      "text/plain": [
       "<Figure size 432x288 with 1 Axes>"
      ]
     },
     "metadata": {
      "needs_background": "light"
     },
     "output_type": "display_data"
    }
   ],
   "source": [
    "#Categorical vs Numeric\n",
    "fig_dims = (12, 5)\n",
    "sns.boxplot(x='runqsz', y='usr', data=df)"
   ]
  },
  {
   "cell_type": "code",
   "execution_count": 52,
   "id": "447e1b39",
   "metadata": {},
   "outputs": [
    {
     "data": {
      "text/plain": [
       "<seaborn.axisgrid.PairGrid at 0x2476e2b99d0>"
      ]
     },
     "execution_count": 52,
     "metadata": {},
     "output_type": "execute_result"
    },
    {
     "data": {
      "image/png": "[encoded data removed]",
      "text/plain": [
       "<Figure size 900x900 with 30 Axes>"
      ]
     },
     "metadata": {
      "needs_background": "light"
     },
     "output_type": "display_data"
    }
   ],
   "source": [
    "sns.pairplot(data=df[['lread','lwrite','scall','sread','swrite']])"
   ]
  },
  {
   "cell_type": "code",
   "execution_count": 47,
   "id": "ecd9c5fd",
   "metadata": {},
   "outputs": [
    {
     "data": {
      "image/png": "[encoded data removed]",
      "text/plain": [
       "<Figure size 1080x1080 with 2 Axes>"
      ]
     },
     "metadata": {
      "needs_background": "light"
     },
     "output_type": "display_data"
    }
   ],
   "source": [
    "plt.figure(figsize=(15,15))\n",
    "sns.heatmap(df.corr(),annot=True,fmt=\".2f\");"
   ]
  },
  {
   "cell_type": "code",
   "execution_count": 57,
   "id": "6dd291f1",
   "metadata": {},
   "outputs": [
    {
     "name": "stdout",
     "output_type": "stream",
     "text": [
      "usr                   0     1     2      46     48     49      50     51  \\\n",
      "runqsz                                                                     \n",
      "CPU_Bound      86.459364  85.0  82.0    NaN  182.0  193.0  200.75  146.5   \n",
      "Not_CPU_Bound        NaN   NaN   NaN  168.0    NaN    NaN     NaN    NaN   \n",
      "\n",
      "usr               52     53  ...           90           91           92  \\\n",
      "runqsz                       ...                                          \n",
      "CPU_Bound      245.0  208.6  ...  1370.717172  1449.442786  1410.969072   \n",
      "Not_CPU_Bound  187.0    NaN  ...  1801.850575  1543.020243  1719.030172   \n",
      "\n",
      "usr                     93           94           95           96  \\\n",
      "runqsz                                                              \n",
      "CPU_Bound      1541.285024  1717.817204  1684.440252  1994.439394   \n",
      "Not_CPU_Bound  1787.553922  1611.319149  2489.186992  2947.902878   \n",
      "\n",
      "usr                     97           98           99  \n",
      "runqsz                                                \n",
      "CPU_Bound      2595.655172  1948.742857  6193.000000  \n",
      "Not_CPU_Bound  4578.470588  5994.655977  6884.711864  \n",
      "\n",
      "[2 rows x 56 columns]\n"
     ]
    },
    {
     "data": {
      "image/png": "[encoded data removed]",
      "text/plain": [
       "<Figure size 1080x1080 with 2 Axes>"
      ]
     },
     "metadata": {
      "needs_background": "light"
     },
     "output_type": "display_data"
    }
   ],
   "source": [
    "#multivariate analysis\n",
    "result = pd.pivot_table(data=df, index='runqsz', columns='usr',values='freemem')\n",
    "print(result)\n",
    "\n",
    "#Heat map\n",
    "plt.figure(figsize=(15,15))\n",
    "sns.heatmap(result, annot=True, cmap = 'RdYlGn')\n",
    "\n",
    "plt.show()"
   ]
  },
  {
   "cell_type": "markdown",
   "id": "4b44586f",
   "metadata": {},
   "source": [
    "Insights:\n",
    "1. 'usr’  is the target variable and all other are predector variables.\n",
    "2. Looking into the fields in the univariate analsysis, we see there are outliers that needs to be treated\n",
    "3. Bivariate and multivariate analysis indicates that there is strong positive correlation between the target variable usr and the predictor variables freemem and freeswap.\n",
    "4. We also notice that there are no duplicates records in the given data set."
   ]
  },
  {
   "cell_type": "markdown",
   "id": "8f71bfd7",
   "metadata": {},
   "source": [
    "## 1.2 Impute null values if present, also check for the values which are equal to zero. Do they have any meaning or do we need to change them or drop them? Check for the possibility of creating new features if required. Also check for outliers and duplicates if there."
   ]
  },
  {
   "cell_type": "code",
   "execution_count": 58,
   "id": "59b5c85f",
   "metadata": {},
   "outputs": [
    {
     "data": {
      "text/plain": [
       "lread         0\n",
       "lwrite        0\n",
       "scall         0\n",
       "sread         0\n",
       "swrite        0\n",
       "fork          0\n",
       "exec          0\n",
       "rchar       104\n",
       "wchar        15\n",
       "pgout         0\n",
       "ppgout        0\n",
       "pgfree        0\n",
       "pgscan        0\n",
       "atch          0\n",
       "pgin          0\n",
       "ppgin         0\n",
       "pflt          0\n",
       "vflt          0\n",
       "runqsz        0\n",
       "freemem       0\n",
       "freeswap      0\n",
       "usr           0\n",
       "dtype: int64"
      ]
     },
     "execution_count": 58,
     "metadata": {},
     "output_type": "execute_result"
    }
   ],
   "source": [
    "#check null values\n",
    "df.isnull().sum()"
   ]
  },
  {
   "cell_type": "code",
   "execution_count": 75,
   "id": "f6eb590d",
   "metadata": {},
   "outputs": [],
   "source": [
    "df1 = df\n",
    "df1['rchar']=df1['rchar'].fillna(df1['rchar'].mean())\n",
    "df1['wchar']=df1['wchar'].fillna(df1['wchar'].mean())"
   ]
  },
  {
   "cell_type": "code",
   "execution_count": 76,
   "id": "6c0783e6",
   "metadata": {},
   "outputs": [
    {
     "data": {
      "text/plain": [
       "lread       0\n",
       "lwrite      0\n",
       "scall       0\n",
       "sread       0\n",
       "swrite      0\n",
       "fork        0\n",
       "exec        0\n",
       "rchar       0\n",
       "wchar       0\n",
       "pgout       0\n",
       "ppgout      0\n",
       "pgfree      0\n",
       "pgscan      0\n",
       "atch        0\n",
       "pgin        0\n",
       "ppgin       0\n",
       "pflt        0\n",
       "vflt        0\n",
       "runqsz      0\n",
       "freemem     0\n",
       "freeswap    0\n",
       "usr         0\n",
       "dtype: int64"
      ]
     },
     "execution_count": 76,
     "metadata": {},
     "output_type": "execute_result"
    }
   ],
   "source": [
    "df1.isnull().sum()"
   ]
  },
  {
   "cell_type": "code",
   "execution_count": 77,
   "id": "ee6bd81e",
   "metadata": {},
   "outputs": [
    {
     "data": {
      "text/plain": [
       "0       False\n",
       "1       False\n",
       "2       False\n",
       "3       False\n",
       "4       False\n",
       "        ...  \n",
       "8187    False\n",
       "8188    False\n",
       "8189    False\n",
       "8190    False\n",
       "8191    False\n",
       "Length: 8192, dtype: bool"
      ]
     },
     "execution_count": 77,
     "metadata": {},
     "output_type": "execute_result"
    }
   ],
   "source": [
    "df1.duplicated()"
   ]
  },
  {
   "cell_type": "code",
   "execution_count": 78,
   "id": "a8bd2145",
   "metadata": {},
   "outputs": [
    {
     "name": "stderr",
     "output_type": "stream",
     "text": [
      "C:\\Users\\Dell\\anaconda3\\lib\\site-packages\\seaborn\\_decorators.py:36: FutureWarning: Pass the following variable as a keyword arg: x. From version 0.12, the only valid positional argument will be `data`, and passing other arguments without an explicit keyword will result in an error or misinterpretation.\n",
      "  warnings.warn(\n"
     ]
    },
    {
     "data": {
      "text/plain": [
       "<AxesSubplot:xlabel='wchar'>"
      ]
     },
     "execution_count": 78,
     "metadata": {},
     "output_type": "execute_result"
    },
    {
     "data": {
      "image/png": "[encoded data removed]",
      "text/plain": [
       "<Figure size 432x288 with 1 Axes>"
      ]
     },
     "metadata": {
      "needs_background": "light"
     },
     "output_type": "display_data"
    }
   ],
   "source": [
    "sns.boxplot(df1['wchar'])"
   ]
  },
  {
   "cell_type": "markdown",
   "id": "744dc75e",
   "metadata": {},
   "source": [
    "Insights:\n",
    "1. In this case, it is not necessary to scale the data as, we'll get an equivalent solution whether we apply some kind of linear scaling or not. For example, to find the best parameter values of a linear regression model, there is a closed-form solution, called the Normal Equation. If our implementation makes use of that equation, there is no stepwise optimization process, so feature scaling is not necessary.\n",
    "2. Removing the records with 0 values is not a necessity, as it might not have an impact on the model building.\n",
    "3. Observed null values in 2 fields rchar and wchar.\n",
    "4. We imputed the null values with median value of the data set\n",
    "5. Most of the of the continuous fields had outliers."
   ]
  },
  {
   "cell_type": "markdown",
   "id": "48929132",
   "metadata": {},
   "source": [
    "## 1.3 Encode the data (having string values) for Modelling. Split the data into train and test (70:30). Apply Linear regression using scikit learn. Perform checks for significant variables using appropriate method from statsmodel. Create multiple models and check the performance of Predictions on Train and Test sets using Rsquare, RMSE & Adj Rsquare. Compare these models and select the best one with appropriate reasoning."
   ]
  },
  {
   "cell_type": "code",
   "execution_count": 327,
   "id": "190a6c4e",
   "metadata": {},
   "outputs": [],
   "source": [
    "#Encoding the data for modelling\n",
    "df2 = pd.get_dummies(df, prefix={'runqsz':'runqsz' },\n",
    "                          drop_first=True)"
   ]
  },
  {
   "cell_type": "code",
   "execution_count": 328,
   "id": "f1e3b194",
   "metadata": {},
   "outputs": [
    {
     "data": {
      "text/html": [
       "<div>\n",
       "<style scoped>\n",
       "    .dataframe tbody tr th:only-of-type {\n",
       "        vertical-align: middle;\n",
       "    }\n",
       "\n",
       "    .dataframe tbody tr th {\n",
       "        vertical-align: top;\n",
       "    }\n",
       "\n",
       "    .dataframe thead th {\n",
       "        text-align: right;\n",
       "    }\n",
       "</style>\n",
       "<table border=\"1\" class=\"dataframe\">\n",
       "  <thead>\n",
       "    <tr style=\"text-align: right;\">\n",
       "      <th></th>\n",
       "      <th>lread</th>\n",
       "      <th>lwrite</th>\n",
       "      <th>scall</th>\n",
       "      <th>sread</th>\n",
       "      <th>swrite</th>\n",
       "      <th>fork</th>\n",
       "      <th>exec</th>\n",
       "      <th>rchar</th>\n",
       "      <th>wchar</th>\n",
       "      <th>pgout</th>\n",
       "      <th>...</th>\n",
       "      <th>pgscan</th>\n",
       "      <th>atch</th>\n",
       "      <th>pgin</th>\n",
       "      <th>ppgin</th>\n",
       "      <th>pflt</th>\n",
       "      <th>vflt</th>\n",
       "      <th>freemem</th>\n",
       "      <th>freeswap</th>\n",
       "      <th>usr</th>\n",
       "      <th>runqsz_Not_CPU_Bound</th>\n",
       "    </tr>\n",
       "  </thead>\n",
       "  <tbody>\n",
       "    <tr>\n",
       "      <th>0</th>\n",
       "      <td>1</td>\n",
       "      <td>0</td>\n",
       "      <td>2147</td>\n",
       "      <td>79</td>\n",
       "      <td>68</td>\n",
       "      <td>0.2</td>\n",
       "      <td>0.2</td>\n",
       "      <td>40671.0</td>\n",
       "      <td>53995.0</td>\n",
       "      <td>0.0</td>\n",
       "      <td>...</td>\n",
       "      <td>0.0</td>\n",
       "      <td>0.0</td>\n",
       "      <td>1.6</td>\n",
       "      <td>2.6</td>\n",
       "      <td>16.00</td>\n",
       "      <td>26.40</td>\n",
       "      <td>4670</td>\n",
       "      <td>1730946</td>\n",
       "      <td>95</td>\n",
       "      <td>0</td>\n",
       "    </tr>\n",
       "    <tr>\n",
       "      <th>1</th>\n",
       "      <td>0</td>\n",
       "      <td>0</td>\n",
       "      <td>170</td>\n",
       "      <td>18</td>\n",
       "      <td>21</td>\n",
       "      <td>0.2</td>\n",
       "      <td>0.2</td>\n",
       "      <td>448.0</td>\n",
       "      <td>8385.0</td>\n",
       "      <td>0.0</td>\n",
       "      <td>...</td>\n",
       "      <td>0.0</td>\n",
       "      <td>0.0</td>\n",
       "      <td>0.0</td>\n",
       "      <td>0.0</td>\n",
       "      <td>15.63</td>\n",
       "      <td>16.83</td>\n",
       "      <td>7278</td>\n",
       "      <td>1869002</td>\n",
       "      <td>97</td>\n",
       "      <td>1</td>\n",
       "    </tr>\n",
       "    <tr>\n",
       "      <th>2</th>\n",
       "      <td>15</td>\n",
       "      <td>3</td>\n",
       "      <td>2162</td>\n",
       "      <td>159</td>\n",
       "      <td>119</td>\n",
       "      <td>2.0</td>\n",
       "      <td>2.4</td>\n",
       "      <td>NaN</td>\n",
       "      <td>31950.0</td>\n",
       "      <td>0.0</td>\n",
       "      <td>...</td>\n",
       "      <td>0.0</td>\n",
       "      <td>1.2</td>\n",
       "      <td>6.0</td>\n",
       "      <td>9.4</td>\n",
       "      <td>150.20</td>\n",
       "      <td>220.20</td>\n",
       "      <td>702</td>\n",
       "      <td>1021237</td>\n",
       "      <td>87</td>\n",
       "      <td>1</td>\n",
       "    </tr>\n",
       "    <tr>\n",
       "      <th>3</th>\n",
       "      <td>0</td>\n",
       "      <td>0</td>\n",
       "      <td>160</td>\n",
       "      <td>12</td>\n",
       "      <td>16</td>\n",
       "      <td>0.2</td>\n",
       "      <td>0.2</td>\n",
       "      <td>NaN</td>\n",
       "      <td>8670.0</td>\n",
       "      <td>0.0</td>\n",
       "      <td>...</td>\n",
       "      <td>0.0</td>\n",
       "      <td>0.0</td>\n",
       "      <td>0.2</td>\n",
       "      <td>0.2</td>\n",
       "      <td>15.60</td>\n",
       "      <td>16.80</td>\n",
       "      <td>7248</td>\n",
       "      <td>1863704</td>\n",
       "      <td>98</td>\n",
       "      <td>1</td>\n",
       "    </tr>\n",
       "    <tr>\n",
       "      <th>4</th>\n",
       "      <td>5</td>\n",
       "      <td>1</td>\n",
       "      <td>330</td>\n",
       "      <td>39</td>\n",
       "      <td>38</td>\n",
       "      <td>0.4</td>\n",
       "      <td>0.4</td>\n",
       "      <td>NaN</td>\n",
       "      <td>12185.0</td>\n",
       "      <td>0.0</td>\n",
       "      <td>...</td>\n",
       "      <td>0.0</td>\n",
       "      <td>0.0</td>\n",
       "      <td>1.0</td>\n",
       "      <td>1.2</td>\n",
       "      <td>37.80</td>\n",
       "      <td>47.60</td>\n",
       "      <td>633</td>\n",
       "      <td>1760253</td>\n",
       "      <td>90</td>\n",
       "      <td>1</td>\n",
       "    </tr>\n",
       "  </tbody>\n",
       "</table>\n",
       "<p>5 rows × 22 columns</p>\n",
       "</div>"
      ],
      "text/plain": [
       "   lread  lwrite  scall  sread  swrite  fork  exec    rchar    wchar  pgout  \\\n",
       "0      1       0   2147     79      68   0.2   0.2  40671.0  53995.0    0.0   \n",
       "1      0       0    170     18      21   0.2   0.2    448.0   8385.0    0.0   \n",
       "2     15       3   2162    159     119   2.0   2.4      NaN  31950.0    0.0   \n",
       "3      0       0    160     12      16   0.2   0.2      NaN   8670.0    0.0   \n",
       "4      5       1    330     39      38   0.4   0.4      NaN  12185.0    0.0   \n",
       "\n",
       "   ...  pgscan  atch  pgin  ppgin    pflt    vflt  freemem  freeswap  usr  \\\n",
       "0  ...     0.0   0.0   1.6    2.6   16.00   26.40     4670   1730946   95   \n",
       "1  ...     0.0   0.0   0.0    0.0   15.63   16.83     7278   1869002   97   \n",
       "2  ...     0.0   1.2   6.0    9.4  150.20  220.20      702   1021237   87   \n",
       "3  ...     0.0   0.0   0.2    0.2   15.60   16.80     7248   1863704   98   \n",
       "4  ...     0.0   0.0   1.0    1.2   37.80   47.60      633   1760253   90   \n",
       "\n",
       "   runqsz_Not_CPU_Bound  \n",
       "0                     0  \n",
       "1                     1  \n",
       "2                     1  \n",
       "3                     1  \n",
       "4                     1  \n",
       "\n",
       "[5 rows x 22 columns]"
      ]
     },
     "execution_count": 328,
     "metadata": {},
     "output_type": "execute_result"
    }
   ],
   "source": [
    "#printing top 5 rows\n",
    "df2.head()"
   ]
  },
  {
   "cell_type": "code",
   "execution_count": 329,
   "id": "63d85d83",
   "metadata": {},
   "outputs": [],
   "source": [
    "#dropping nan values\n",
    "df2 = df2.dropna()"
   ]
  },
  {
   "cell_type": "code",
   "execution_count": 330,
   "id": "7acd3a43",
   "metadata": {},
   "outputs": [],
   "source": [
    "#Getting train and test variables\n",
    "# independent variables\n",
    "X = df2.drop([\"usr\"], axis=1)\n",
    "# dependent variable\n",
    "y = df2[[\"usr\"]]"
   ]
  },
  {
   "cell_type": "code",
   "execution_count": 331,
   "id": "4ce14099",
   "metadata": {},
   "outputs": [],
   "source": [
    "# let's add the intercept to data\n",
    "X = sm.add_constant(X)"
   ]
  },
  {
   "cell_type": "code",
   "execution_count": 332,
   "id": "aed95f4e",
   "metadata": {},
   "outputs": [],
   "source": [
    "#We will now split X and y into train and test sets in a 70:30 ratio.\n",
    "X_train, X_test, y_train, y_test = train_test_split(\n",
    "    X, y, test_size=0.30, random_state=1\n",
    ")"
   ]
  },
  {
   "cell_type": "code",
   "execution_count": 340,
   "id": "523036ba",
   "metadata": {},
   "outputs": [],
   "source": [
    "#Fit Linear Model\n",
    "olsmod = sm.OLS(y_train, X_train)\n",
    "olsres = olsmod.fit()"
   ]
  },
  {
   "cell_type": "code",
   "execution_count": 335,
   "id": "2fc0bba2",
   "metadata": {},
   "outputs": [
    {
     "name": "stdout",
     "output_type": "stream",
     "text": [
      "                            OLS Regression Results                            \n",
      "==============================================================================\n",
      "Dep. Variable:                    usr   R-squared:                       0.644\n",
      "Model:                            OLS   Adj. R-squared:                  0.643\n",
      "Method:                 Least Squares   F-statistic:                     485.4\n",
      "Date:                Sun, 27 Nov 2022   Prob (F-statistic):               0.00\n",
      "Time:                        15:56:02   Log-Likelihood:                -21589.\n",
      "No. Observations:                5658   AIC:                         4.322e+04\n",
      "Df Residuals:                    5636   BIC:                         4.337e+04\n",
      "Df Model:                          21                                         \n",
      "Covariance Type:            nonrobust                                         \n",
      "========================================================================================\n",
      "                           coef    std err          t      P>|t|      [0.025      0.975]\n",
      "----------------------------------------------------------------------------------------\n",
      "const                   42.4725      0.750     56.625      0.000      41.002      43.943\n",
      "lread                   -0.0202      0.003     -6.394      0.000      -0.026      -0.014\n",
      "lwrite                   0.0061      0.006      1.046      0.296      -0.005       0.018\n",
      "scall                    0.0010      0.000      6.952      0.000       0.001       0.001\n",
      "sread                    0.0011      0.002      0.549      0.583      -0.003       0.005\n",
      "swrite                  -0.0028      0.002     -1.321      0.187      -0.007       0.001\n",
      "fork                    -1.9307      0.249     -7.747      0.000      -2.419      -1.442\n",
      "exec                    -0.0339      0.049     -0.692      0.489      -0.130       0.062\n",
      "rchar                 -3.91e-06   8.71e-07     -4.490      0.000   -5.62e-06    -2.2e-06\n",
      "wchar                -1.048e-05   1.32e-06     -7.946      0.000   -1.31e-05   -7.89e-06\n",
      "pgout                   -0.2336      0.065     -3.577      0.000      -0.362      -0.106\n",
      "ppgout                   0.1325      0.038      3.488      0.000       0.058       0.207\n",
      "pgfree                  -0.0951      0.021     -4.633      0.000      -0.135      -0.055\n",
      "pgscan                   0.0166      0.006      2.755      0.006       0.005       0.028\n",
      "atch                     0.0009      0.026      0.034      0.973      -0.050       0.052\n",
      "pgin                     0.0721      0.031      2.361      0.018       0.012       0.132\n",
      "ppgin                   -0.0495      0.019     -2.538      0.011      -0.088      -0.011\n",
      "pflt                    -0.0418      0.004     -9.677      0.000      -0.050      -0.033\n",
      "vflt                     0.0245      0.003      7.204      0.000       0.018       0.031\n",
      "freemem                 -0.0017   7.65e-05    -22.246      0.000      -0.002      -0.002\n",
      "freeswap              3.347e-05   4.58e-07     73.074      0.000    3.26e-05    3.44e-05\n",
      "runqsz_Not_CPU_Bound     8.0753      0.310     26.091      0.000       7.469       8.682\n",
      "==============================================================================\n",
      "Omnibus:                     1307.990   Durbin-Watson:                   2.046\n",
      "Prob(Omnibus):                  0.000   Jarque-Bera (JB):             3513.591\n",
      "Skew:                          -1.232   Prob(JB):                         0.00\n",
      "Kurtosis:                       5.972   Cond. No.                     7.33e+06\n",
      "==============================================================================\n",
      "\n",
      "Notes:\n",
      "[1] Standard Errors assume that the covariance matrix of the errors is correctly specified.\n",
      "[2] The condition number is large, 7.33e+06. This might indicate that there are\n",
      "strong multicollinearity or other numerical problems.\n"
     ]
    }
   ],
   "source": [
    "# let's print the regression summary\n",
    "print(olsres.summary())"
   ]
  },
  {
   "cell_type": "markdown",
   "id": "7abdc27f",
   "metadata": {},
   "source": [
    "Insights 1: \n",
    "1. R-squared is always between 0 and 100%:\n",
    "2. 0% indicates that the model explains none of the variability of the response data around its mean.  100% indicates that the model explains all the variability of the response data around its mean. In general, the higher the R-squared, the better the model fits data.\n",
    "3. In this case, R-squared value for ols summary is 0.644 respectively , which indicates that more than 63% of observed variance can be explained by model’s inputs.\n",
    "\n",
    "Insights 2:\n",
    "1. Using the P>|t| result, we can infer that the variables like sread, fork, ppgout ,pgfree and pgin are the statistically insignificant variables, as their p-value is greater than 0.05. \n",
    "2. Omnibus test checks the normality of the residuals once the model is deployed. If the value is zero, it means the residuals are perfectly normal. Here, in the example prob(Omnibus) is 0 indicating that there is 0% chance that the residuals are normally distributed. For a model to be robust, besides checking R-squared and other rubrics, the residual distribution is also required to be normal ideally.\n",
    "3. This indicates that our model is not robust and not fit \n",
    "4. We can observe there are very strong multi collinearity present in the data set as the values are exceeding 10 or close to 0. Ideally, the values should be within 1 to 5.\n",
    "\n"
   ]
  },
  {
   "cell_type": "code",
   "execution_count": 317,
   "id": "6555da0d",
   "metadata": {},
   "outputs": [
    {
     "name": "stdout",
     "output_type": "stream",
     "text": [
      "VIF values: \n",
      "\n",
      "const                   26.269551\n",
      "lread                    1.390956\n",
      "lwrite                   1.341139\n",
      "scall                    2.504061\n",
      "sread                    6.604867\n",
      "swrite                   5.275647\n",
      "fork                    17.792436\n",
      "exec                     3.026109\n",
      "rchar                    1.992989\n",
      "wchar                    1.651887\n",
      "pgout                    5.269148\n",
      "ppgout                  14.812586\n",
      "pgfree                  19.169367\n",
      "pgscan                   7.965892\n",
      "atch                     1.091366\n",
      "pgin                     7.747432\n",
      "ppgin                    8.174250\n",
      "pflt                    11.400452\n",
      "vflt                    19.491280\n",
      "freemem                  1.671631\n",
      "freeswap                 1.750436\n",
      "runqsz_Not_CPU_Bound     1.115098\n",
      "dtype: float64\n",
      "\n"
     ]
    }
   ],
   "source": [
    "# let's check the VIF of the predictors\n",
    "from statsmodels.stats.outliers_influence import variance_inflation_factor\n",
    "\n",
    "vif_series1 = pd.Series(\n",
    "    [variance_inflation_factor(X_train.values, i) for i in range(X_train.shape[1])],\n",
    "    index=X_train.columns,\n",
    ")\n",
    "print(\"VIF values: \\n\\n{}\\n\".format(vif_series1))"
   ]
  },
  {
   "cell_type": "markdown",
   "id": "573292b3",
   "metadata": {},
   "source": [
    "1. The VIF values indicate that the features fork , pgout,ppgout , pgfree , pgscan ,sread,swrite,pflt ,pgin,ppgin and vflt  are correlated with one or more independent features.\n",
    "2. Multicollinearity affects only the specific independent variables that are correlated. Therefore, in this case, we can trust the p-values of acceleration, model year and origin variables.\n",
    "3. To treat multicollinearity, we will have to drop one or more of the correlated features (fork , pgout,ppgout , pgfree , pgscan  4.We will drop the variable that has the least impact on the adjusted R-squared of the model."
   ]
  },
  {
   "cell_type": "code",
   "execution_count": 318,
   "id": "6cfde724",
   "metadata": {},
   "outputs": [],
   "source": [
    "#Removing the columns\n",
    "X_train = X_train.drop([\"fork\", \"pgout\",\"ppgout\" , \"pgfree\" , \"pgscan\" ,\"sread\",\"swrite\",\"pflt\" ,\"pgin\",\"ppgin\", \"vflt\"], axis=1)"
   ]
  },
  {
   "cell_type": "code",
   "execution_count": 320,
   "id": "63aee52f",
   "metadata": {},
   "outputs": [
    {
     "name": "stdout",
     "output_type": "stream",
     "text": [
      "VIF values: \n",
      "\n",
      "const                   23.297679\n",
      "lread                    1.338790\n",
      "lwrite                   1.323638\n",
      "scall                    1.478039\n",
      "exec                     1.138454\n",
      "rchar                    1.510071\n",
      "wchar                    1.453747\n",
      "atch                     1.051332\n",
      "freemem                  1.605429\n",
      "freeswap                 1.591955\n",
      "runqsz_Not_CPU_Bound     1.100982\n",
      "dtype: float64\n",
      "\n"
     ]
    }
   ],
   "source": [
    "# let's check the VIF of the predictors\n",
    "from statsmodels.stats.outliers_influence import variance_inflation_factor\n",
    "\n",
    "vif_series2 = pd.Series(\n",
    "    [variance_inflation_factor(X_train.values, i) for i in range(X_train.shape[1])],\n",
    "    index=X_train.columns,\n",
    ")\n",
    "print(\"VIF values: \\n\\n{}\\n\".format(vif_series2))"
   ]
  },
  {
   "cell_type": "markdown",
   "id": "e1a833d2",
   "metadata": {},
   "source": [
    "Insights:\n",
    "After removing the exceeded vif columns then all remaining columns has value Vif< 2."
   ]
  },
  {
   "cell_type": "code",
   "execution_count": 321,
   "id": "34b352d2",
   "metadata": {},
   "outputs": [
    {
     "name": "stdout",
     "output_type": "stream",
     "text": [
      "                            OLS Regression Results                            \n",
      "==============================================================================\n",
      "Dep. Variable:                    usr   R-squared:                       0.601\n",
      "Model:                            OLS   Adj. R-squared:                  0.601\n",
      "Method:                 Least Squares   F-statistic:                     851.7\n",
      "Date:                Sun, 27 Nov 2022   Prob (F-statistic):               0.00\n",
      "Time:                        15:46:36   Log-Likelihood:                -21909.\n",
      "No. Observations:                5658   AIC:                         4.384e+04\n",
      "Df Residuals:                    5647   BIC:                         4.391e+04\n",
      "Df Model:                          10                                         \n",
      "Covariance Type:            nonrobust                                         \n",
      "========================================================================================\n",
      "                           coef    std err          t      P>|t|      [0.025      0.975]\n",
      "----------------------------------------------------------------------------------------\n",
      "const                   44.0659      0.747     59.011      0.000      42.602      45.530\n",
      "lread                   -0.0210      0.003     -6.399      0.000      -0.027      -0.015\n",
      "lwrite                   0.0104      0.006      1.691      0.091      -0.002       0.022\n",
      "scall                 8.595e-05      0.000      0.743      0.458      -0.000       0.000\n",
      "exec                    -0.6399      0.032    -20.145      0.000      -0.702      -0.578\n",
      "rchar                -7.023e-06   8.01e-07     -8.763      0.000   -8.59e-06   -5.45e-06\n",
      "wchar                -9.712e-06   1.31e-06     -7.427      0.000   -1.23e-05   -7.15e-06\n",
      "atch                     0.0169      0.027      0.625      0.532      -0.036       0.070\n",
      "freemem                 -0.0018   7.92e-05    -22.958      0.000      -0.002      -0.002\n",
      "freeswap              3.232e-05   4.62e-07     70.003      0.000    3.14e-05    3.32e-05\n",
      "runqsz_Not_CPU_Bound     7.9489      0.325     24.449      0.000       7.312       8.586\n",
      "==============================================================================\n",
      "Omnibus:                     1255.344   Durbin-Watson:                   2.038\n",
      "Prob(Omnibus):                  0.000   Jarque-Bera (JB):             2990.747\n",
      "Skew:                          -1.233   Prob(JB):                         0.00\n",
      "Kurtosis:                       5.570   Cond. No.                     6.92e+06\n",
      "==============================================================================\n",
      "\n",
      "Notes:\n",
      "[1] Standard Errors assume that the covariance matrix of the errors is correctly specified.\n",
      "[2] The condition number is large, 6.92e+06. This might indicate that there are\n",
      "strong multicollinearity or other numerical problems.\n"
     ]
    }
   ],
   "source": [
    "olsmod_5 = sm.OLS(y_train, X_train)\n",
    "olsres_5 = olsmod_5.fit()\n",
    "print(olsres_5.summary())"
   ]
  },
  {
   "cell_type": "markdown",
   "id": "9f8a8f07",
   "metadata": {},
   "source": [
    "## 1.4 Inference: Basis on these predictions, what are the business insights and recommendations."
   ]
  },
  {
   "cell_type": "code",
   "execution_count": 336,
   "id": "7359b55d",
   "metadata": {},
   "outputs": [
    {
     "data": {
      "text/plain": [
       "const                   42.472470\n",
       "lread                   -0.020231\n",
       "lwrite                   0.006093\n",
       "scall                    0.000990\n",
       "sread                    0.001059\n",
       "swrite                  -0.002830\n",
       "fork                    -1.930659\n",
       "exec                    -0.033921\n",
       "rchar                   -0.000004\n",
       "wchar                   -0.000010\n",
       "pgout                   -0.233641\n",
       "ppgout                   0.132459\n",
       "pgfree                  -0.095142\n",
       "pgscan                   0.016606\n",
       "atch                     0.000882\n",
       "pgin                     0.072082\n",
       "ppgin                   -0.049480\n",
       "pflt                    -0.041760\n",
       "vflt                     0.024513\n",
       "freemem                 -0.001701\n",
       "freeswap                 0.000033\n",
       "runqsz_Not_CPU_Bound     8.075325\n",
       "dtype: float64"
      ]
     },
     "execution_count": 336,
     "metadata": {},
     "output_type": "execute_result"
    }
   ],
   "source": [
    "# let's check the model parameters\n",
    "olsres.params"
   ]
  },
  {
   "cell_type": "code",
   "execution_count": 339,
   "id": "0dc36f2b",
   "metadata": {},
   "outputs": [
    {
     "name": "stdout",
     "output_type": "stream",
     "text": [
      "usr = 42.472469699233116 + -0.02023071979268807 * ( lread ) +  0.006092956938534535 * ( lwrite ) +  0.0009901750277275761 * ( scall ) +  0.0010591222437147346 * ( sread ) +  -0.00282976176355788 * ( swrite ) +  -1.9306588000717144 * ( fork ) +  -0.03392123608967726 * ( exec ) +  -3.910452688661128e-06 * ( rchar ) +  -1.0478344138416642e-05 * ( wchar ) +  -0.23364070137576834 * ( pgout ) +  0.13245910897107332 * ( ppgout ) +  -0.09514151937121246 * ( pgfree ) +  0.016606129121971475 * ( pgscan ) +  0.0008819256978773032 * ( atch ) +  0.07208212657556601 * ( pgin ) +  -0.049479815176147406 * ( ppgin ) +  -0.04176028962936548 * ( pflt ) +  0.024512570881046976 * ( vflt ) +  -0.001701426774424474 * ( freemem ) +  3.3465356191729587e-05 * ( freeswap ) +  8.075325421441427 * ( runqsz_Not_CPU_Bound )\n"
     ]
    }
   ],
   "source": [
    "# Let us write the equation of linear regression\n",
    "Equation = \"usr =\"\n",
    "print(Equation, end=\" \")\n",
    "for i in range(len(X_train.columns)):\n",
    "    if i == 0:\n",
    "        print(olsres.params[i], \"+\", end=\" \")\n",
    "    elif i != len(X_train.columns) - 1:\n",
    "        print(\n",
    "            olsres.params[i],\n",
    "            \"* (\",\n",
    "            X_train.columns[i],\n",
    "            \")\",\n",
    "            \"+\",\n",
    "            end=\"  \",\n",
    "        )\n",
    "    else:\n",
    "        print(olsres.params[i], \"* (\", X_train.columns[i], \")\")"
   ]
  },
  {
   "cell_type": "markdown",
   "id": "3186d374",
   "metadata": {},
   "source": [
    "# Problem 2: Logistic Regression, LDA and CART\n",
    "\n",
    "## You are a statistician at the Republic of Indonesia Ministry of Health and you are provided with a data of 1473 females collected from a Contraceptive Prevalence Survey. The samples are married women who were either not pregnant or do not know if they were at the time of the survey.\n",
    "\n",
    "## The problem is to predict do/don't they use a contraceptive method of choice based on their demographic and socio-economic characteristics.\n",
    "\n",
    "### Data Dictionary:\n",
    "\n",
    "1. Wife's age (numerical)\n",
    "2. Wife's education (categorical) 1=uneducated, 2, 3, 4=tertiary\n",
    "3. Husband's education (categorical) 1=uneducated, 2, 3, 4=tertiary\n",
    "4. Number of children ever born (numerical)\n",
    "5. Wife's religion (binary) Non-Scientology, Scientology\n",
    "6. Wife's now working? (binary) Yes, No\n",
    "7. Husband's occupation (categorical) 1, 2, 3, 4(random)\n",
    "8. Standard-of-living index (categorical) 1=verlow, 2, 3, 4=high\n",
    "9. Media exposure (binary) Good, Not good\n",
    "10. Contraceptive method used (class attribute) No,Yes"
   ]
  },
  {
   "cell_type": "markdown",
   "id": "f588e544",
   "metadata": {},
   "source": [
    "## 2.1 Data Ingestion: Read the dataset. Do the descriptive statistics and do null value condition check, check for duplicates and outliers and write an inference on it. Perform Univariate and Bivariate Analysis and Multivariate Analysis."
   ]
  },
  {
   "cell_type": "code",
   "execution_count": 420,
   "id": "62d6bad2",
   "metadata": {},
   "outputs": [],
   "source": [
    "df = pd.read_excel(\"Contraceptive_method_dataset.xlsx\")"
   ]
  },
  {
   "cell_type": "code",
   "execution_count": 342,
   "id": "29930357",
   "metadata": {},
   "outputs": [
    {
     "data": {
      "text/html": [
       "<div>\n",
       "<style scoped>\n",
       "    .dataframe tbody tr th:only-of-type {\n",
       "        vertical-align: middle;\n",
       "    }\n",
       "\n",
       "    .dataframe tbody tr th {\n",
       "        vertical-align: top;\n",
       "    }\n",
       "\n",
       "    .dataframe thead th {\n",
       "        text-align: right;\n",
       "    }\n",
       "</style>\n",
       "<table border=\"1\" class=\"dataframe\">\n",
       "  <thead>\n",
       "    <tr style=\"text-align: right;\">\n",
       "      <th></th>\n",
       "      <th>Wife_age</th>\n",
       "      <th>Wife_ education</th>\n",
       "      <th>Husband_education</th>\n",
       "      <th>No_of_children_born</th>\n",
       "      <th>Wife_religion</th>\n",
       "      <th>Wife_Working</th>\n",
       "      <th>Husband_Occupation</th>\n",
       "      <th>Standard_of_living_index</th>\n",
       "      <th>Media_exposure</th>\n",
       "      <th>Contraceptive_method_used</th>\n",
       "    </tr>\n",
       "  </thead>\n",
       "  <tbody>\n",
       "    <tr>\n",
       "      <th>0</th>\n",
       "      <td>24.0</td>\n",
       "      <td>Primary</td>\n",
       "      <td>Secondary</td>\n",
       "      <td>3.0</td>\n",
       "      <td>Scientology</td>\n",
       "      <td>No</td>\n",
       "      <td>2</td>\n",
       "      <td>High</td>\n",
       "      <td>Exposed</td>\n",
       "      <td>No</td>\n",
       "    </tr>\n",
       "    <tr>\n",
       "      <th>1</th>\n",
       "      <td>45.0</td>\n",
       "      <td>Uneducated</td>\n",
       "      <td>Secondary</td>\n",
       "      <td>10.0</td>\n",
       "      <td>Scientology</td>\n",
       "      <td>No</td>\n",
       "      <td>3</td>\n",
       "      <td>Very High</td>\n",
       "      <td>Exposed</td>\n",
       "      <td>No</td>\n",
       "    </tr>\n",
       "    <tr>\n",
       "      <th>2</th>\n",
       "      <td>43.0</td>\n",
       "      <td>Primary</td>\n",
       "      <td>Secondary</td>\n",
       "      <td>7.0</td>\n",
       "      <td>Scientology</td>\n",
       "      <td>No</td>\n",
       "      <td>3</td>\n",
       "      <td>Very High</td>\n",
       "      <td>Exposed</td>\n",
       "      <td>No</td>\n",
       "    </tr>\n",
       "    <tr>\n",
       "      <th>3</th>\n",
       "      <td>42.0</td>\n",
       "      <td>Secondary</td>\n",
       "      <td>Primary</td>\n",
       "      <td>9.0</td>\n",
       "      <td>Scientology</td>\n",
       "      <td>No</td>\n",
       "      <td>3</td>\n",
       "      <td>High</td>\n",
       "      <td>Exposed</td>\n",
       "      <td>No</td>\n",
       "    </tr>\n",
       "    <tr>\n",
       "      <th>4</th>\n",
       "      <td>36.0</td>\n",
       "      <td>Secondary</td>\n",
       "      <td>Secondary</td>\n",
       "      <td>8.0</td>\n",
       "      <td>Scientology</td>\n",
       "      <td>No</td>\n",
       "      <td>3</td>\n",
       "      <td>Low</td>\n",
       "      <td>Exposed</td>\n",
       "      <td>No</td>\n",
       "    </tr>\n",
       "  </tbody>\n",
       "</table>\n",
       "</div>"
      ],
      "text/plain": [
       "   Wife_age Wife_ education Husband_education  No_of_children_born  \\\n",
       "0      24.0         Primary         Secondary                  3.0   \n",
       "1      45.0      Uneducated         Secondary                 10.0   \n",
       "2      43.0         Primary         Secondary                  7.0   \n",
       "3      42.0       Secondary           Primary                  9.0   \n",
       "4      36.0       Secondary         Secondary                  8.0   \n",
       "\n",
       "  Wife_religion Wife_Working  Husband_Occupation Standard_of_living_index  \\\n",
       "0   Scientology           No                   2                     High   \n",
       "1   Scientology           No                   3                Very High   \n",
       "2   Scientology           No                   3                Very High   \n",
       "3   Scientology           No                   3                     High   \n",
       "4   Scientology           No                   3                      Low   \n",
       "\n",
       "  Media_exposure  Contraceptive_method_used  \n",
       "0         Exposed                        No  \n",
       "1         Exposed                        No  \n",
       "2         Exposed                        No  \n",
       "3         Exposed                        No  \n",
       "4         Exposed                        No  "
      ]
     },
     "execution_count": 342,
     "metadata": {},
     "output_type": "execute_result"
    }
   ],
   "source": [
    "#print first 5 rows\n",
    "df.head()"
   ]
  },
  {
   "cell_type": "code",
   "execution_count": 343,
   "id": "1d6f163a",
   "metadata": {},
   "outputs": [
    {
     "data": {
      "text/html": [
       "<div>\n",
       "<style scoped>\n",
       "    .dataframe tbody tr th:only-of-type {\n",
       "        vertical-align: middle;\n",
       "    }\n",
       "\n",
       "    .dataframe tbody tr th {\n",
       "        vertical-align: top;\n",
       "    }\n",
       "\n",
       "    .dataframe thead th {\n",
       "        text-align: right;\n",
       "    }\n",
       "</style>\n",
       "<table border=\"1\" class=\"dataframe\">\n",
       "  <thead>\n",
       "    <tr style=\"text-align: right;\">\n",
       "      <th></th>\n",
       "      <th>Wife_age</th>\n",
       "      <th>Wife_ education</th>\n",
       "      <th>Husband_education</th>\n",
       "      <th>No_of_children_born</th>\n",
       "      <th>Wife_religion</th>\n",
       "      <th>Wife_Working</th>\n",
       "      <th>Husband_Occupation</th>\n",
       "      <th>Standard_of_living_index</th>\n",
       "      <th>Media_exposure</th>\n",
       "      <th>Contraceptive_method_used</th>\n",
       "    </tr>\n",
       "  </thead>\n",
       "  <tbody>\n",
       "    <tr>\n",
       "      <th>1468</th>\n",
       "      <td>33.0</td>\n",
       "      <td>Tertiary</td>\n",
       "      <td>Tertiary</td>\n",
       "      <td>NaN</td>\n",
       "      <td>Scientology</td>\n",
       "      <td>Yes</td>\n",
       "      <td>2</td>\n",
       "      <td>Very High</td>\n",
       "      <td>Exposed</td>\n",
       "      <td>Yes</td>\n",
       "    </tr>\n",
       "    <tr>\n",
       "      <th>1469</th>\n",
       "      <td>33.0</td>\n",
       "      <td>Tertiary</td>\n",
       "      <td>Tertiary</td>\n",
       "      <td>NaN</td>\n",
       "      <td>Scientology</td>\n",
       "      <td>No</td>\n",
       "      <td>1</td>\n",
       "      <td>Very High</td>\n",
       "      <td>Exposed</td>\n",
       "      <td>Yes</td>\n",
       "    </tr>\n",
       "    <tr>\n",
       "      <th>1470</th>\n",
       "      <td>39.0</td>\n",
       "      <td>Secondary</td>\n",
       "      <td>Secondary</td>\n",
       "      <td>NaN</td>\n",
       "      <td>Scientology</td>\n",
       "      <td>Yes</td>\n",
       "      <td>1</td>\n",
       "      <td>Very High</td>\n",
       "      <td>Exposed</td>\n",
       "      <td>Yes</td>\n",
       "    </tr>\n",
       "    <tr>\n",
       "      <th>1471</th>\n",
       "      <td>33.0</td>\n",
       "      <td>Secondary</td>\n",
       "      <td>Secondary</td>\n",
       "      <td>NaN</td>\n",
       "      <td>Scientology</td>\n",
       "      <td>Yes</td>\n",
       "      <td>2</td>\n",
       "      <td>Low</td>\n",
       "      <td>Exposed</td>\n",
       "      <td>Yes</td>\n",
       "    </tr>\n",
       "    <tr>\n",
       "      <th>1472</th>\n",
       "      <td>17.0</td>\n",
       "      <td>Secondary</td>\n",
       "      <td>Secondary</td>\n",
       "      <td>1.0</td>\n",
       "      <td>Scientology</td>\n",
       "      <td>No</td>\n",
       "      <td>2</td>\n",
       "      <td>Very High</td>\n",
       "      <td>Exposed</td>\n",
       "      <td>Yes</td>\n",
       "    </tr>\n",
       "  </tbody>\n",
       "</table>\n",
       "</div>"
      ],
      "text/plain": [
       "      Wife_age Wife_ education Husband_education  No_of_children_born  \\\n",
       "1468      33.0        Tertiary          Tertiary                  NaN   \n",
       "1469      33.0        Tertiary          Tertiary                  NaN   \n",
       "1470      39.0       Secondary         Secondary                  NaN   \n",
       "1471      33.0       Secondary         Secondary                  NaN   \n",
       "1472      17.0       Secondary         Secondary                  1.0   \n",
       "\n",
       "     Wife_religion Wife_Working  Husband_Occupation Standard_of_living_index  \\\n",
       "1468   Scientology          Yes                   2                Very High   \n",
       "1469   Scientology           No                   1                Very High   \n",
       "1470   Scientology          Yes                   1                Very High   \n",
       "1471   Scientology          Yes                   2                      Low   \n",
       "1472   Scientology           No                   2                Very High   \n",
       "\n",
       "     Media_exposure  Contraceptive_method_used  \n",
       "1468         Exposed                       Yes  \n",
       "1469         Exposed                       Yes  \n",
       "1470         Exposed                       Yes  \n",
       "1471         Exposed                       Yes  \n",
       "1472         Exposed                       Yes  "
      ]
     },
     "execution_count": 343,
     "metadata": {},
     "output_type": "execute_result"
    }
   ],
   "source": [
    "#print last 5 rows\n",
    "df.tail()"
   ]
  },
  {
   "cell_type": "code",
   "execution_count": 345,
   "id": "e1297764",
   "metadata": {},
   "outputs": [
    {
     "data": {
      "text/plain": [
       "(1473, 10)"
      ]
     },
     "execution_count": 345,
     "metadata": {},
     "output_type": "execute_result"
    }
   ],
   "source": [
    "#shape of the dataset\n",
    "df.shape"
   ]
  },
  {
   "cell_type": "code",
   "execution_count": 346,
   "id": "da7e7b2e",
   "metadata": {},
   "outputs": [
    {
     "name": "stdout",
     "output_type": "stream",
     "text": [
      "<class 'pandas.core.frame.DataFrame'>\n",
      "RangeIndex: 1473 entries, 0 to 1472\n",
      "Data columns (total 10 columns):\n",
      " #   Column                     Non-Null Count  Dtype  \n",
      "---  ------                     --------------  -----  \n",
      " 0   Wife_age                   1402 non-null   float64\n",
      " 1   Wife_ education            1473 non-null   object \n",
      " 2   Husband_education          1473 non-null   object \n",
      " 3   No_of_children_born        1452 non-null   float64\n",
      " 4   Wife_religion              1473 non-null   object \n",
      " 5   Wife_Working               1473 non-null   object \n",
      " 6   Husband_Occupation         1473 non-null   int64  \n",
      " 7   Standard_of_living_index   1473 non-null   object \n",
      " 8   Media_exposure             1473 non-null   object \n",
      " 9   Contraceptive_method_used  1473 non-null   object \n",
      "dtypes: float64(2), int64(1), object(7)\n",
      "memory usage: 115.2+ KB\n"
     ]
    }
   ],
   "source": [
    "#information of the dataset\n",
    "df.info()"
   ]
  },
  {
   "cell_type": "code",
   "execution_count": 349,
   "id": "ad19cf5b",
   "metadata": {},
   "outputs": [
    {
     "data": {
      "text/plain": [
       "Wife_age                     71\n",
       "Wife_ education               0\n",
       "Husband_education             0\n",
       "No_of_children_born          21\n",
       "Wife_religion                 0\n",
       "Wife_Working                  0\n",
       "Husband_Occupation            0\n",
       "Standard_of_living_index      0\n",
       "Media_exposure                0\n",
       "Contraceptive_method_used     0\n",
       "dtype: int64"
      ]
     },
     "execution_count": 349,
     "metadata": {},
     "output_type": "execute_result"
    }
   ],
   "source": [
    "#checking null values\n",
    "df.isnull().sum()"
   ]
  },
  {
   "cell_type": "code",
   "execution_count": 352,
   "id": "d1ce6935",
   "metadata": {},
   "outputs": [
    {
     "data": {
      "text/plain": [
       "80"
      ]
     },
     "execution_count": 352,
     "metadata": {},
     "output_type": "execute_result"
    }
   ],
   "source": [
    "#checking duplicate rows\n",
    "df.duplicated().sum()"
   ]
  },
  {
   "cell_type": "code",
   "execution_count": 356,
   "id": "5d7ba701",
   "metadata": {},
   "outputs": [
    {
     "data": {
      "text/plain": [
       "<AxesSubplot:xlabel='Wife_age', ylabel='Count'>"
      ]
     },
     "execution_count": 356,
     "metadata": {},
     "output_type": "execute_result"
    },
    {
     "data": {
      "image/png": "[encoded data removed]",
      "text/plain": [
       "<Figure size 432x288 with 1 Axes>"
      ]
     },
     "metadata": {
      "needs_background": "light"
     },
     "output_type": "display_data"
    }
   ],
   "source": [
    "#univariate analysis\n",
    "sns.histplot(data=df,x=\"Wife_age\")"
   ]
  },
  {
   "cell_type": "code",
   "execution_count": 360,
   "id": "fecdc7a7",
   "metadata": {},
   "outputs": [
    {
     "data": {
      "text/plain": [
       "<AxesSubplot:xlabel='No_of_children_born', ylabel='Count'>"
      ]
     },
     "execution_count": 360,
     "metadata": {},
     "output_type": "execute_result"
    },
    {
     "data": {
      "image/png": "[encoded data removed]",
      "text/plain": [
       "<Figure size 432x288 with 1 Axes>"
      ]
     },
     "metadata": {
      "needs_background": "light"
     },
     "output_type": "display_data"
    }
   ],
   "source": [
    "sns.histplot(data=df,x = \"No_of_children_born\")"
   ]
  },
  {
   "cell_type": "code",
   "execution_count": 363,
   "id": "688cbecd",
   "metadata": {},
   "outputs": [
    {
     "data": {
      "text/plain": [
       "<AxesSubplot:xlabel='Husband_Occupation', ylabel='Count'>"
      ]
     },
     "execution_count": 363,
     "metadata": {},
     "output_type": "execute_result"
    },
    {
     "data": {
      "image/png": "[encoded data removed]",
      "text/plain": [
       "<Figure size 432x288 with 1 Axes>"
      ]
     },
     "metadata": {
      "needs_background": "light"
     },
     "output_type": "display_data"
    }
   ],
   "source": [
    "sns.histplot(data=df,x =\"Husband_Occupation\")"
   ]
  },
  {
   "cell_type": "code",
   "execution_count": 364,
   "id": "2700e3fa",
   "metadata": {},
   "outputs": [
    {
     "data": {
      "text/plain": [
       "<seaborn.axisgrid.PairGrid at 0x24847c2bc40>"
      ]
     },
     "execution_count": 364,
     "metadata": {},
     "output_type": "execute_result"
    },
    {
     "data": {
      "image/png": "[encoded data removed]",
      "text/plain": [
       "<Figure size 540x540 with 12 Axes>"
      ]
     },
     "metadata": {
      "needs_background": "light"
     },
     "output_type": "display_data"
    }
   ],
   "source": [
    "#Bivariate analysis\n",
    "sns.pairplot(data=df)"
   ]
  },
  {
   "cell_type": "code",
   "execution_count": 365,
   "id": "2711fd9c",
   "metadata": {},
   "outputs": [
    {
     "data": {
      "text/plain": [
       "<AxesSubplot:>"
      ]
     },
     "execution_count": 365,
     "metadata": {},
     "output_type": "execute_result"
    },
    {
     "data": {
      "image/png": "[encoded data removed]",
      "text/plain": [
       "<Figure size 432x288 with 1 Axes>"
      ]
     },
     "metadata": {
      "needs_background": "light"
     },
     "output_type": "display_data"
    }
   ],
   "source": [
    "sns.boxplot(data=df)"
   ]
  },
  {
   "cell_type": "code",
   "execution_count": 367,
   "id": "1f2d7de8",
   "metadata": {},
   "outputs": [
    {
     "data": {
      "image/png": "[encoded data removed]",
      "text/plain": [
       "<Figure size 1080x1080 with 2 Axes>"
      ]
     },
     "metadata": {
      "needs_background": "light"
     },
     "output_type": "display_data"
    }
   ],
   "source": [
    "#multivaraite analysis\n",
    "plt.figure(figsize=(15,15))\n",
    "sns.heatmap(df.corr(),annot=True,fmt=\".2f\");"
   ]
  },
  {
   "cell_type": "markdown",
   "id": "a674064e",
   "metadata": {},
   "source": [
    "Insights:\n",
    "1. Looking in to the boxplot between target variable contraceptive method used and the no_of_children_born, we see that , No_of_children_born is high in the case of use of contraception used.\n",
    "2. Bivariate and multivariate analysis indicates that there is strong positive correlation between the fields wife_age and no_of_children_born\n",
    "3. We also notice that there are 80 duplicates records in the given data set and has been removed.\n",
    "4. Null values identified has been imputed with mean.\n",
    "5. Data consists of both categorical and numerical values. \n",
    "6. There are total of 1473 rows and 10columns in the dataset. Out of 22, 7 columns are of  object type,1 columns of integer type and remaining 2 are of float type data.\n",
    "7. 'contraceptive used’ is the target variable and all other are predector variables.\n",
    "8. Looking into the fields in the univariate analysis, we see outliers is present only in the field number of children\n"
   ]
  },
  {
   "cell_type": "markdown",
   "id": "85bd9ce5",
   "metadata": {},
   "source": [
    "## 2.2 Do not scale the data. Encode the data (having string values) for Modelling. Data Split: Split the data into train and test (70:30). Apply Logistic Regression and LDA (linear discriminant analysis) and CART."
   ]
  },
  {
   "cell_type": "code",
   "execution_count": 430,
   "id": "e381b316",
   "metadata": {},
   "outputs": [
    {
     "data": {
      "text/html": [
       "<div>\n",
       "<style scoped>\n",
       "    .dataframe tbody tr th:only-of-type {\n",
       "        vertical-align: middle;\n",
       "    }\n",
       "\n",
       "    .dataframe tbody tr th {\n",
       "        vertical-align: top;\n",
       "    }\n",
       "\n",
       "    .dataframe thead th {\n",
       "        text-align: right;\n",
       "    }\n",
       "</style>\n",
       "<table border=\"1\" class=\"dataframe\">\n",
       "  <thead>\n",
       "    <tr style=\"text-align: right;\">\n",
       "      <th></th>\n",
       "      <th>Wife_age</th>\n",
       "      <th>Wife_ education</th>\n",
       "      <th>Husband_education</th>\n",
       "      <th>No_of_children_born</th>\n",
       "      <th>Wife_religion</th>\n",
       "      <th>Wife_Working</th>\n",
       "      <th>Husband_Occupation</th>\n",
       "      <th>Standard_of_living_index</th>\n",
       "      <th>Media_exposure</th>\n",
       "      <th>Contraceptive_method_used</th>\n",
       "    </tr>\n",
       "  </thead>\n",
       "  <tbody>\n",
       "    <tr>\n",
       "      <th>0</th>\n",
       "      <td>24.0</td>\n",
       "      <td>Primary</td>\n",
       "      <td>Secondary</td>\n",
       "      <td>3.0</td>\n",
       "      <td>Scientology</td>\n",
       "      <td>No</td>\n",
       "      <td>2</td>\n",
       "      <td>High</td>\n",
       "      <td>Exposed</td>\n",
       "      <td>No</td>\n",
       "    </tr>\n",
       "    <tr>\n",
       "      <th>1</th>\n",
       "      <td>45.0</td>\n",
       "      <td>Uneducated</td>\n",
       "      <td>Secondary</td>\n",
       "      <td>10.0</td>\n",
       "      <td>Scientology</td>\n",
       "      <td>No</td>\n",
       "      <td>3</td>\n",
       "      <td>Very High</td>\n",
       "      <td>Exposed</td>\n",
       "      <td>No</td>\n",
       "    </tr>\n",
       "    <tr>\n",
       "      <th>2</th>\n",
       "      <td>43.0</td>\n",
       "      <td>Primary</td>\n",
       "      <td>Secondary</td>\n",
       "      <td>7.0</td>\n",
       "      <td>Scientology</td>\n",
       "      <td>No</td>\n",
       "      <td>3</td>\n",
       "      <td>Very High</td>\n",
       "      <td>Exposed</td>\n",
       "      <td>No</td>\n",
       "    </tr>\n",
       "    <tr>\n",
       "      <th>3</th>\n",
       "      <td>42.0</td>\n",
       "      <td>Secondary</td>\n",
       "      <td>Primary</td>\n",
       "      <td>9.0</td>\n",
       "      <td>Scientology</td>\n",
       "      <td>No</td>\n",
       "      <td>3</td>\n",
       "      <td>High</td>\n",
       "      <td>Exposed</td>\n",
       "      <td>No</td>\n",
       "    </tr>\n",
       "    <tr>\n",
       "      <th>4</th>\n",
       "      <td>36.0</td>\n",
       "      <td>Secondary</td>\n",
       "      <td>Secondary</td>\n",
       "      <td>8.0</td>\n",
       "      <td>Scientology</td>\n",
       "      <td>No</td>\n",
       "      <td>3</td>\n",
       "      <td>Low</td>\n",
       "      <td>Exposed</td>\n",
       "      <td>No</td>\n",
       "    </tr>\n",
       "  </tbody>\n",
       "</table>\n",
       "</div>"
      ],
      "text/plain": [
       "   Wife_age Wife_ education Husband_education  No_of_children_born  \\\n",
       "0      24.0         Primary         Secondary                  3.0   \n",
       "1      45.0      Uneducated         Secondary                 10.0   \n",
       "2      43.0         Primary         Secondary                  7.0   \n",
       "3      42.0       Secondary           Primary                  9.0   \n",
       "4      36.0       Secondary         Secondary                  8.0   \n",
       "\n",
       "  Wife_religion Wife_Working  Husband_Occupation Standard_of_living_index  \\\n",
       "0   Scientology           No                   2                     High   \n",
       "1   Scientology           No                   3                Very High   \n",
       "2   Scientology           No                   3                Very High   \n",
       "3   Scientology           No                   3                     High   \n",
       "4   Scientology           No                   3                      Low   \n",
       "\n",
       "  Media_exposure  Contraceptive_method_used  \n",
       "0         Exposed                        No  \n",
       "1         Exposed                        No  \n",
       "2         Exposed                        No  \n",
       "3         Exposed                        No  \n",
       "4         Exposed                        No  "
      ]
     },
     "execution_count": 430,
     "metadata": {},
     "output_type": "execute_result"
    }
   ],
   "source": [
    "df.head()"
   ]
  },
  {
   "cell_type": "code",
   "execution_count": 432,
   "id": "fd26d472",
   "metadata": {},
   "outputs": [
    {
     "data": {
      "text/html": [
       "<div>\n",
       "<style scoped>\n",
       "    .dataframe tbody tr th:only-of-type {\n",
       "        vertical-align: middle;\n",
       "    }\n",
       "\n",
       "    .dataframe tbody tr th {\n",
       "        vertical-align: top;\n",
       "    }\n",
       "\n",
       "    .dataframe thead th {\n",
       "        text-align: right;\n",
       "    }\n",
       "</style>\n",
       "<table border=\"1\" class=\"dataframe\">\n",
       "  <thead>\n",
       "    <tr style=\"text-align: right;\">\n",
       "      <th></th>\n",
       "      <th>Wife_age</th>\n",
       "      <th>Wife_ education</th>\n",
       "      <th>Husband_education</th>\n",
       "      <th>No_of_children_born</th>\n",
       "      <th>Wife_religion</th>\n",
       "      <th>Wife_Working</th>\n",
       "      <th>Husband_Occupation</th>\n",
       "      <th>Standard_of_living_index</th>\n",
       "      <th>Media_exposure</th>\n",
       "      <th>Contraceptive_method_used</th>\n",
       "    </tr>\n",
       "  </thead>\n",
       "  <tbody>\n",
       "    <tr>\n",
       "      <th>0</th>\n",
       "      <td>8</td>\n",
       "      <td>0</td>\n",
       "      <td>1</td>\n",
       "      <td>3</td>\n",
       "      <td>1</td>\n",
       "      <td>0</td>\n",
       "      <td>1</td>\n",
       "      <td>0</td>\n",
       "      <td>0</td>\n",
       "      <td>0</td>\n",
       "    </tr>\n",
       "    <tr>\n",
       "      <th>1</th>\n",
       "      <td>29</td>\n",
       "      <td>3</td>\n",
       "      <td>1</td>\n",
       "      <td>10</td>\n",
       "      <td>1</td>\n",
       "      <td>0</td>\n",
       "      <td>2</td>\n",
       "      <td>2</td>\n",
       "      <td>0</td>\n",
       "      <td>0</td>\n",
       "    </tr>\n",
       "    <tr>\n",
       "      <th>2</th>\n",
       "      <td>27</td>\n",
       "      <td>0</td>\n",
       "      <td>1</td>\n",
       "      <td>7</td>\n",
       "      <td>1</td>\n",
       "      <td>0</td>\n",
       "      <td>2</td>\n",
       "      <td>2</td>\n",
       "      <td>0</td>\n",
       "      <td>0</td>\n",
       "    </tr>\n",
       "    <tr>\n",
       "      <th>3</th>\n",
       "      <td>26</td>\n",
       "      <td>1</td>\n",
       "      <td>0</td>\n",
       "      <td>9</td>\n",
       "      <td>1</td>\n",
       "      <td>0</td>\n",
       "      <td>2</td>\n",
       "      <td>0</td>\n",
       "      <td>0</td>\n",
       "      <td>0</td>\n",
       "    </tr>\n",
       "    <tr>\n",
       "      <th>4</th>\n",
       "      <td>20</td>\n",
       "      <td>1</td>\n",
       "      <td>1</td>\n",
       "      <td>8</td>\n",
       "      <td>1</td>\n",
       "      <td>0</td>\n",
       "      <td>2</td>\n",
       "      <td>1</td>\n",
       "      <td>0</td>\n",
       "      <td>0</td>\n",
       "    </tr>\n",
       "    <tr>\n",
       "      <th>...</th>\n",
       "      <td>...</td>\n",
       "      <td>...</td>\n",
       "      <td>...</td>\n",
       "      <td>...</td>\n",
       "      <td>...</td>\n",
       "      <td>...</td>\n",
       "      <td>...</td>\n",
       "      <td>...</td>\n",
       "      <td>...</td>\n",
       "      <td>...</td>\n",
       "    </tr>\n",
       "    <tr>\n",
       "      <th>1468</th>\n",
       "      <td>17</td>\n",
       "      <td>2</td>\n",
       "      <td>2</td>\n",
       "      <td>15</td>\n",
       "      <td>1</td>\n",
       "      <td>1</td>\n",
       "      <td>1</td>\n",
       "      <td>2</td>\n",
       "      <td>0</td>\n",
       "      <td>1</td>\n",
       "    </tr>\n",
       "    <tr>\n",
       "      <th>1469</th>\n",
       "      <td>17</td>\n",
       "      <td>2</td>\n",
       "      <td>2</td>\n",
       "      <td>15</td>\n",
       "      <td>1</td>\n",
       "      <td>0</td>\n",
       "      <td>0</td>\n",
       "      <td>2</td>\n",
       "      <td>0</td>\n",
       "      <td>1</td>\n",
       "    </tr>\n",
       "    <tr>\n",
       "      <th>1470</th>\n",
       "      <td>23</td>\n",
       "      <td>1</td>\n",
       "      <td>1</td>\n",
       "      <td>15</td>\n",
       "      <td>1</td>\n",
       "      <td>1</td>\n",
       "      <td>0</td>\n",
       "      <td>2</td>\n",
       "      <td>0</td>\n",
       "      <td>1</td>\n",
       "    </tr>\n",
       "    <tr>\n",
       "      <th>1471</th>\n",
       "      <td>17</td>\n",
       "      <td>1</td>\n",
       "      <td>1</td>\n",
       "      <td>15</td>\n",
       "      <td>1</td>\n",
       "      <td>1</td>\n",
       "      <td>1</td>\n",
       "      <td>1</td>\n",
       "      <td>0</td>\n",
       "      <td>1</td>\n",
       "    </tr>\n",
       "    <tr>\n",
       "      <th>1472</th>\n",
       "      <td>1</td>\n",
       "      <td>1</td>\n",
       "      <td>1</td>\n",
       "      <td>1</td>\n",
       "      <td>1</td>\n",
       "      <td>0</td>\n",
       "      <td>1</td>\n",
       "      <td>2</td>\n",
       "      <td>0</td>\n",
       "      <td>1</td>\n",
       "    </tr>\n",
       "  </tbody>\n",
       "</table>\n",
       "<p>1473 rows × 10 columns</p>\n",
       "</div>"
      ],
      "text/plain": [
       "      Wife_age  Wife_ education  Husband_education  No_of_children_born  \\\n",
       "0            8                0                  1                    3   \n",
       "1           29                3                  1                   10   \n",
       "2           27                0                  1                    7   \n",
       "3           26                1                  0                    9   \n",
       "4           20                1                  1                    8   \n",
       "...        ...              ...                ...                  ...   \n",
       "1468        17                2                  2                   15   \n",
       "1469        17                2                  2                   15   \n",
       "1470        23                1                  1                   15   \n",
       "1471        17                1                  1                   15   \n",
       "1472         1                1                  1                    1   \n",
       "\n",
       "      Wife_religion  Wife_Working  Husband_Occupation  \\\n",
       "0                 1             0                   1   \n",
       "1                 1             0                   2   \n",
       "2                 1             0                   2   \n",
       "3                 1             0                   2   \n",
       "4                 1             0                   2   \n",
       "...             ...           ...                 ...   \n",
       "1468              1             1                   1   \n",
       "1469              1             0                   0   \n",
       "1470              1             1                   0   \n",
       "1471              1             1                   1   \n",
       "1472              1             0                   1   \n",
       "\n",
       "      Standard_of_living_index  Media_exposure   Contraceptive_method_used  \n",
       "0                            0                0                          0  \n",
       "1                            2                0                          0  \n",
       "2                            2                0                          0  \n",
       "3                            0                0                          0  \n",
       "4                            1                0                          0  \n",
       "...                        ...              ...                        ...  \n",
       "1468                         2                0                          1  \n",
       "1469                         2                0                          1  \n",
       "1470                         2                0                          1  \n",
       "1471                         1                0                          1  \n",
       "1472                         2                0                          1  \n",
       "\n",
       "[1473 rows x 10 columns]"
      ]
     },
     "execution_count": 432,
     "metadata": {},
     "output_type": "execute_result"
    }
   ],
   "source": [
    "from sklearn import preprocessing \n",
    "df2 = df.apply(LabelEncoder().fit_transform)\n",
    "df2"
   ]
  },
  {
   "cell_type": "code",
   "execution_count": 434,
   "id": "0b5f84bc",
   "metadata": {},
   "outputs": [],
   "source": [
    "#Getting train and test variables\n",
    "# independent variables\n",
    "X = df2.drop([\"Contraceptive_method_used\"], axis=1)\n",
    "# dependent variable\n",
    "y = df2[[\"Contraceptive_method_used\"]]\n"
   ]
  },
  {
   "cell_type": "code",
   "execution_count": 435,
   "id": "523ea39e",
   "metadata": {},
   "outputs": [],
   "source": [
    "# let's add the intercept to data\n",
    "X = sm.add_constant(X)"
   ]
  },
  {
   "cell_type": "code",
   "execution_count": 436,
   "id": "746bf58d",
   "metadata": {},
   "outputs": [],
   "source": [
    "#We will now split X and y into train and test sets in a 70:30 ratio.\n",
    "X_train, X_test, y_train, y_test = train_test_split(\n",
    "    X, y, test_size=0.30, random_state=1\n",
    ")"
   ]
  },
  {
   "cell_type": "markdown",
   "id": "680b3004",
   "metadata": {},
   "source": [
    "#### Logistic Regression"
   ]
  },
  {
   "cell_type": "code",
   "execution_count": 494,
   "id": "d1779ae5",
   "metadata": {},
   "outputs": [],
   "source": [
    "from sklearn.linear_model import LogisticRegression\n",
    "from sklearn.metrics import classification_report, confusion_matrix"
   ]
  },
  {
   "cell_type": "code",
   "execution_count": 495,
   "id": "32fa9e40",
   "metadata": {},
   "outputs": [],
   "source": [
    "model = LogisticRegression(solver='liblinear', random_state=0)"
   ]
  },
  {
   "cell_type": "code",
   "execution_count": 496,
   "id": "8cc945d8",
   "metadata": {},
   "outputs": [
    {
     "name": "stderr",
     "output_type": "stream",
     "text": [
      "C:\\Users\\Dell\\anaconda3\\lib\\site-packages\\sklearn\\utils\\validation.py:993: DataConversionWarning: A column-vector y was passed when a 1d array was expected. Please change the shape of y to (n_samples, ), for example using ravel().\n",
      "  y = column_or_1d(y, warn=True)\n"
     ]
    },
    {
     "data": {
      "text/plain": [
       "LogisticRegression(random_state=0, solver='liblinear')"
      ]
     },
     "execution_count": 496,
     "metadata": {},
     "output_type": "execute_result"
    }
   ],
   "source": [
    "model.fit(X, y)"
   ]
  },
  {
   "cell_type": "code",
   "execution_count": 497,
   "id": "3b373824",
   "metadata": {},
   "outputs": [
    {
     "name": "stderr",
     "output_type": "stream",
     "text": [
      "C:\\Users\\Dell\\anaconda3\\lib\\site-packages\\sklearn\\utils\\validation.py:993: DataConversionWarning: A column-vector y was passed when a 1d array was expected. Please change the shape of y to (n_samples, ), for example using ravel().\n",
      "  y = column_or_1d(y, warn=True)\n"
     ]
    }
   ],
   "source": [
    "model = LogisticRegression(solver='liblinear', random_state=0).fit(X, y)"
   ]
  },
  {
   "cell_type": "code",
   "execution_count": 498,
   "id": "bac6d653",
   "metadata": {},
   "outputs": [
    {
     "data": {
      "text/plain": [
       "array([0, 1])"
      ]
     },
     "execution_count": 498,
     "metadata": {},
     "output_type": "execute_result"
    }
   ],
   "source": [
    "model.classes_"
   ]
  },
  {
   "cell_type": "code",
   "execution_count": 499,
   "id": "b29ba053",
   "metadata": {},
   "outputs": [
    {
     "data": {
      "text/plain": [
       "array([0.11026314])"
      ]
     },
     "execution_count": 499,
     "metadata": {},
     "output_type": "execute_result"
    }
   ],
   "source": [
    "model.intercept_"
   ]
  },
  {
   "cell_type": "code",
   "execution_count": 500,
   "id": "d1d586ed",
   "metadata": {},
   "outputs": [
    {
     "data": {
      "text/plain": [
       "array([[ 0.11026314, -0.02678746,  0.14059485,  0.18320096,  0.20068059,\n",
       "        -0.48048288, -0.1222323 , -0.04055461, -0.01516407, -1.24280421]])"
      ]
     },
     "execution_count": 500,
     "metadata": {},
     "output_type": "execute_result"
    }
   ],
   "source": [
    "model.coef_"
   ]
  },
  {
   "cell_type": "code",
   "execution_count": 501,
   "id": "e6caf4b6",
   "metadata": {},
   "outputs": [
    {
     "data": {
      "text/plain": [
       "array([[0.43280107, 0.56719893],\n",
       "       [0.18792325, 0.81207675],\n",
       "       [0.37911418, 0.62088582],\n",
       "       ...,\n",
       "       [0.09067869, 0.90932131],\n",
       "       [0.08012054, 0.91987946],\n",
       "       [0.4583841 , 0.5416159 ]])"
      ]
     },
     "execution_count": 501,
     "metadata": {},
     "output_type": "execute_result"
    }
   ],
   "source": [
    "model.predict_proba(X)"
   ]
  },
  {
   "cell_type": "code",
   "execution_count": 502,
   "id": "190e360e",
   "metadata": {},
   "outputs": [
    {
     "data": {
      "text/plain": [
       "array([1, 1, 1, ..., 1, 1, 1])"
      ]
     },
     "execution_count": 502,
     "metadata": {},
     "output_type": "execute_result"
    }
   ],
   "source": [
    "model.predict(X)"
   ]
  },
  {
   "cell_type": "code",
   "execution_count": 503,
   "id": "29819eb2",
   "metadata": {},
   "outputs": [
    {
     "data": {
      "text/plain": [
       "0.6612355736591989"
      ]
     },
     "execution_count": 503,
     "metadata": {},
     "output_type": "execute_result"
    }
   ],
   "source": [
    "model.score(X, y)"
   ]
  },
  {
   "cell_type": "code",
   "execution_count": 451,
   "id": "5bf8c17a",
   "metadata": {},
   "outputs": [
    {
     "data": {
      "text/plain": [
       "array([[243, 386],\n",
       "       [113, 731]], dtype=int64)"
      ]
     },
     "execution_count": 451,
     "metadata": {},
     "output_type": "execute_result"
    }
   ],
   "source": [
    "confusion_matrix(y, model.predict(X))"
   ]
  },
  {
   "cell_type": "code",
   "execution_count": 452,
   "id": "5aff6022",
   "metadata": {},
   "outputs": [
    {
     "data": {
      "image/png": "[encoded data removed]",
      "text/plain": [
       "<Figure size 576x576 with 1 Axes>"
      ]
     },
     "metadata": {
      "needs_background": "light"
     },
     "output_type": "display_data"
    }
   ],
   "source": [
    "cm = confusion_matrix(y, model.predict(X))\n",
    "\n",
    "fig, ax = plt.subplots(figsize=(8, 8))\n",
    "ax.imshow(cm)\n",
    "ax.grid(False)\n",
    "ax.xaxis.set(ticks=(0, 1), ticklabels=('Predicted 0s', 'Predicted 1s'))\n",
    "ax.yaxis.set(ticks=(0, 1), ticklabels=('Actual 0s', 'Actual 1s'))\n",
    "ax.set_ylim(1.5, -0.5)\n",
    "for i in range(2):\n",
    "    for j in range(2):\n",
    "        ax.text(j, i, cm[i, j], ha='center', va='center', color='red')\n",
    "plt.show()"
   ]
  },
  {
   "cell_type": "code",
   "execution_count": 454,
   "id": "998bafc5",
   "metadata": {},
   "outputs": [],
   "source": [
    "model = sm.Logit(y, X)"
   ]
  },
  {
   "cell_type": "code",
   "execution_count": 455,
   "id": "36b44498",
   "metadata": {},
   "outputs": [
    {
     "name": "stdout",
     "output_type": "stream",
     "text": [
      "Optimization terminated successfully.\n",
      "         Current function value: 0.644003\n",
      "         Iterations 5\n"
     ]
    }
   ],
   "source": [
    "result = model.fit(method='newton')"
   ]
  },
  {
   "cell_type": "code",
   "execution_count": 456,
   "id": "dc15e06b",
   "metadata": {},
   "outputs": [
    {
     "data": {
      "text/plain": [
       "const                       0.235576\n",
       "Wife_age                   -0.026984\n",
       "Wife_ education             0.144276\n",
       "Husband_education           0.179559\n",
       "No_of_children_born         0.202252\n",
       "Wife_religion              -0.494521\n",
       "Wife_Working               -0.124951\n",
       "Husband_Occupation         -0.039157\n",
       "Standard_of_living_index   -0.015281\n",
       "Media_exposure             -1.309492\n",
       "dtype: float64"
      ]
     },
     "execution_count": 456,
     "metadata": {},
     "output_type": "execute_result"
    }
   ],
   "source": [
    "result.params"
   ]
  },
  {
   "cell_type": "code",
   "execution_count": 458,
   "id": "82ed4b1c",
   "metadata": {},
   "outputs": [
    {
     "data": {
      "text/plain": [
       "0       0.567668\n",
       "1       0.815259\n",
       "2       0.622209\n",
       "3       0.716203\n",
       "4       0.740705\n",
       "          ...   \n",
       "1468    0.940984\n",
       "1469    0.949464\n",
       "1470    0.910726\n",
       "1471    0.921330\n",
       "1472    0.542507\n",
       "Length: 1473, dtype: float64"
      ]
     },
     "execution_count": 458,
     "metadata": {},
     "output_type": "execute_result"
    }
   ],
   "source": [
    "result.predict(X)"
   ]
  },
  {
   "cell_type": "code",
   "execution_count": 459,
   "id": "5eeec2f0",
   "metadata": {},
   "outputs": [
    {
     "data": {
      "text/plain": [
       "0       1\n",
       "1       1\n",
       "2       1\n",
       "3       1\n",
       "4       1\n",
       "       ..\n",
       "1468    1\n",
       "1469    1\n",
       "1470    1\n",
       "1471    1\n",
       "1472    1\n",
       "Length: 1473, dtype: int32"
      ]
     },
     "execution_count": 459,
     "metadata": {},
     "output_type": "execute_result"
    }
   ],
   "source": [
    "(result.predict(X) >= 0.5).astype(int)"
   ]
  },
  {
   "cell_type": "code",
   "execution_count": 460,
   "id": "068dc03e",
   "metadata": {},
   "outputs": [
    {
     "data": {
      "text/plain": [
       "array([[242., 387.],\n",
       "       [112., 732.]])"
      ]
     },
     "execution_count": 460,
     "metadata": {},
     "output_type": "execute_result"
    }
   ],
   "source": [
    "result.pred_table()"
   ]
  },
  {
   "cell_type": "code",
   "execution_count": 461,
   "id": "8099f5f3",
   "metadata": {},
   "outputs": [
    {
     "data": {
      "text/html": [
       "<table class=\"simpletable\">\n",
       "<caption>Logit Regression Results</caption>\n",
       "<tr>\n",
       "  <th>Dep. Variable:</th>   <td>Contraceptive_method_used</td> <th>  No. Observations:  </th>  <td>  1473</td>  \n",
       "</tr>\n",
       "<tr>\n",
       "  <th>Model:</th>                     <td>Logit</td>           <th>  Df Residuals:      </th>  <td>  1463</td>  \n",
       "</tr>\n",
       "<tr>\n",
       "  <th>Method:</th>                     <td>MLE</td>            <th>  Df Model:          </th>  <td>     9</td>  \n",
       "</tr>\n",
       "<tr>\n",
       "  <th>Date:</th>                <td>Sun, 27 Nov 2022</td>      <th>  Pseudo R-squ.:     </th>  <td>0.05635</td> \n",
       "</tr>\n",
       "<tr>\n",
       "  <th>Time:</th>                    <td>17:55:52</td>          <th>  Log-Likelihood:    </th> <td> -948.62</td> \n",
       "</tr>\n",
       "<tr>\n",
       "  <th>converged:</th>                 <td>True</td>            <th>  LL-Null:           </th> <td> -1005.3</td> \n",
       "</tr>\n",
       "<tr>\n",
       "  <th>Covariance Type:</th>         <td>nonrobust</td>         <th>  LLR p-value:       </th> <td>3.149e-20</td>\n",
       "</tr>\n",
       "</table>\n",
       "<table class=\"simpletable\">\n",
       "<tr>\n",
       "              <td></td>                <th>coef</th>     <th>std err</th>      <th>z</th>      <th>P>|z|</th>  <th>[0.025</th>    <th>0.975]</th>  \n",
       "</tr>\n",
       "<tr>\n",
       "  <th>const</th>                    <td>    0.2356</td> <td>    0.290</td> <td>    0.813</td> <td> 0.416</td> <td>   -0.333</td> <td>    0.804</td>\n",
       "</tr>\n",
       "<tr>\n",
       "  <th>Wife_age</th>                 <td>   -0.0270</td> <td>    0.007</td> <td>   -3.715</td> <td> 0.000</td> <td>   -0.041</td> <td>   -0.013</td>\n",
       "</tr>\n",
       "<tr>\n",
       "  <th>Wife_ education</th>          <td>    0.1443</td> <td>    0.063</td> <td>    2.281</td> <td> 0.023</td> <td>    0.020</td> <td>    0.268</td>\n",
       "</tr>\n",
       "<tr>\n",
       "  <th>Husband_education</th>        <td>    0.1796</td> <td>    0.081</td> <td>    2.219</td> <td> 0.026</td> <td>    0.021</td> <td>    0.338</td>\n",
       "</tr>\n",
       "<tr>\n",
       "  <th>No_of_children_born</th>      <td>    0.2023</td> <td>    0.027</td> <td>    7.400</td> <td> 0.000</td> <td>    0.149</td> <td>    0.256</td>\n",
       "</tr>\n",
       "<tr>\n",
       "  <th>Wife_religion</th>            <td>   -0.4945</td> <td>    0.163</td> <td>   -3.037</td> <td> 0.002</td> <td>   -0.814</td> <td>   -0.175</td>\n",
       "</tr>\n",
       "<tr>\n",
       "  <th>Wife_Working</th>             <td>   -0.1250</td> <td>    0.127</td> <td>   -0.987</td> <td> 0.324</td> <td>   -0.373</td> <td>    0.123</td>\n",
       "</tr>\n",
       "<tr>\n",
       "  <th>Husband_Occupation</th>       <td>   -0.0392</td> <td>    0.068</td> <td>   -0.578</td> <td> 0.563</td> <td>   -0.172</td> <td>    0.094</td>\n",
       "</tr>\n",
       "<tr>\n",
       "  <th>Standard_of_living_index</th> <td>   -0.0153</td> <td>    0.055</td> <td>   -0.276</td> <td> 0.783</td> <td>   -0.124</td> <td>    0.093</td>\n",
       "</tr>\n",
       "<tr>\n",
       "  <th>Media_exposure </th>          <td>   -1.3095</td> <td>    0.234</td> <td>   -5.585</td> <td> 0.000</td> <td>   -1.769</td> <td>   -0.850</td>\n",
       "</tr>\n",
       "</table>"
      ],
      "text/plain": [
       "<class 'statsmodels.iolib.summary.Summary'>\n",
       "\"\"\"\n",
       "                               Logit Regression Results                              \n",
       "=====================================================================================\n",
       "Dep. Variable:     Contraceptive_method_used   No. Observations:                 1473\n",
       "Model:                                 Logit   Df Residuals:                     1463\n",
       "Method:                                  MLE   Df Model:                            9\n",
       "Date:                       Sun, 27 Nov 2022   Pseudo R-squ.:                 0.05635\n",
       "Time:                               17:55:52   Log-Likelihood:                -948.62\n",
       "converged:                              True   LL-Null:                       -1005.3\n",
       "Covariance Type:                   nonrobust   LLR p-value:                 3.149e-20\n",
       "============================================================================================\n",
       "                               coef    std err          z      P>|z|      [0.025      0.975]\n",
       "--------------------------------------------------------------------------------------------\n",
       "const                        0.2356      0.290      0.813      0.416      -0.333       0.804\n",
       "Wife_age                    -0.0270      0.007     -3.715      0.000      -0.041      -0.013\n",
       "Wife_ education              0.1443      0.063      2.281      0.023       0.020       0.268\n",
       "Husband_education            0.1796      0.081      2.219      0.026       0.021       0.338\n",
       "No_of_children_born          0.2023      0.027      7.400      0.000       0.149       0.256\n",
       "Wife_religion               -0.4945      0.163     -3.037      0.002      -0.814      -0.175\n",
       "Wife_Working                -0.1250      0.127     -0.987      0.324      -0.373       0.123\n",
       "Husband_Occupation          -0.0392      0.068     -0.578      0.563      -0.172       0.094\n",
       "Standard_of_living_index    -0.0153      0.055     -0.276      0.783      -0.124       0.093\n",
       "Media_exposure              -1.3095      0.234     -5.585      0.000      -1.769      -0.850\n",
       "============================================================================================\n",
       "\"\"\""
      ]
     },
     "execution_count": 461,
     "metadata": {},
     "output_type": "execute_result"
    }
   ],
   "source": [
    "result.summary()"
   ]
  },
  {
   "cell_type": "markdown",
   "id": "d286715c",
   "metadata": {},
   "source": [
    "#### LDA (linear discriminant analysis) "
   ]
  },
  {
   "cell_type": "code",
   "execution_count": 511,
   "id": "ea487e08",
   "metadata": {},
   "outputs": [],
   "source": [
    "from sklearn.discriminant_analysis import LinearDiscriminantAnalysis \n",
    "from sklearn.model_selection import RepeatedStratifiedKFold\n",
    "from sklearn.model_selection import cross_val_score"
   ]
  },
  {
   "cell_type": "code",
   "execution_count": 512,
   "id": "a3f4d8a4",
   "metadata": {},
   "outputs": [
    {
     "name": "stderr",
     "output_type": "stream",
     "text": [
      "C:\\Users\\Dell\\anaconda3\\lib\\site-packages\\sklearn\\utils\\validation.py:993: DataConversionWarning: A column-vector y was passed when a 1d array was expected. Please change the shape of y to (n_samples, ), for example using ravel().\n",
      "  y = column_or_1d(y, warn=True)\n"
     ]
    },
    {
     "data": {
      "text/plain": [
       "LinearDiscriminantAnalysis()"
      ]
     },
     "execution_count": 512,
     "metadata": {},
     "output_type": "execute_result"
    }
   ],
   "source": [
    "#Fit the LDA model\n",
    "model = LinearDiscriminantAnalysis()\n",
    "model.fit(X, y)"
   ]
  },
  {
   "cell_type": "code",
   "execution_count": 513,
   "id": "b7fa03a2",
   "metadata": {},
   "outputs": [
    {
     "name": "stdout",
     "output_type": "stream",
     "text": [
      "0.6515076300790585\n"
     ]
    }
   ],
   "source": [
    "#Define method to evaluate model\n",
    "cv = RepeatedStratifiedKFold(n_splits=10, n_repeats=3, random_state=1)\n",
    "\n",
    "#evaluate model\n",
    "scores = cross_val_score(model, X, y, scoring='accuracy', cv=cv, n_jobs=-1)\n",
    "print(np.mean(scores))   "
   ]
  },
  {
   "cell_type": "code",
   "execution_count": 470,
   "id": "cadb9e2f",
   "metadata": {},
   "outputs": [],
   "source": [
    "# Predict it\n",
    "pred_class = model.predict(X)\n",
    "df2['Prediction'] = pred_class \n"
   ]
  },
  {
   "cell_type": "code",
   "execution_count": 472,
   "id": "29eb1993",
   "metadata": {},
   "outputs": [
    {
     "data": {
      "text/html": [
       "<div>\n",
       "<style scoped>\n",
       "    .dataframe tbody tr th:only-of-type {\n",
       "        vertical-align: middle;\n",
       "    }\n",
       "\n",
       "    .dataframe tbody tr th {\n",
       "        vertical-align: top;\n",
       "    }\n",
       "\n",
       "    .dataframe thead th {\n",
       "        text-align: right;\n",
       "    }\n",
       "</style>\n",
       "<table border=\"1\" class=\"dataframe\">\n",
       "  <thead>\n",
       "    <tr style=\"text-align: right;\">\n",
       "      <th></th>\n",
       "      <th>Wife_age</th>\n",
       "      <th>Wife_ education</th>\n",
       "      <th>Husband_education</th>\n",
       "      <th>No_of_children_born</th>\n",
       "      <th>Wife_religion</th>\n",
       "      <th>Wife_Working</th>\n",
       "      <th>Husband_Occupation</th>\n",
       "      <th>Standard_of_living_index</th>\n",
       "      <th>Media_exposure</th>\n",
       "      <th>Contraceptive_method_used</th>\n",
       "      <th>Prediction</th>\n",
       "    </tr>\n",
       "  </thead>\n",
       "  <tbody>\n",
       "    <tr>\n",
       "      <th>Wife_age</th>\n",
       "      <td>1.000000</td>\n",
       "      <td>0.191013</td>\n",
       "      <td>0.036311</td>\n",
       "      <td>0.399991</td>\n",
       "      <td>-0.141247</td>\n",
       "      <td>0.031713</td>\n",
       "      <td>-0.148526</td>\n",
       "      <td>0.042498</td>\n",
       "      <td>0.097607</td>\n",
       "      <td>0.001961</td>\n",
       "      <td>-0.075216</td>\n",
       "    </tr>\n",
       "    <tr>\n",
       "      <th>Wife_ education</th>\n",
       "      <td>0.191013</td>\n",
       "      <td>1.000000</td>\n",
       "      <td>0.220614</td>\n",
       "      <td>-0.003393</td>\n",
       "      <td>-0.091292</td>\n",
       "      <td>0.046367</td>\n",
       "      <td>-0.212173</td>\n",
       "      <td>0.040663</td>\n",
       "      <td>0.141375</td>\n",
       "      <td>0.041501</td>\n",
       "      <td>0.148812</td>\n",
       "    </tr>\n",
       "    <tr>\n",
       "      <th>Husband_education</th>\n",
       "      <td>0.036311</td>\n",
       "      <td>0.220614</td>\n",
       "      <td>1.000000</td>\n",
       "      <td>-0.132869</td>\n",
       "      <td>-0.149533</td>\n",
       "      <td>0.023975</td>\n",
       "      <td>-0.282421</td>\n",
       "      <td>0.014156</td>\n",
       "      <td>-0.167536</td>\n",
       "      <td>0.082352</td>\n",
       "      <td>0.334902</td>\n",
       "    </tr>\n",
       "    <tr>\n",
       "      <th>No_of_children_born</th>\n",
       "      <td>0.399991</td>\n",
       "      <td>-0.003393</td>\n",
       "      <td>-0.132869</td>\n",
       "      <td>1.000000</td>\n",
       "      <td>0.063952</td>\n",
       "      <td>-0.081723</td>\n",
       "      <td>-0.037280</td>\n",
       "      <td>0.003829</td>\n",
       "      <td>0.121116</td>\n",
       "      <td>0.153858</td>\n",
       "      <td>0.259778</td>\n",
       "    </tr>\n",
       "    <tr>\n",
       "      <th>Wife_religion</th>\n",
       "      <td>-0.141247</td>\n",
       "      <td>-0.091292</td>\n",
       "      <td>-0.149533</td>\n",
       "      <td>0.063952</td>\n",
       "      <td>1.000000</td>\n",
       "      <td>-0.069837</td>\n",
       "      <td>0.084417</td>\n",
       "      <td>-0.083744</td>\n",
       "      <td>0.060243</td>\n",
       "      <td>-0.072946</td>\n",
       "      <td>-0.176379</td>\n",
       "    </tr>\n",
       "    <tr>\n",
       "      <th>Wife_Working</th>\n",
       "      <td>0.031713</td>\n",
       "      <td>0.046367</td>\n",
       "      <td>0.023975</td>\n",
       "      <td>-0.081723</td>\n",
       "      <td>-0.069837</td>\n",
       "      <td>1.000000</td>\n",
       "      <td>-0.014232</td>\n",
       "      <td>0.012601</td>\n",
       "      <td>-0.001828</td>\n",
       "      <td>-0.039370</td>\n",
       "      <td>-0.137019</td>\n",
       "    </tr>\n",
       "    <tr>\n",
       "      <th>Husband_Occupation</th>\n",
       "      <td>-0.148526</td>\n",
       "      <td>-0.212173</td>\n",
       "      <td>-0.282421</td>\n",
       "      <td>-0.037280</td>\n",
       "      <td>0.084417</td>\n",
       "      <td>-0.014232</td>\n",
       "      <td>1.000000</td>\n",
       "      <td>-0.070682</td>\n",
       "      <td>0.113925</td>\n",
       "      <td>-0.062412</td>\n",
       "      <td>-0.216090</td>\n",
       "    </tr>\n",
       "    <tr>\n",
       "      <th>Standard_of_living_index</th>\n",
       "      <td>0.042498</td>\n",
       "      <td>0.040663</td>\n",
       "      <td>0.014156</td>\n",
       "      <td>0.003829</td>\n",
       "      <td>-0.083744</td>\n",
       "      <td>0.012601</td>\n",
       "      <td>-0.070682</td>\n",
       "      <td>1.000000</td>\n",
       "      <td>0.042257</td>\n",
       "      <td>-0.008003</td>\n",
       "      <td>-0.054696</td>\n",
       "    </tr>\n",
       "    <tr>\n",
       "      <th>Media_exposure</th>\n",
       "      <td>0.097607</td>\n",
       "      <td>0.141375</td>\n",
       "      <td>-0.167536</td>\n",
       "      <td>0.121116</td>\n",
       "      <td>0.060243</td>\n",
       "      <td>-0.001828</td>\n",
       "      <td>0.113925</td>\n",
       "      <td>0.042257</td>\n",
       "      <td>1.000000</td>\n",
       "      <td>-0.143948</td>\n",
       "      <td>-0.461039</td>\n",
       "    </tr>\n",
       "    <tr>\n",
       "      <th>Contraceptive_method_used</th>\n",
       "      <td>0.001961</td>\n",
       "      <td>0.041501</td>\n",
       "      <td>0.082352</td>\n",
       "      <td>0.153858</td>\n",
       "      <td>-0.072946</td>\n",
       "      <td>-0.039370</td>\n",
       "      <td>-0.062412</td>\n",
       "      <td>-0.008003</td>\n",
       "      <td>-0.143948</td>\n",
       "      <td>1.000000</td>\n",
       "      <td>0.288097</td>\n",
       "    </tr>\n",
       "    <tr>\n",
       "      <th>Prediction</th>\n",
       "      <td>-0.075216</td>\n",
       "      <td>0.148812</td>\n",
       "      <td>0.334902</td>\n",
       "      <td>0.259778</td>\n",
       "      <td>-0.176379</td>\n",
       "      <td>-0.137019</td>\n",
       "      <td>-0.216090</td>\n",
       "      <td>-0.054696</td>\n",
       "      <td>-0.461039</td>\n",
       "      <td>0.288097</td>\n",
       "      <td>1.000000</td>\n",
       "    </tr>\n",
       "  </tbody>\n",
       "</table>\n",
       "</div>"
      ],
      "text/plain": [
       "                           Wife_age  Wife_ education  Husband_education  \\\n",
       "Wife_age                   1.000000         0.191013           0.036311   \n",
       "Wife_ education            0.191013         1.000000           0.220614   \n",
       "Husband_education          0.036311         0.220614           1.000000   \n",
       "No_of_children_born        0.399991        -0.003393          -0.132869   \n",
       "Wife_religion             -0.141247        -0.091292          -0.149533   \n",
       "Wife_Working               0.031713         0.046367           0.023975   \n",
       "Husband_Occupation        -0.148526        -0.212173          -0.282421   \n",
       "Standard_of_living_index   0.042498         0.040663           0.014156   \n",
       "Media_exposure             0.097607         0.141375          -0.167536   \n",
       "Contraceptive_method_used  0.001961         0.041501           0.082352   \n",
       "Prediction                -0.075216         0.148812           0.334902   \n",
       "\n",
       "                           No_of_children_born  Wife_religion  Wife_Working  \\\n",
       "Wife_age                              0.399991      -0.141247      0.031713   \n",
       "Wife_ education                      -0.003393      -0.091292      0.046367   \n",
       "Husband_education                    -0.132869      -0.149533      0.023975   \n",
       "No_of_children_born                   1.000000       0.063952     -0.081723   \n",
       "Wife_religion                         0.063952       1.000000     -0.069837   \n",
       "Wife_Working                         -0.081723      -0.069837      1.000000   \n",
       "Husband_Occupation                   -0.037280       0.084417     -0.014232   \n",
       "Standard_of_living_index              0.003829      -0.083744      0.012601   \n",
       "Media_exposure                        0.121116       0.060243     -0.001828   \n",
       "Contraceptive_method_used             0.153858      -0.072946     -0.039370   \n",
       "Prediction                            0.259778      -0.176379     -0.137019   \n",
       "\n",
       "                           Husband_Occupation  Standard_of_living_index  \\\n",
       "Wife_age                            -0.148526                  0.042498   \n",
       "Wife_ education                     -0.212173                  0.040663   \n",
       "Husband_education                   -0.282421                  0.014156   \n",
       "No_of_children_born                 -0.037280                  0.003829   \n",
       "Wife_religion                        0.084417                 -0.083744   \n",
       "Wife_Working                        -0.014232                  0.012601   \n",
       "Husband_Occupation                   1.000000                 -0.070682   \n",
       "Standard_of_living_index            -0.070682                  1.000000   \n",
       "Media_exposure                       0.113925                  0.042257   \n",
       "Contraceptive_method_used           -0.062412                 -0.008003   \n",
       "Prediction                          -0.216090                 -0.054696   \n",
       "\n",
       "                           Media_exposure   Contraceptive_method_used  \\\n",
       "Wife_age                          0.097607                   0.001961   \n",
       "Wife_ education                   0.141375                   0.041501   \n",
       "Husband_education                -0.167536                   0.082352   \n",
       "No_of_children_born               0.121116                   0.153858   \n",
       "Wife_religion                     0.060243                  -0.072946   \n",
       "Wife_Working                     -0.001828                  -0.039370   \n",
       "Husband_Occupation                0.113925                  -0.062412   \n",
       "Standard_of_living_index          0.042257                  -0.008003   \n",
       "Media_exposure                    1.000000                  -0.143948   \n",
       "Contraceptive_method_used        -0.143948                   1.000000   \n",
       "Prediction                       -0.461039                   0.288097   \n",
       "\n",
       "                           Prediction  \n",
       "Wife_age                    -0.075216  \n",
       "Wife_ education              0.148812  \n",
       "Husband_education            0.334902  \n",
       "No_of_children_born          0.259778  \n",
       "Wife_religion               -0.176379  \n",
       "Wife_Working                -0.137019  \n",
       "Husband_Occupation          -0.216090  \n",
       "Standard_of_living_index    -0.054696  \n",
       "Media_exposure              -0.461039  \n",
       "Contraceptive_method_used    0.288097  \n",
       "Prediction                   1.000000  "
      ]
     },
     "execution_count": 472,
     "metadata": {},
     "output_type": "execute_result"
    }
   ],
   "source": [
    "data= df2\n",
    "Cor1 = data.corr()\n",
    "Cor1"
   ]
  },
  {
   "cell_type": "code",
   "execution_count": 474,
   "id": "ce94863b",
   "metadata": {},
   "outputs": [
    {
     "data": {
      "text/plain": [
       "array([[230, 399],\n",
       "       [103, 741]], dtype=int64)"
      ]
     },
     "execution_count": 474,
     "metadata": {},
     "output_type": "execute_result"
    }
   ],
   "source": [
    "confusion_matrix(y, pred_class)"
   ]
  },
  {
   "cell_type": "code",
   "execution_count": 475,
   "id": "b3405031",
   "metadata": {},
   "outputs": [
    {
     "data": {
      "image/png": "[encoded data removed]",
      "text/plain": [
       "<Figure size 432x288 with 2 Axes>"
      ]
     },
     "metadata": {
      "needs_background": "light"
     },
     "output_type": "display_data"
    }
   ],
   "source": [
    "plt.figure(figsize=(6,4))\n",
    "sns.heatmap(confusion_matrix(y, pred_class),annot=True,fmt='.4g'),'\\n\\n'\n",
    "plt.ylabel('Actual Value')\n",
    "plt.xlabel('Predicted Value')\n",
    "plt.show();"
   ]
  },
  {
   "cell_type": "code",
   "execution_count": 476,
   "id": "4a1a3810",
   "metadata": {},
   "outputs": [
    {
     "name": "stdout",
     "output_type": "stream",
     "text": [
      "              precision    recall  f1-score   support\n",
      "\n",
      "           0       0.69      0.37      0.48       629\n",
      "           1       0.65      0.88      0.75       844\n",
      "\n",
      "    accuracy                           0.66      1473\n",
      "   macro avg       0.67      0.62      0.61      1473\n",
      "weighted avg       0.67      0.66      0.63      1473\n",
      "\n"
     ]
    }
   ],
   "source": [
    "from sklearn.metrics import classification_report\n",
    "print(classification_report(y, pred_class))"
   ]
  },
  {
   "cell_type": "code",
   "execution_count": 477,
   "id": "38eab19c",
   "metadata": {},
   "outputs": [
    {
     "data": {
      "text/plain": [
       "(1473, 10)"
      ]
     },
     "execution_count": 477,
     "metadata": {},
     "output_type": "execute_result"
    }
   ],
   "source": [
    "X.shape"
   ]
  },
  {
   "cell_type": "code",
   "execution_count": 478,
   "id": "31d6ad75",
   "metadata": {},
   "outputs": [
    {
     "data": {
      "text/plain": [
       "array([[-0.        , -0.02391364,  0.1385094 ,  0.17950957,  0.17717194,\n",
       "        -0.47882516, -0.14179859, -0.03924888, -0.01943423, -1.26837454]])"
      ]
     },
     "execution_count": 478,
     "metadata": {},
     "output_type": "execute_result"
    }
   ],
   "source": [
    "model.coef_"
   ]
  },
  {
   "cell_type": "code",
   "execution_count": 479,
   "id": "b2c30479",
   "metadata": {},
   "outputs": [
    {
     "data": {
      "text/plain": [
       "array([0.26758807])"
      ]
     },
     "execution_count": 479,
     "metadata": {},
     "output_type": "execute_result"
    }
   ],
   "source": [
    "model.intercept_"
   ]
  },
  {
   "cell_type": "markdown",
   "id": "12f28164",
   "metadata": {},
   "source": [
    "#### The lda for the above model is\n",
    "LDA=0.267+ X1*(-0.) + X2*(-0.023) + X3*( 0.138) + X4*(0.179) + X5*(0.177) + X6*(-0.478) + X7*(-0.141) + X8*(-0.039) + X9*(-0.019) + X10*(-1.268)"
   ]
  },
  {
   "cell_type": "markdown",
   "id": "101e961f",
   "metadata": {},
   "source": [
    "#### So from the above equation the following things can be summarized as\n",
    "1. The coeff of X10 predictor is largest in magnitude thus it helps in discriminating the target the best\n",
    "2. The coeff of X1 predictor is smallest in magnitude thus it helps in discriminating the target the least.\n",
    "3. All the DS can be computed for each row using the above f(x) which will aid in classification"
   ]
  },
  {
   "cell_type": "markdown",
   "id": "0f264142",
   "metadata": {},
   "source": [
    "#### CART"
   ]
  },
  {
   "cell_type": "code",
   "execution_count": 483,
   "id": "acfa6bb2",
   "metadata": {},
   "outputs": [],
   "source": [
    "# splitting data into training and test set for independent attributes\n",
    "from sklearn.model_selection import train_test_split\n",
    "\n",
    "X_train, X_test, train_labels, test_labels = train_test_split(X, y, test_size=.30, random_state=1)\n"
   ]
  },
  {
   "cell_type": "code",
   "execution_count": 484,
   "id": "16e48789",
   "metadata": {},
   "outputs": [],
   "source": [
    "from sklearn.tree import DecisionTreeClassifier"
   ]
  },
  {
   "cell_type": "code",
   "execution_count": 485,
   "id": "53918d9a",
   "metadata": {},
   "outputs": [],
   "source": [
    "dt_model = DecisionTreeClassifier(criterion = 'gini' )"
   ]
  },
  {
   "cell_type": "code",
   "execution_count": 486,
   "id": "548ec5cb",
   "metadata": {},
   "outputs": [
    {
     "data": {
      "text/plain": [
       "DecisionTreeClassifier()"
      ]
     },
     "execution_count": 486,
     "metadata": {},
     "output_type": "execute_result"
    }
   ],
   "source": [
    "dt_model.fit(X_train, train_labels)"
   ]
  },
  {
   "cell_type": "code",
   "execution_count": 487,
   "id": "4d2dda03",
   "metadata": {},
   "outputs": [],
   "source": [
    "from sklearn import tree\n",
    "\n",
    "train_char_label = ['No', 'Yes']\n",
    "Credit_Tree_File = open('d:\\credit_tree.dot','w')\n",
    "dot_data = tree.export_graphviz(dt_model, out_file=Credit_Tree_File, feature_names = list(X_train), class_names = list(train_char_label))\n",
    "\n",
    "Credit_Tree_File.close()"
   ]
  },
  {
   "cell_type": "code",
   "execution_count": 488,
   "id": "84e0e94e",
   "metadata": {},
   "outputs": [
    {
     "name": "stdout",
     "output_type": "stream",
     "text": [
      "                               Imp\n",
      "const                     0.000000\n",
      "Wife_age                  0.357754\n",
      "Wife_ education           0.075831\n",
      "Husband_education         0.052749\n",
      "No_of_children_born       0.237189\n",
      "Wife_religion             0.041051\n",
      "Wife_Working              0.051520\n",
      "Husband_Occupation        0.079569\n",
      "Standard_of_living_index  0.088918\n",
      "Media_exposure            0.015418\n"
     ]
    }
   ],
   "source": [
    "# importance of features in the tree building ( The importance of a feature is computed as the \n",
    "#(normalized) total reduction of the criterion brought by that feature. It is also known as the Gini importance )\n",
    "\n",
    "print (pd.DataFrame(dt_model.feature_importances_, columns = [\"Imp\"], index = X_train.columns))\n"
   ]
  },
  {
   "cell_type": "code",
   "execution_count": 489,
   "id": "f3d614b0",
   "metadata": {},
   "outputs": [],
   "source": [
    "y_predict = dt_model.predict(X_test)"
   ]
  },
  {
   "cell_type": "code",
   "execution_count": 490,
   "id": "07d60056",
   "metadata": {},
   "outputs": [
    {
     "data": {
      "text/plain": [
       "DecisionTreeClassifier(max_depth=7, min_samples_leaf=10, min_samples_split=30)"
      ]
     },
     "execution_count": 490,
     "metadata": {},
     "output_type": "execute_result"
    }
   ],
   "source": [
    "#Regularising the Decision Tree\n",
    "reg_dt_model = DecisionTreeClassifier(criterion = 'gini', max_depth = 7,min_samples_leaf=10,min_samples_split=30)\n",
    "reg_dt_model.fit(X_train, train_labels)"
   ]
  },
  {
   "cell_type": "code",
   "execution_count": 491,
   "id": "640fe87a",
   "metadata": {},
   "outputs": [
    {
     "name": "stdout",
     "output_type": "stream",
     "text": [
      "                               Imp\n",
      "const                     0.000000\n",
      "Wife_age                  0.357754\n",
      "Wife_ education           0.075831\n",
      "Husband_education         0.052749\n",
      "No_of_children_born       0.237189\n",
      "Wife_religion             0.041051\n",
      "Wife_Working              0.051520\n",
      "Husband_Occupation        0.079569\n",
      "Standard_of_living_index  0.088918\n",
      "Media_exposure            0.015418\n"
     ]
    }
   ],
   "source": [
    "credit_tree_regularized = open('d:\\credit_tree_regularized.dot','w')\n",
    "dot_data = tree.export_graphviz(reg_dt_model, out_file= credit_tree_regularized , feature_names = list(X_train), class_names = list(train_char_label))\n",
    "\n",
    "credit_tree_regularized.close()\n",
    "\n",
    "print (pd.DataFrame(dt_model.feature_importances_, columns = [\"Imp\"], index = X_train.columns))"
   ]
  },
  {
   "cell_type": "markdown",
   "id": "7c040fee",
   "metadata": {},
   "source": [
    "## 2.3 Performance Metrics: Check the performance of Predictions on Train and Test sets using Accuracy, Confusion Matrix, Plot ROC curve and get ROC_AUC score for each model Final Model: Compare Both the models and write inference which model is best/optimized."
   ]
  },
  {
   "cell_type": "markdown",
   "id": "e3aaf84d",
   "metadata": {},
   "source": [
    "Logistic Regression"
   ]
  },
  {
   "cell_type": "code",
   "execution_count": 504,
   "id": "46342102",
   "metadata": {},
   "outputs": [
    {
     "data": {
      "text/plain": [
       "0.6612355736591989"
      ]
     },
     "execution_count": 504,
     "metadata": {},
     "output_type": "execute_result"
    }
   ],
   "source": [
    "#Model Evaluation\n",
    "model.score(X, y)"
   ]
  },
  {
   "cell_type": "code",
   "execution_count": 505,
   "id": "b93d682f",
   "metadata": {},
   "outputs": [
    {
     "name": "stdout",
     "output_type": "stream",
     "text": [
      "AUC: 0.791\n"
     ]
    },
    {
     "data": {
      "image/png": "[encoded data removed]",
      "text/plain": [
       "<Figure size 432x288 with 1 Axes>"
      ]
     },
     "metadata": {
      "needs_background": "light"
     },
     "output_type": "display_data"
    }
   ],
   "source": [
    "# AUC and ROC for the training data\n",
    "\n",
    "# predict probabilities\n",
    "probs = reg_dt_model.predict_proba(X_train)\n",
    "# keep probabilities for the positive outcome only\n",
    "probs = probs[:, 1]\n",
    "# calculate AUC\n",
    "from sklearn.metrics import roc_auc_score\n",
    "auc = roc_auc_score(train_labels, probs)\n",
    "print('AUC: %.3f' % auc)\n",
    "# calculate roc curve\n",
    "from sklearn.metrics import roc_curve\n",
    "fpr, tpr, thresholds = roc_curve(train_labels, probs)\n",
    "plt.plot([0, 1], [0, 1], linestyle='--')\n",
    "# plot the roc curve for the model\n",
    "plt.plot(fpr, tpr, marker='.')\n",
    "# show the plot\n",
    "plt.show()"
   ]
  },
  {
   "cell_type": "code",
   "execution_count": 506,
   "id": "c3438b34",
   "metadata": {},
   "outputs": [
    {
     "name": "stdout",
     "output_type": "stream",
     "text": [
      "AUC: 0.754\n"
     ]
    },
    {
     "data": {
      "image/png": "[encoded data removed]",
      "text/plain": [
       "<Figure size 432x288 with 1 Axes>"
      ]
     },
     "metadata": {
      "needs_background": "light"
     },
     "output_type": "display_data"
    }
   ],
   "source": [
    "# AUC and ROC for the test data\n",
    "\n",
    "\n",
    "# predict probabilities\n",
    "probs = reg_dt_model.predict_proba(X_test)\n",
    "# keep probabilities for the positive outcome only\n",
    "probs = probs[:, 1]\n",
    "# calculate AUC\n",
    "from sklearn.metrics import roc_auc_score\n",
    "auc = roc_auc_score(test_labels, probs)\n",
    "print('AUC: %.3f' % auc)\n",
    "# calculate roc curve\n",
    "from sklearn.metrics import roc_curve\n",
    "fpr, tpr, thresholds = roc_curve(test_labels, probs)\n",
    "plt.plot([0, 1], [0, 1], linestyle='--')\n",
    "# plot the roc curve for the model\n",
    "plt.plot(fpr, tpr, marker='.')\n",
    "# show the plot\n",
    "plt.show()"
   ]
  },
  {
   "cell_type": "code",
   "execution_count": 507,
   "id": "a99e4f73",
   "metadata": {},
   "outputs": [
    {
     "data": {
      "image/png": "[encoded data removed]",
      "text/plain": [
       "<Figure size 576x576 with 1 Axes>"
      ]
     },
     "metadata": {
      "needs_background": "light"
     },
     "output_type": "display_data"
    }
   ],
   "source": [
    "cm = confusion_matrix(y, model.predict(X))\n",
    "\n",
    "fig, ax = plt.subplots(figsize=(8, 8))\n",
    "ax.imshow(cm)\n",
    "ax.grid(False)\n",
    "ax.xaxis.set(ticks=(0, 1), ticklabels=('Predicted 0s', 'Predicted 1s'))\n",
    "ax.yaxis.set(ticks=(0, 1), ticklabels=('Actual 0s', 'Actual 1s'))\n",
    "ax.set_ylim(1.5, -0.5)\n",
    "for i in range(2):\n",
    "    for j in range(2):\n",
    "        ax.text(j, i, cm[i, j], ha='center', va='center', color='red')\n",
    "plt.show()"
   ]
  },
  {
   "cell_type": "code",
   "execution_count": 508,
   "id": "228a97b2",
   "metadata": {},
   "outputs": [],
   "source": [
    "from sklearn.metrics import classification_report,confusion_matrix"
   ]
  },
  {
   "cell_type": "code",
   "execution_count": 509,
   "id": "500a3cfb",
   "metadata": {},
   "outputs": [
    {
     "name": "stdout",
     "output_type": "stream",
     "text": [
      "              precision    recall  f1-score   support\n",
      "\n",
      "           0       0.73      0.58      0.65       436\n",
      "           1       0.73      0.85      0.78       595\n",
      "\n",
      "    accuracy                           0.73      1031\n",
      "   macro avg       0.73      0.71      0.72      1031\n",
      "weighted avg       0.73      0.73      0.73      1031\n",
      "\n"
     ]
    }
   ],
   "source": [
    "print(classification_report(train_labels, ytrain_predict))"
   ]
  },
  {
   "cell_type": "code",
   "execution_count": 510,
   "id": "f08d026b",
   "metadata": {},
   "outputs": [
    {
     "name": "stdout",
     "output_type": "stream",
     "text": [
      "              precision    recall  f1-score   support\n",
      "\n",
      "           0       0.74      0.54      0.62       193\n",
      "           1       0.71      0.86      0.77       249\n",
      "\n",
      "    accuracy                           0.72       442\n",
      "   macro avg       0.72      0.70      0.70       442\n",
      "weighted avg       0.72      0.72      0.71       442\n",
      "\n"
     ]
    }
   ],
   "source": [
    "print(classification_report(test_labels, ytest_predict))"
   ]
  },
  {
   "cell_type": "markdown",
   "id": "3119ec71",
   "metadata": {},
   "source": [
    "Linear Discriminal Analysis"
   ]
  },
  {
   "cell_type": "code",
   "execution_count": 514,
   "id": "f188e87f",
   "metadata": {},
   "outputs": [
    {
     "name": "stdout",
     "output_type": "stream",
     "text": [
      "0.6515076300790585\n"
     ]
    }
   ],
   "source": [
    "#Define method to evaluate model\n",
    "cv = RepeatedStratifiedKFold(n_splits=10, n_repeats=3, random_state=1)\n",
    "\n",
    "#evaluate model\n",
    "scores = cross_val_score(model, X, y, scoring='accuracy', cv=cv, n_jobs=-1)\n",
    "print(np.mean(scores))   "
   ]
  },
  {
   "cell_type": "code",
   "execution_count": 515,
   "id": "20911869",
   "metadata": {},
   "outputs": [
    {
     "data": {
      "image/png": "[encoded data removed]",
      "text/plain": [
       "<Figure size 432x288 with 2 Axes>"
      ]
     },
     "metadata": {
      "needs_background": "light"
     },
     "output_type": "display_data"
    }
   ],
   "source": [
    "plt.figure(figsize=(6,4))\n",
    "sns.heatmap(confusion_matrix(y, pred_class),annot=True,fmt='.4g'),'\\n\\n'\n",
    "plt.ylabel('Actual Value')\n",
    "plt.xlabel('Predicted Value')\n",
    "plt.show();"
   ]
  },
  {
   "cell_type": "code",
   "execution_count": 516,
   "id": "a20a9db5",
   "metadata": {},
   "outputs": [
    {
     "name": "stdout",
     "output_type": "stream",
     "text": [
      "AUC: 0.791\n"
     ]
    },
    {
     "data": {
      "image/png": "[encoded data removed]",
      "text/plain": [
       "<Figure size 432x288 with 1 Axes>"
      ]
     },
     "metadata": {
      "needs_background": "light"
     },
     "output_type": "display_data"
    }
   ],
   "source": [
    "# AUC and ROC for the training data\n",
    "\n",
    "# predict probabilities\n",
    "probs = reg_dt_model.predict_proba(X_train)\n",
    "# keep probabilities for the positive outcome only\n",
    "probs = probs[:, 1]\n",
    "# calculate AUC\n",
    "from sklearn.metrics import roc_auc_score\n",
    "auc = roc_auc_score(train_labels, probs)\n",
    "print('AUC: %.3f' % auc)\n",
    "# calculate roc curve\n",
    "from sklearn.metrics import roc_curve\n",
    "fpr, tpr, thresholds = roc_curve(train_labels, probs)\n",
    "plt.plot([0, 1], [0, 1], linestyle='--')\n",
    "# plot the roc curve for the model\n",
    "plt.plot(fpr, tpr, marker='.')\n",
    "# show the plot\n",
    "plt.show()"
   ]
  },
  {
   "cell_type": "code",
   "execution_count": 517,
   "id": "9a1751fb",
   "metadata": {},
   "outputs": [
    {
     "name": "stdout",
     "output_type": "stream",
     "text": [
      "AUC: 0.754\n"
     ]
    },
    {
     "data": {
      "image/png": "[encoded data removed]",
      "text/plain": [
       "<Figure size 432x288 with 1 Axes>"
      ]
     },
     "metadata": {
      "needs_background": "light"
     },
     "output_type": "display_data"
    }
   ],
   "source": [
    "# AUC and ROC for the test data\n",
    "\n",
    "\n",
    "# predict probabilities\n",
    "probs = reg_dt_model.predict_proba(X_test)\n",
    "# keep probabilities for the positive outcome only\n",
    "probs = probs[:, 1]\n",
    "# calculate AUC\n",
    "from sklearn.metrics import roc_auc_score\n",
    "auc = roc_auc_score(test_labels, probs)\n",
    "print('AUC: %.3f' % auc)\n",
    "# calculate roc curve\n",
    "from sklearn.metrics import roc_curve\n",
    "fpr, tpr, thresholds = roc_curve(test_labels, probs)\n",
    "plt.plot([0, 1], [0, 1], linestyle='--')\n",
    "# plot the roc curve for the model\n",
    "plt.plot(fpr, tpr, marker='.')\n",
    "# show the plot\n",
    "plt.show()"
   ]
  },
  {
   "cell_type": "code",
   "execution_count": 518,
   "id": "00e0b2ce",
   "metadata": {},
   "outputs": [],
   "source": [
    "from sklearn.metrics import classification_report,confusion_matrix"
   ]
  },
  {
   "cell_type": "code",
   "execution_count": 519,
   "id": "cdc21109",
   "metadata": {},
   "outputs": [
    {
     "name": "stdout",
     "output_type": "stream",
     "text": [
      "              precision    recall  f1-score   support\n",
      "\n",
      "           0       0.73      0.58      0.65       436\n",
      "           1       0.73      0.85      0.78       595\n",
      "\n",
      "    accuracy                           0.73      1031\n",
      "   macro avg       0.73      0.71      0.72      1031\n",
      "weighted avg       0.73      0.73      0.73      1031\n",
      "\n"
     ]
    }
   ],
   "source": [
    "print(classification_report(train_labels, ytrain_predict))"
   ]
  },
  {
   "cell_type": "code",
   "execution_count": 520,
   "id": "4dfd1acb",
   "metadata": {},
   "outputs": [
    {
     "name": "stdout",
     "output_type": "stream",
     "text": [
      "              precision    recall  f1-score   support\n",
      "\n",
      "           0       0.74      0.54      0.62       193\n",
      "           1       0.71      0.86      0.77       249\n",
      "\n",
      "    accuracy                           0.72       442\n",
      "   macro avg       0.72      0.70      0.70       442\n",
      "weighted avg       0.72      0.72      0.71       442\n",
      "\n"
     ]
    }
   ],
   "source": [
    "print(classification_report(test_labels, ytest_predict))"
   ]
  },
  {
   "cell_type": "markdown",
   "id": "52cebefd",
   "metadata": {},
   "source": [
    "Insights:\n",
    "Both Logistic regression and have LDA similar results and hence for the given data set both models are in ideal form based on the ROC curve and get ROC_AUC score."
   ]
  },
  {
   "cell_type": "markdown",
   "id": "9d536a5e",
   "metadata": {},
   "source": [
    "## 2.4 Inference: Basis on these predictions, what are the insights and recommendations."
   ]
  },
  {
   "cell_type": "markdown",
   "id": "c34415b1",
   "metadata": {},
   "source": [
    "Insights from LDA:"
   ]
  },
  {
   "cell_type": "markdown",
   "id": "8ec54fe6",
   "metadata": {},
   "source": [
    "#### For predicting ‘Contraceptive_method_used’ is “Yes”  (Label 1 ):\n",
    "1. Precision (65%) – 65% of people predicted are actually   using contraceptions out of all people predicted to have been not using contraceptions\n",
    "2. Recall (79%) – Out of all the people using contraceptions ,79% of families have been predicted correctly Overall accuracy of the model – 63 % of total predictions are correct"
   ]
  },
  {
   "cell_type": "markdown",
   "id": "8ac0e6ed",
   "metadata": {},
   "source": [
    "#### For predicting ‘Contraceptive_method_used’ is “No”  (Label 0 ):\n",
    "1. Precision (65%) – 67% of the people predicted are actually  not using contraceptions out of all families predicted to have been not using contraceptions\n",
    "2. Recall (68%) – Out of all the people not using contraceptions ,68% of families  have been predicted correctly .\n"
   ]
  },
  {
   "cell_type": "markdown",
   "id": "16ebe0e1",
   "metadata": {},
   "source": [
    "#### Overall accuracy of the model – 63 % of total predictions are correct\n",
    "#### Accuracy, AUC, Precision and  Recall for test data is almost inline with training data. This proves no overfitting or underfitting has happened, and overall the model is a good model for classification\n"
   ]
  },
  {
   "cell_type": "markdown",
   "id": "648e55a5",
   "metadata": {},
   "source": [
    "Insights from Logistic regression:\n"
   ]
  },
  {
   "cell_type": "markdown",
   "id": "9db94468",
   "metadata": {},
   "source": [
    "#### For predicting ‘Contraceptive_method_used’ is “Yes”  (Label 1 ):\n",
    "1. Precision (70%) – 70% of people predicted are actually   using contraceptions out of all people predicted to have been not using contraceptions\n",
    "2. Recall (79%) – Out of all the people using contraceptions ,79% of families have been predicted correctly"
   ]
  },
  {
   "cell_type": "markdown",
   "id": "0ff56315",
   "metadata": {},
   "source": [
    "#### For predicting ‘Contraceptive_method_used’ is “No”  (Label 0 ):\n",
    "1. Precision (65%) – 65% of the people predicted are actually  not using contraceptions out of all families predicted to have been not using contraceptions\n",
    "2. Recall (50%) – Out of all the people not using contraceptions ,50% of families  have been predicted correctly .\n"
   ]
  },
  {
   "cell_type": "markdown",
   "id": "2f2f9b93",
   "metadata": {},
   "source": [
    "#### Overall accuracy of the model – 63 % of total predictions are correct\n",
    "#### Accuracy, AUC, Precision and  Recall for test data is almost inline with training data. This proves no overfitting or underfitting has happened, and overall the model is a good model for classification"
   ]
  }
 ],
 "metadata": {
  "kernelspec": {
   "display_name": "Python 3 (ipykernel)",
   "language": "python",
   "name": "python3"
  },
  "language_info": {
   "codemirror_mode": {
    "name": "ipython",
    "version": 3
   },
   "file_extension": ".py",
   "mimetype": "text/x-python",
   "name": "python",
   "nbconvert_exporter": "python",
   "pygments_lexer": "ipython3",
   "version": "3.9.12"
  }
 },
 "nbformat": 4,
 "nbformat_minor": 5
}
