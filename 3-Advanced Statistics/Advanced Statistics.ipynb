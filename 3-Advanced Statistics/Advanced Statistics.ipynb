{
 "cells": [
  {
   "cell_type": "markdown",
   "id": "04ffc6e5",
   "metadata": {},
   "source": [
    "# GRADED Project AS\n",
    "## Problem 1:\n",
    "### A physiotherapist with a male football team is interested in studying the relationship between foot injuries and the positions at which the players play from the data collected."
   ]
  },
  {
   "cell_type": "markdown",
   "id": "88fe2391",
   "metadata": {},
   "source": [
    "#### Let's import the libraries."
   ]
  },
  {
   "cell_type": "code",
   "execution_count": 136,
   "id": "bf73855a",
   "metadata": {},
   "outputs": [],
   "source": [
    "# import the important packages\n",
    "import pandas as pd  # library used for data manipulation and analysis\n",
    "import numpy as np  # library used for working with arrays\n",
    "import matplotlib.pyplot as plt  # library for plots and visualizations\n",
    "import seaborn as sns  # library for visualizations\n",
    "\n",
    "%matplotlib inline\n",
    "\n",
    "import scipy.stats as stats  # this library contains a large number of probability distributions as well as a growing library of statistical functions"
   ]
  },
  {
   "cell_type": "markdown",
   "id": "fd66123b",
   "metadata": {},
   "source": [
    "#### Import the data sheet for problem 1."
   ]
  },
  {
   "cell_type": "code",
   "execution_count": 10,
   "id": "40635444",
   "metadata": {},
   "outputs": [],
   "source": [
    "df = pd.read_excel(\"Problem 1 data.xlsx\")"
   ]
  },
  {
   "cell_type": "code",
   "execution_count": 11,
   "id": "02c14efe",
   "metadata": {},
   "outputs": [
    {
     "data": {
      "text/html": [
       "<div>\n",
       "<style scoped>\n",
       "    .dataframe tbody tr th:only-of-type {\n",
       "        vertical-align: middle;\n",
       "    }\n",
       "\n",
       "    .dataframe tbody tr th {\n",
       "        vertical-align: top;\n",
       "    }\n",
       "\n",
       "    .dataframe thead th {\n",
       "        text-align: right;\n",
       "    }\n",
       "</style>\n",
       "<table border=\"1\" class=\"dataframe\">\n",
       "  <thead>\n",
       "    <tr style=\"text-align: right;\">\n",
       "      <th></th>\n",
       "      <th>Unnamed: 0</th>\n",
       "      <th>Striker</th>\n",
       "      <th>Forward</th>\n",
       "      <th>Attacking Midfielder</th>\n",
       "      <th>Winger</th>\n",
       "      <th>Total</th>\n",
       "    </tr>\n",
       "  </thead>\n",
       "  <tbody>\n",
       "    <tr>\n",
       "      <th>0</th>\n",
       "      <td>Players Injured</td>\n",
       "      <td>45</td>\n",
       "      <td>56</td>\n",
       "      <td>24</td>\n",
       "      <td>20</td>\n",
       "      <td>145</td>\n",
       "    </tr>\n",
       "    <tr>\n",
       "      <th>1</th>\n",
       "      <td>Players Not Injured</td>\n",
       "      <td>32</td>\n",
       "      <td>38</td>\n",
       "      <td>11</td>\n",
       "      <td>9</td>\n",
       "      <td>90</td>\n",
       "    </tr>\n",
       "    <tr>\n",
       "      <th>2</th>\n",
       "      <td>Total</td>\n",
       "      <td>77</td>\n",
       "      <td>94</td>\n",
       "      <td>35</td>\n",
       "      <td>29</td>\n",
       "      <td>235</td>\n",
       "    </tr>\n",
       "  </tbody>\n",
       "</table>\n",
       "</div>"
      ],
      "text/plain": [
       "            Unnamed: 0  Striker  Forward  Attacking Midfielder  Winger  Total\n",
       "0      Players Injured       45       56                    24      20    145\n",
       "1  Players Not Injured       32       38                    11       9     90\n",
       "2                Total       77       94                    35      29    235"
      ]
     },
     "execution_count": 11,
     "metadata": {},
     "output_type": "execute_result"
    }
   ],
   "source": [
    "df"
   ]
  },
  {
   "cell_type": "code",
   "execution_count": 12,
   "id": "79af4b3f",
   "metadata": {},
   "outputs": [
    {
     "name": "stdout",
     "output_type": "stream",
     "text": [
      "<class 'pandas.core.frame.DataFrame'>\n",
      "RangeIndex: 3 entries, 0 to 2\n",
      "Data columns (total 6 columns):\n",
      " #   Column                Non-Null Count  Dtype \n",
      "---  ------                --------------  ----- \n",
      " 0   Unnamed: 0            3 non-null      object\n",
      " 1   Striker               3 non-null      int64 \n",
      " 2   Forward               3 non-null      int64 \n",
      " 3   Attacking Midfielder  3 non-null      int64 \n",
      " 4   Winger                3 non-null      int64 \n",
      " 5   Total                 3 non-null      int64 \n",
      "dtypes: int64(5), object(1)\n",
      "memory usage: 272.0+ bytes\n"
     ]
    }
   ],
   "source": [
    "df.info()"
   ]
  },
  {
   "cell_type": "markdown",
   "id": "b5b6138a",
   "metadata": {},
   "source": [
    "### 1.1 What is the probability that a randomly chosen player would suffer an injury?"
   ]
  },
  {
   "cell_type": "code",
   "execution_count": 16,
   "id": "83c72dec",
   "metadata": {},
   "outputs": [
    {
     "data": {
      "text/plain": [
       "0.006896551724137931"
      ]
     },
     "execution_count": 16,
     "metadata": {},
     "output_type": "execute_result"
    }
   ],
   "source": [
    "#randomly chosen player\n",
    "a = 1\n",
    "#total players injured \n",
    "b = 145\n",
    "#probability that a randomly chosen player would suffer an injury.\n",
    "c = a/b\n",
    "c"
   ]
  },
  {
   "cell_type": "markdown",
   "id": "f9c06991",
   "metadata": {},
   "source": [
    "#### 1.1.A) the probability of a randomly chosen player would suffer an injury is \n",
    "##### 0.006896551724137931(for a single random player).\n",
    "                                                                             "
   ]
  },
  {
   "cell_type": "markdown",
   "id": "b37a8fd8",
   "metadata": {},
   "source": [
    "### 1.2 What is the probability that a player is a forward or a winger?"
   ]
  },
  {
   "cell_type": "code",
   "execution_count": 17,
   "id": "5b86f81b",
   "metadata": {},
   "outputs": [
    {
     "data": {
      "text/plain": [
       "0.5234042553191489"
      ]
     },
     "execution_count": 17,
     "metadata": {},
     "output_type": "execute_result"
    }
   ],
   "source": [
    "a = 235 #total male football players\n",
    "b = 94 #total forward players\n",
    "c = 29 #total winger players\n",
    "d = b/a+c/a #Probability of forward or winger\n",
    "d"
   ]
  },
  {
   "cell_type": "markdown",
   "id": "b0342b9a",
   "metadata": {},
   "source": [
    "#### 1.2.A) the probability that a player is a forward or a winger is 0.5234042553191489"
   ]
  },
  {
   "cell_type": "markdown",
   "id": "ce62227e",
   "metadata": {},
   "source": [
    "### 1.3 What is the probability that a randomly chosen player plays in a striker position and has a foot injury?"
   ]
  },
  {
   "cell_type": "code",
   "execution_count": 18,
   "id": "2a6e7d68",
   "metadata": {},
   "outputs": [
    {
     "data": {
      "text/plain": [
       "0.19148936170212766"
      ]
     },
     "execution_count": 18,
     "metadata": {},
     "output_type": "execute_result"
    }
   ],
   "source": [
    "a = 45 #number of players who are injured in a striker position.\n",
    "b = 235 #total male football players\n",
    "c = a/b #probability of randomly chosen player plays in a striker position and has a foot injury\n",
    "c"
   ]
  },
  {
   "cell_type": "markdown",
   "id": "846845da",
   "metadata": {},
   "source": [
    "#### 1.3.A) the probability that a randomly chosen player plays in a striker position and has a foot injury is 0.19148936170212766"
   ]
  },
  {
   "cell_type": "markdown",
   "id": "7e7774b3",
   "metadata": {},
   "source": [
    "### 1.4 What is the probability that a randomly chosen injured player is a striker?"
   ]
  },
  {
   "cell_type": "code",
   "execution_count": 19,
   "id": "191c1389",
   "metadata": {},
   "outputs": [
    {
     "data": {
      "text/plain": [
       "0.3103448275862069"
      ]
     },
     "execution_count": 19,
     "metadata": {},
     "output_type": "execute_result"
    }
   ],
   "source": [
    "a = 235 #total male football players.\n",
    "b = 45 #number of players who are injured in a striker position.\n",
    "c = 145 #total players injured.\n",
    "d = b/a #probability of randomly chosen player plays in a striker position and has a foot injury.\n",
    "e = c/a #probability that a randomly chosen player would suffer an injury.\n",
    "f = d/e #probability that a randomly chosen injured player is a striker.\n",
    "f"
   ]
  },
  {
   "cell_type": "markdown",
   "id": "5370ea79",
   "metadata": {},
   "source": [
    "#### 1.4.A)  the probability that a randomly chosen injured player is a striker is 0.3103448275862069."
   ]
  },
  {
   "cell_type": "markdown",
   "id": "908672a1",
   "metadata": {},
   "source": [
    "### 1.5 What is the probability that a randomly chosen injured player is either a forward or an attacking midfielder? "
   ]
  },
  {
   "cell_type": "code",
   "execution_count": 20,
   "id": "38a215b8",
   "metadata": {},
   "outputs": [
    {
     "data": {
      "text/plain": [
       "0.5517241379310345"
      ]
     },
     "execution_count": 20,
     "metadata": {},
     "output_type": "execute_result"
    }
   ],
   "source": [
    "a = 145 #total injured players.\n",
    "b = 56 #total forward injured players.\n",
    "c = 24 #total midfielder injured players.\n",
    "d = (b+c)/a # probability that a randomly chosen injured player is either a forward or an attacking midfielder\n",
    "d"
   ]
  },
  {
   "cell_type": "markdown",
   "id": "2b15b3d4",
   "metadata": {},
   "source": [
    "#### 1.5.A)the probability that a randomly chosen injured player is either a forward or an attacking midfielder is 0.5517241379310345."
   ]
  },
  {
   "cell_type": "markdown",
   "id": "e67e207f",
   "metadata": {},
   "source": [
    "## Problem 2\n",
    "### An independent research organization is trying to estimate the probability that an accident at a nuclear power plant will result in radiation leakage. The types of accidents possible at the plant are, fire hazards, mechanical failure, or human error. The research organization also knows that two or more types of accidents cannot occur simultaneously.\n",
    "\n",
    "### According to the studies carried out by the organization, the probability of a radiation leak in case of a fire is 20%, the probability of a radiation leak in case of a mechanical 50%, and the probability of a radiation leak in case of a human error is 10%. The studies also showed the following;\n",
    "\n",
    "### The probability of a radiation leak occurring simultaneously with a fire is 0.1%.\n",
    "### The probability of a radiation leak occurring simultaneously with a mechanical failure is 0.15%.\n",
    "### The probability of a radiation leak occurring simultaneously with a human error is 0.12%.\n",
    "### On the basis of the information available, answer the questions below:"
   ]
  },
  {
   "cell_type": "markdown",
   "id": "d3cccc5f",
   "metadata": {},
   "source": [
    "### 2.1 What are the probabilities of a fire, a mechanical failure, and a human error respectively?\n"
   ]
  },
  {
   "cell_type": "code",
   "execution_count": 32,
   "id": "79bed919",
   "metadata": {},
   "outputs": [],
   "source": [
    "a = 0.001 #The probability of a radiation leak occurring simultaneously with a fire is 0.1%.\n",
    "b = 0.0015 #The probability of a radiation leak occurring simultaneously with a mechanical failure is 0.15%.\n",
    "c = 0.0012 #The probability of a radiation leak occurring simultaneously with a human error is 0.12%.\n",
    "d = 0.2 #the probability of a radiation leak in case of a fire is 20%\n",
    "e = 0.5 #the probability of a radiation leak in case of a mechanicalfailure 50%\n",
    "f = 0.1 #the probability of a radiation leak in case of a human error is 10%"
   ]
  },
  {
   "cell_type": "code",
   "execution_count": 25,
   "id": "52da9469",
   "metadata": {},
   "outputs": [
    {
     "data": {
      "text/plain": [
       "0.005"
      ]
     },
     "execution_count": 25,
     "metadata": {},
     "output_type": "execute_result"
    }
   ],
   "source": [
    "#Probability of fire\n",
    "x = a/d\n",
    "x"
   ]
  },
  {
   "cell_type": "code",
   "execution_count": 26,
   "id": "eb6de139",
   "metadata": {},
   "outputs": [
    {
     "data": {
      "text/plain": [
       "0.003"
      ]
     },
     "execution_count": 26,
     "metadata": {},
     "output_type": "execute_result"
    }
   ],
   "source": [
    "#Probability of a mechanical failure\n",
    "y = b/e\n",
    "y"
   ]
  },
  {
   "cell_type": "code",
   "execution_count": 27,
   "id": "196f58ab",
   "metadata": {},
   "outputs": [
    {
     "data": {
      "text/plain": [
       "0.011999999999999999"
      ]
     },
     "execution_count": 27,
     "metadata": {},
     "output_type": "execute_result"
    }
   ],
   "source": [
    "#Probability of a human error\n",
    "z = c/f\n",
    "z"
   ]
  },
  {
   "cell_type": "markdown",
   "id": "6f6a32b1",
   "metadata": {},
   "source": [
    "#### 2.1.A) The Probability of fire is 0.005,probability of a mechanical failure is 0.003,probability of a human error is 0.011999999999999999"
   ]
  },
  {
   "cell_type": "markdown",
   "id": "42570f74",
   "metadata": {},
   "source": [
    "### 2.2 What is the probability of a radiation leak?"
   ]
  },
  {
   "cell_type": "code",
   "execution_count": 30,
   "id": "cdd558c7",
   "metadata": {},
   "outputs": [
    {
     "data": {
      "text/plain": [
       "0.98"
      ]
     },
     "execution_count": 30,
     "metadata": {},
     "output_type": "execute_result"
    }
   ],
   "source": [
    "#the types of accidents possible at the plant are, fire hazards, mechanical failure, or human error.\n",
    "N = 1-(x+y+z)\n",
    "N"
   ]
  },
  {
   "cell_type": "code",
   "execution_count": 33,
   "id": "e38bf78c",
   "metadata": {},
   "outputs": [
    {
     "data": {
      "text/plain": [
       "0.0037"
      ]
     },
     "execution_count": 33,
     "metadata": {},
     "output_type": "execute_result"
    }
   ],
   "source": [
    "R_N = 0 #Probability of radiation leak with no accidents\n",
    "R = a+b+c+R_N #Probability of radiation leak\n",
    "R"
   ]
  },
  {
   "cell_type": "markdown",
   "id": "4c6d74d1",
   "metadata": {},
   "source": [
    "#### 2.2.A) The probability of a radiation leak is 0.0037"
   ]
  },
  {
   "cell_type": "markdown",
   "id": "93682a10",
   "metadata": {},
   "source": [
    "### 2.3 Suppose there has been a radiation leak in the reactor for which the definite cause is not known. What is the probability that it has been caused by:\n",
    "\n",
    "### A Fire.\n",
    "### A Mechanical Failure.\n",
    "### A Human Error."
   ]
  },
  {
   "cell_type": "code",
   "execution_count": 34,
   "id": "78202d48",
   "metadata": {},
   "outputs": [
    {
     "data": {
      "text/plain": [
       "0.2702702702702703"
      ]
     },
     "execution_count": 34,
     "metadata": {},
     "output_type": "execute_result"
    }
   ],
   "source": [
    "#Probability of a fire\n",
    "P_F = a/R\n",
    "P_F"
   ]
  },
  {
   "cell_type": "code",
   "execution_count": 35,
   "id": "4d06b43a",
   "metadata": {},
   "outputs": [
    {
     "data": {
      "text/plain": [
       "0.4054054054054054"
      ]
     },
     "execution_count": 35,
     "metadata": {},
     "output_type": "execute_result"
    }
   ],
   "source": [
    "#Probability of a mechanical failure\n",
    "P_M = b/R\n",
    "P_M"
   ]
  },
  {
   "cell_type": "code",
   "execution_count": 36,
   "id": "4886b323",
   "metadata": {},
   "outputs": [
    {
     "data": {
      "text/plain": [
       "0.3243243243243243"
      ]
     },
     "execution_count": 36,
     "metadata": {},
     "output_type": "execute_result"
    }
   ],
   "source": [
    "#Probability of a human error\n",
    "P_H = c/R\n",
    "P_H"
   ]
  },
  {
   "cell_type": "markdown",
   "id": "1b32ebe4",
   "metadata": {},
   "source": [
    "#### 2.3.A) Probability of a fire is 0.2702702702702703, a mechanical failure is 0.4054054054054054, a human error is 0.3243243243243243."
   ]
  },
  {
   "cell_type": "markdown",
   "id": "bc59f89d",
   "metadata": {},
   "source": [
    "## Problem 3:\n",
    "\n",
    "### The breaking strength of gunny bags used for packaging cement is normally distributed with a mean of 5 kg per sq. centimeter and a standard deviation of 1.5 kg per sq. centimeter. The quality team of the cement company wants to know the following about the packaging material to better understand wastage or pilferage within the supply chain; Answer the questions below based on the given information; \n"
   ]
  },
  {
   "cell_type": "code",
   "execution_count": 54,
   "id": "01e5785d",
   "metadata": {},
   "outputs": [],
   "source": [
    "m = 5 #mean of 5 kg per sq. centimeter\n",
    "sd = 1.5 #standard deviation of 1.5 kg per sq. centimeter."
   ]
  },
  {
   "cell_type": "markdown",
   "id": "95c38d7b",
   "metadata": {},
   "source": [
    "### 3.1 What proportion of the gunny bags have a breaking strength less than 3.17 kg per sq cm?"
   ]
  },
  {
   "cell_type": "code",
   "execution_count": 110,
   "id": "02745c56",
   "metadata": {},
   "outputs": [
    {
     "data": {
      "text/plain": [
       "0.11123243744783456"
      ]
     },
     "execution_count": 110,
     "metadata": {},
     "output_type": "execute_result"
    }
   ],
   "source": [
    "import scipy.stats import norm\n",
    "prob = stats.norm.cdf(x= 3.17,  \n",
    "                     loc = 5,               \n",
    "                     scale= 1.5)     \n",
    "prob \n",
    "\n"
   ]
  },
  {
   "cell_type": "code",
   "execution_count": 111,
   "id": "4d8effae",
   "metadata": {},
   "outputs": [
    {
     "data": {
      "image/png": "[encoded data removed]",
      "text/plain": [
       "<IPython.core.display.Image object>"
      ]
     },
     "execution_count": 111,
     "metadata": {},
     "output_type": "execute_result"
    }
   ],
   "source": [
    "from IPython.display import Image\n",
    "Image(\"3.17.png\")"
   ]
  },
  {
   "cell_type": "markdown",
   "id": "729f1df9",
   "metadata": {},
   "source": [
    "#### 3.1.A) therefore,0.11120000000000002 proportion of the gunny bags have a breaking strength less than 3.17 kg per sq cm"
   ]
  },
  {
   "cell_type": "markdown",
   "id": "c4cc3261",
   "metadata": {},
   "source": [
    "### 3.2 What proportion of the gunny bags have a breaking strength at least 3.6 kg per sq cm.?"
   ]
  },
  {
   "cell_type": "code",
   "execution_count": 123,
   "id": "647be637",
   "metadata": {},
   "outputs": [
    {
     "data": {
      "text/plain": [
       "-0.9333333333333332"
      ]
     },
     "execution_count": 123,
     "metadata": {},
     "output_type": "execute_result"
    }
   ],
   "source": [
    "#proportion formula is p(p0<(X-m)/sd<p0)\n",
    "z_score = (3.6-5)/1.5\n",
    "z_score\n"
   ]
  },
  {
   "cell_type": "code",
   "execution_count": 121,
   "id": "7cc611f1",
   "metadata": {},
   "outputs": [
    {
     "data": {
      "text/plain": [
       "0.8238"
      ]
     },
     "execution_count": 121,
     "metadata": {},
     "output_type": "execute_result"
    }
   ],
   "source": [
    "p1 = 0.5+0.3238 #obtained from the normal distribution table of p(-0.93<= z<0)\n",
    "p1"
   ]
  },
  {
   "cell_type": "markdown",
   "id": "b5af3ad8",
   "metadata": {},
   "source": [
    "#### 3.2.A)Hence,0.8238 proportion of the gunny bags have a breaking strength at least 3.6 kg per sq cm."
   ]
  },
  {
   "cell_type": "markdown",
   "id": "486d214a",
   "metadata": {},
   "source": [
    "### 3.3 What proportion of the gunny bags have a breaking strength between 5 and 5.5 kg per sq cm?"
   ]
  },
  {
   "cell_type": "code",
   "execution_count": 125,
   "id": "cdf09933",
   "metadata": {},
   "outputs": [
    {
     "data": {
      "text/plain": [
       "0.0"
      ]
     },
     "execution_count": 125,
     "metadata": {},
     "output_type": "execute_result"
    }
   ],
   "source": [
    "#proportion formula is p(p0<(X-m)/sd<p0)\n",
    "z1 = (5-m)/sd\n",
    "z1"
   ]
  },
  {
   "cell_type": "code",
   "execution_count": 129,
   "id": "e7808b2b",
   "metadata": {},
   "outputs": [
    {
     "data": {
      "text/plain": [
       "0.3333333333333333"
      ]
     },
     "execution_count": 129,
     "metadata": {},
     "output_type": "execute_result"
    }
   ],
   "source": [
    "z2 = (5.5-5)/1.5\n",
    "z2"
   ]
  },
  {
   "cell_type": "code",
   "execution_count": 127,
   "id": "14916160",
   "metadata": {},
   "outputs": [],
   "source": [
    "p = 0.1293 #obtained from the normal distribution table of p(0<z<0.33)"
   ]
  },
  {
   "cell_type": "code",
   "execution_count": 124,
   "id": "53c60fc3",
   "metadata": {},
   "outputs": [
    {
     "data": {
      "image/png": "[encoded data removed]",
      "text/plain": [
       "<IPython.core.display.Image object>"
      ]
     },
     "execution_count": 124,
     "metadata": {},
     "output_type": "execute_result"
    }
   ],
   "source": [
    "from IPython.display import Image\n",
    "Image(\"0.1293.png\")"
   ]
  },
  {
   "cell_type": "markdown",
   "id": "2f0dc0d2",
   "metadata": {},
   "source": [
    "#### 3.3.A) 0.1293 is the proportion of the gunny bags have a breaking strength between 5 and 5.5 kg per sq cm."
   ]
  },
  {
   "cell_type": "markdown",
   "id": "1d6586f9",
   "metadata": {},
   "source": [
    "### 3.4 What proportion of the gunny bags have a breaking strength NOT between 3 and 7.5 kg per sq cm.?"
   ]
  },
  {
   "cell_type": "code",
   "execution_count": 130,
   "id": "79f03cc8",
   "metadata": {},
   "outputs": [
    {
     "data": {
      "text/plain": [
       "-1.3333333333333333"
      ]
     },
     "execution_count": 130,
     "metadata": {},
     "output_type": "execute_result"
    }
   ],
   "source": [
    "#z score for 3 kg\n",
    "z1 = (3-5)/1.5\n",
    "z1"
   ]
  },
  {
   "cell_type": "code",
   "execution_count": 131,
   "id": "92aa6031",
   "metadata": {},
   "outputs": [
    {
     "data": {
      "text/plain": [
       "1.6666666666666667"
      ]
     },
     "execution_count": 131,
     "metadata": {},
     "output_type": "execute_result"
    }
   ],
   "source": [
    "#z score for 7.5kg\n",
    "z2 = (7.5-5)/1.5\n",
    "z2"
   ]
  },
  {
   "cell_type": "code",
   "execution_count": 132,
   "id": "99721256",
   "metadata": {},
   "outputs": [
    {
     "data": {
      "text/plain": [
       "0.8607"
      ]
     },
     "execution_count": 132,
     "metadata": {},
     "output_type": "execute_result"
    }
   ],
   "source": [
    "p1 = 0.4082 #obtained from the normal distribution table of p(-1.33<z<0)\n",
    "p2 = 0.4525 #Obtained from the normal distribution table of p(0<z<1.67)\n",
    "p = p1+p2\n",
    "p"
   ]
  },
  {
   "cell_type": "code",
   "execution_count": 133,
   "id": "c5b6ad8e",
   "metadata": {},
   "outputs": [
    {
     "data": {
      "text/plain": [
       "0.13929999999999998"
      ]
     },
     "execution_count": 133,
     "metadata": {},
     "output_type": "execute_result"
    }
   ],
   "source": [
    "Pnot = 1-p #not between 3 and 7.5\n",
    "Pnot"
   ]
  },
  {
   "cell_type": "code",
   "execution_count": null,
   "id": "04388f69",
   "metadata": {},
   "outputs": [],
   "source": [
    "data = [['Z1', 10], ['Z2', 15], ['juli', 14]]"
   ]
  },
  {
   "cell_type": "markdown",
   "id": "4a885bb4",
   "metadata": {},
   "source": [
    "#### 3.4.A) 0.1393 is the proportion of the gunny bags have a breaking strength NOT between 3 and 7.5 kg per sq cm."
   ]
  },
  {
   "cell_type": "markdown",
   "id": "3ad2fb6b",
   "metadata": {},
   "source": [
    "## Problem 4:\n",
    "### Grades of the final examination in a training course are found to be normally distributed, with a mean of 77 and a standard deviation of 8.5. Based on the given information answer the questions below."
   ]
  },
  {
   "cell_type": "markdown",
   "id": "c8123a69",
   "metadata": {},
   "source": [
    "### 4.1 What is the probability that a randomly chosen student gets a grade below 85 on this exam?"
   ]
  },
  {
   "cell_type": "code",
   "execution_count": 134,
   "id": "5502b576",
   "metadata": {},
   "outputs": [],
   "source": [
    "m = 77 #mean\n",
    "sd = 8.5 #standard deviation."
   ]
  },
  {
   "cell_type": "code",
   "execution_count": 135,
   "id": "6e3d85ea",
   "metadata": {},
   "outputs": [
    {
     "data": {
      "text/plain": [
       "0.9411764705882353"
      ]
     },
     "execution_count": 135,
     "metadata": {},
     "output_type": "execute_result"
    }
   ],
   "source": [
    "#z score\n",
    "p1 = (85-m)/sd\n",
    "p1"
   ]
  },
  {
   "cell_type": "code",
   "execution_count": 136,
   "id": "c3b17d1a",
   "metadata": {},
   "outputs": [
    {
     "data": {
      "text/plain": [
       "0.8264"
      ]
     },
     "execution_count": 136,
     "metadata": {},
     "output_type": "execute_result"
    }
   ],
   "source": [
    "#for grade below 85 where p(x<85)\n",
    "p2 = 0.5 + 0.3264\n",
    "p2\n"
   ]
  },
  {
   "cell_type": "markdown",
   "id": "c8d4edba",
   "metadata": {},
   "source": [
    "#### 4.1.A)the probability that a randomly chosen student gets a grade below 85 on this exam is 0.8264"
   ]
  },
  {
   "cell_type": "markdown",
   "id": "19e1a998",
   "metadata": {},
   "source": [
    "### 4.2 What is the probability that a randomly selected student scores between 65 and 87?"
   ]
  },
  {
   "cell_type": "code",
   "execution_count": 137,
   "id": "70f4b6bd",
   "metadata": {},
   "outputs": [
    {
     "data": {
      "text/plain": [
       "-1.411764705882353"
      ]
     },
     "execution_count": 137,
     "metadata": {},
     "output_type": "execute_result"
    }
   ],
   "source": [
    "#first z score\n",
    "z1 = (65-m)/sd\n",
    "z1"
   ]
  },
  {
   "cell_type": "code",
   "execution_count": 138,
   "id": "df6ca64f",
   "metadata": {},
   "outputs": [
    {
     "data": {
      "text/plain": [
       "1.1764705882352942"
      ]
     },
     "execution_count": 138,
     "metadata": {},
     "output_type": "execute_result"
    }
   ],
   "source": [
    "#second z score\n",
    "z2 = (87-m)/sd\n",
    "z2"
   ]
  },
  {
   "cell_type": "code",
   "execution_count": 139,
   "id": "c1c87cba",
   "metadata": {},
   "outputs": [
    {
     "data": {
      "text/plain": [
       "0.8017000000000001"
      ]
     },
     "execution_count": 139,
     "metadata": {},
     "output_type": "execute_result"
    }
   ],
   "source": [
    "#for score between 65 and 87 where p(65<x<87)\n",
    "p = 0.4207 + 0.3810\n",
    "p"
   ]
  },
  {
   "cell_type": "markdown",
   "id": "ab93bb22",
   "metadata": {},
   "source": [
    "#### 4.2.A) the probability that a randomly selected student scores between 65 and 87 is 0.8017000000000001"
   ]
  },
  {
   "cell_type": "markdown",
   "id": "b0466337",
   "metadata": {},
   "source": [
    "### 4.3 What should be the passing cut-off so that 75% of the students clear the exam?"
   ]
  },
  {
   "cell_type": "code",
   "execution_count": 140,
   "id": "14e57bf9",
   "metadata": {},
   "outputs": [
    {
     "data": {
      "text/plain": [
       "82.525"
      ]
     },
     "execution_count": 140,
     "metadata": {},
     "output_type": "execute_result"
    }
   ],
   "source": [
    "#passing cut-off \n",
    "X = m+(sd*0.65)\n",
    "X"
   ]
  },
  {
   "cell_type": "markdown",
   "id": "307113e0",
   "metadata": {},
   "source": [
    "#### 4.3.A)the passing cut-off so that 75% of the students clear the exam is 85.525"
   ]
  },
  {
   "cell_type": "markdown",
   "id": "5e8399bd",
   "metadata": {},
   "source": [
    "## Problem 5:\n",
    "### Zingaro stone printing is a company that specializes in printing images or patterns on polished or unpolished stones. However, for the optimum level of printing of the image the stone surface has to have a Brinell's hardness index of at least 150. Recently, Zingaro has received a batch of polished and unpolished stones from its clients. Use the data provided to answer the following (assuming a 5% significance level);"
   ]
  },
  {
   "cell_type": "markdown",
   "id": "46008f83",
   "metadata": {},
   "source": [
    "### 5.1 Earlier experience of Zingaro with this particular client is favorable as the stone surface was found to be of adequate hardness. However, Zingaro has reason to believe now that the unpolished stones may not be suitable for printing. Do you think Zingaro is justified in thinking so?"
   ]
  },
  {
   "cell_type": "code",
   "execution_count": 17,
   "id": "6e2b20a4",
   "metadata": {},
   "outputs": [],
   "source": [
    "df = pd.read_csv(\"Zingaro_Company.csv\")"
   ]
  },
  {
   "cell_type": "code",
   "execution_count": 19,
   "id": "1b099f53",
   "metadata": {},
   "outputs": [
    {
     "data": {
      "text/html": [
       "<div>\n",
       "<style scoped>\n",
       "    .dataframe tbody tr th:only-of-type {\n",
       "        vertical-align: middle;\n",
       "    }\n",
       "\n",
       "    .dataframe tbody tr th {\n",
       "        vertical-align: top;\n",
       "    }\n",
       "\n",
       "    .dataframe thead th {\n",
       "        text-align: right;\n",
       "    }\n",
       "</style>\n",
       "<table border=\"1\" class=\"dataframe\">\n",
       "  <thead>\n",
       "    <tr style=\"text-align: right;\">\n",
       "      <th></th>\n",
       "      <th>Unpolished</th>\n",
       "      <th>Treated and Polished</th>\n",
       "    </tr>\n",
       "  </thead>\n",
       "  <tbody>\n",
       "    <tr>\n",
       "      <th>0</th>\n",
       "      <td>164.481713</td>\n",
       "      <td>133.209393</td>\n",
       "    </tr>\n",
       "    <tr>\n",
       "      <th>1</th>\n",
       "      <td>154.307045</td>\n",
       "      <td>138.482771</td>\n",
       "    </tr>\n",
       "    <tr>\n",
       "      <th>2</th>\n",
       "      <td>129.861048</td>\n",
       "      <td>159.665201</td>\n",
       "    </tr>\n",
       "    <tr>\n",
       "      <th>3</th>\n",
       "      <td>159.096184</td>\n",
       "      <td>145.663528</td>\n",
       "    </tr>\n",
       "    <tr>\n",
       "      <th>4</th>\n",
       "      <td>135.256748</td>\n",
       "      <td>136.789227</td>\n",
       "    </tr>\n",
       "  </tbody>\n",
       "</table>\n",
       "</div>"
      ],
      "text/plain": [
       "   Unpolished   Treated and Polished\n",
       "0   164.481713            133.209393\n",
       "1   154.307045            138.482771\n",
       "2   129.861048            159.665201\n",
       "3   159.096184            145.663528\n",
       "4   135.256748            136.789227"
      ]
     },
     "execution_count": 19,
     "metadata": {},
     "output_type": "execute_result"
    }
   ],
   "source": [
    "df.head(5)"
   ]
  },
  {
   "cell_type": "code",
   "execution_count": 4,
   "id": "a0fcc146",
   "metadata": {},
   "outputs": [
    {
     "data": {
      "text/html": [
       "<div>\n",
       "<style scoped>\n",
       "    .dataframe tbody tr th:only-of-type {\n",
       "        vertical-align: middle;\n",
       "    }\n",
       "\n",
       "    .dataframe tbody tr th {\n",
       "        vertical-align: top;\n",
       "    }\n",
       "\n",
       "    .dataframe thead th {\n",
       "        text-align: right;\n",
       "    }\n",
       "</style>\n",
       "<table border=\"1\" class=\"dataframe\">\n",
       "  <thead>\n",
       "    <tr style=\"text-align: right;\">\n",
       "      <th></th>\n",
       "      <th>Unpolished</th>\n",
       "      <th>Treated and Polished</th>\n",
       "    </tr>\n",
       "  </thead>\n",
       "  <tbody>\n",
       "    <tr>\n",
       "      <th>count</th>\n",
       "      <td>75.000000</td>\n",
       "      <td>75.000000</td>\n",
       "    </tr>\n",
       "    <tr>\n",
       "      <th>mean</th>\n",
       "      <td>134.110527</td>\n",
       "      <td>147.788117</td>\n",
       "    </tr>\n",
       "    <tr>\n",
       "      <th>std</th>\n",
       "      <td>33.041804</td>\n",
       "      <td>15.587355</td>\n",
       "    </tr>\n",
       "    <tr>\n",
       "      <th>min</th>\n",
       "      <td>48.406838</td>\n",
       "      <td>107.524167</td>\n",
       "    </tr>\n",
       "    <tr>\n",
       "      <th>25%</th>\n",
       "      <td>115.329753</td>\n",
       "      <td>138.268300</td>\n",
       "    </tr>\n",
       "    <tr>\n",
       "      <th>50%</th>\n",
       "      <td>135.597121</td>\n",
       "      <td>145.721322</td>\n",
       "    </tr>\n",
       "    <tr>\n",
       "      <th>75%</th>\n",
       "      <td>158.215098</td>\n",
       "      <td>157.373318</td>\n",
       "    </tr>\n",
       "    <tr>\n",
       "      <th>max</th>\n",
       "      <td>200.161313</td>\n",
       "      <td>192.272856</td>\n",
       "    </tr>\n",
       "  </tbody>\n",
       "</table>\n",
       "</div>"
      ],
      "text/plain": [
       "       Unpolished   Treated and Polished\n",
       "count    75.000000             75.000000\n",
       "mean    134.110527            147.788117\n",
       "std      33.041804             15.587355\n",
       "min      48.406838            107.524167\n",
       "25%     115.329753            138.268300\n",
       "50%     135.597121            145.721322\n",
       "75%     158.215098            157.373318\n",
       "max     200.161313            192.272856"
      ]
     },
     "execution_count": 4,
     "metadata": {},
     "output_type": "execute_result"
    }
   ],
   "source": [
    "df.describe()"
   ]
  },
  {
   "cell_type": "code",
   "execution_count": 24,
   "id": "adff969f",
   "metadata": {},
   "outputs": [],
   "source": [
    "#ttest for 20 rows\n",
    "df1 = pd.read_excel(\"ttest.xlsx\")"
   ]
  },
  {
   "cell_type": "code",
   "execution_count": 25,
   "id": "c454eb48",
   "metadata": {},
   "outputs": [
    {
     "data": {
      "text/html": [
       "<div>\n",
       "<style scoped>\n",
       "    .dataframe tbody tr th:only-of-type {\n",
       "        vertical-align: middle;\n",
       "    }\n",
       "\n",
       "    .dataframe tbody tr th {\n",
       "        vertical-align: top;\n",
       "    }\n",
       "\n",
       "    .dataframe thead th {\n",
       "        text-align: right;\n",
       "    }\n",
       "</style>\n",
       "<table border=\"1\" class=\"dataframe\">\n",
       "  <thead>\n",
       "    <tr style=\"text-align: right;\">\n",
       "      <th></th>\n",
       "      <th>t-Test: Two-Sample Assuming Unequal Variances</th>\n",
       "      <th>Unnamed: 1</th>\n",
       "      <th>Unnamed: 2</th>\n",
       "    </tr>\n",
       "  </thead>\n",
       "  <tbody>\n",
       "    <tr>\n",
       "      <th>0</th>\n",
       "      <td>NaN</td>\n",
       "      <td>NaN</td>\n",
       "      <td>NaN</td>\n",
       "    </tr>\n",
       "    <tr>\n",
       "      <th>1</th>\n",
       "      <td>NaN</td>\n",
       "      <td>Variable 1</td>\n",
       "      <td>Variable 2</td>\n",
       "    </tr>\n",
       "    <tr>\n",
       "      <th>2</th>\n",
       "      <td>Mean</td>\n",
       "      <td>123.546968</td>\n",
       "      <td>149.210483</td>\n",
       "    </tr>\n",
       "    <tr>\n",
       "      <th>3</th>\n",
       "      <td>Variance</td>\n",
       "      <td>1001.577741</td>\n",
       "      <td>178.71211</td>\n",
       "    </tr>\n",
       "    <tr>\n",
       "      <th>4</th>\n",
       "      <td>Observations</td>\n",
       "      <td>20</td>\n",
       "      <td>20</td>\n",
       "    </tr>\n",
       "    <tr>\n",
       "      <th>5</th>\n",
       "      <td>Hypothesized Mean Difference</td>\n",
       "      <td>0</td>\n",
       "      <td>NaN</td>\n",
       "    </tr>\n",
       "    <tr>\n",
       "      <th>6</th>\n",
       "      <td>df</td>\n",
       "      <td>26</td>\n",
       "      <td>NaN</td>\n",
       "    </tr>\n",
       "    <tr>\n",
       "      <th>7</th>\n",
       "      <td>t Stat</td>\n",
       "      <td>-3.340695</td>\n",
       "      <td>NaN</td>\n",
       "    </tr>\n",
       "    <tr>\n",
       "      <th>8</th>\n",
       "      <td>P(T&lt;=t) one-tail</td>\n",
       "      <td>0.001268</td>\n",
       "      <td>NaN</td>\n",
       "    </tr>\n",
       "    <tr>\n",
       "      <th>9</th>\n",
       "      <td>t Critical one-tail</td>\n",
       "      <td>1.705618</td>\n",
       "      <td>NaN</td>\n",
       "    </tr>\n",
       "    <tr>\n",
       "      <th>10</th>\n",
       "      <td>P(T&lt;=t) two-tail</td>\n",
       "      <td>0.002536</td>\n",
       "      <td>NaN</td>\n",
       "    </tr>\n",
       "    <tr>\n",
       "      <th>11</th>\n",
       "      <td>t Critical two-tail</td>\n",
       "      <td>2.055529</td>\n",
       "      <td>NaN</td>\n",
       "    </tr>\n",
       "  </tbody>\n",
       "</table>\n",
       "</div>"
      ],
      "text/plain": [
       "   t-Test: Two-Sample Assuming Unequal Variances   Unnamed: 1  Unnamed: 2\n",
       "0                                            NaN          NaN         NaN\n",
       "1                                            NaN   Variable 1  Variable 2\n",
       "2                                           Mean   123.546968  149.210483\n",
       "3                                       Variance  1001.577741   178.71211\n",
       "4                                   Observations           20          20\n",
       "5                   Hypothesized Mean Difference            0         NaN\n",
       "6                                             df           26         NaN\n",
       "7                                         t Stat    -3.340695         NaN\n",
       "8                               P(T<=t) one-tail     0.001268         NaN\n",
       "9                            t Critical one-tail     1.705618         NaN\n",
       "10                              P(T<=t) two-tail     0.002536         NaN\n",
       "11                           t Critical two-tail     2.055529         NaN"
      ]
     },
     "execution_count": 25,
     "metadata": {},
     "output_type": "execute_result"
    }
   ],
   "source": [
    "df1"
   ]
  },
  {
   "cell_type": "code",
   "execution_count": null,
   "id": "74750c29",
   "metadata": {},
   "outputs": [],
   "source": [
    "#Zingaro thinks that unpolished stone is not suitable for printing\n",
    "m < 150 #where m is brinell's hardness index"
   ]
  },
  {
   "cell_type": "code",
   "execution_count": null,
   "id": "126be598",
   "metadata": {},
   "outputs": [],
   "source": [
    "#null hypothesis : Unpolished stone is suitable for printing\n",
    "m >= 150"
   ]
  },
  {
   "cell_type": "code",
   "execution_count": null,
   "id": "1e2037c8",
   "metadata": {},
   "outputs": [],
   "source": [
    "#Alternative Hypothesis: Unpolished stone is not suitable for printing\n",
    "m < 150"
   ]
  },
  {
   "cell_type": "code",
   "execution_count": 28,
   "id": "94008a8b",
   "metadata": {},
   "outputs": [],
   "source": [
    "#from ttest data sample average x is\n",
    "x = 123.546968\n",
    "#sample size\n",
    "n = 20\n",
    "#standard deviation\n",
    "s = 31.6477\n",
    "#brinell's hardness index\n",
    "m = 150"
   ]
  },
  {
   "cell_type": "code",
   "execution_count": 26,
   "id": "0f2165de",
   "metadata": {},
   "outputs": [
    {
     "data": {
      "image/png": "[encoded data removed]",
      "text/plain": [
       "<IPython.core.display.Image object>"
      ]
     },
     "execution_count": 26,
     "metadata": {},
     "output_type": "execute_result"
    }
   ],
   "source": [
    "#ttest one sample\n",
    "from IPython.display import Image\n",
    "Image(\"another ttest one sample.PNG\")"
   ]
  },
  {
   "cell_type": "code",
   "execution_count": 33,
   "id": "6ad9888e",
   "metadata": {},
   "outputs": [
    {
     "data": {
      "text/plain": [
       "-26.453031999999993"
      ]
     },
     "execution_count": 33,
     "metadata": {},
     "output_type": "execute_result"
    }
   ],
   "source": [
    "t1 = (x-m)\n",
    "t1"
   ]
  },
  {
   "cell_type": "code",
   "execution_count": 34,
   "id": "397ce1fe",
   "metadata": {},
   "outputs": [
    {
     "data": {
      "text/plain": [
       "7.076640853152009"
      ]
     },
     "execution_count": 34,
     "metadata": {},
     "output_type": "execute_result"
    }
   ],
   "source": [
    "import math\n",
    "t2 = s/math.sqrt(n)\n",
    "t2"
   ]
  },
  {
   "cell_type": "code",
   "execution_count": 35,
   "id": "ddf698f0",
   "metadata": {},
   "outputs": [
    {
     "data": {
      "text/plain": [
       "-3.7380775072423718"
      ]
     },
     "execution_count": 35,
     "metadata": {},
     "output_type": "execute_result"
    }
   ],
   "source": [
    "t = t1/t2\n",
    "t"
   ]
  },
  {
   "cell_type": "code",
   "execution_count": 36,
   "id": "dfd757d0",
   "metadata": {},
   "outputs": [
    {
     "data": {
      "text/plain": [
       "19"
      ]
     },
     "execution_count": 36,
     "metadata": {},
     "output_type": "execute_result"
    }
   ],
   "source": [
    "#degree of freedom \n",
    "d = n-1\n",
    "d"
   ]
  },
  {
   "cell_type": "code",
   "execution_count": 37,
   "id": "37b91842",
   "metadata": {},
   "outputs": [
    {
     "data": {
      "image/png": "[encoded data removed]",
      "text/plain": [
       "<IPython.core.display.Image object>"
      ]
     },
     "execution_count": 37,
     "metadata": {},
     "output_type": "execute_result"
    }
   ],
   "source": [
    "#t reference table\n",
    "from IPython.display import Image\n",
    "Image(\"reference t table.PNG\")"
   ]
  },
  {
   "cell_type": "markdown",
   "id": "09d11d1d",
   "metadata": {},
   "source": [
    "#### alpha = 0,05( significance level) With 19 degree of freedom and 0.05 significanc elevel, the critical value = 1.729( from t table, take the value 19 from the leftest column , and choose 0.05 column head's value for one tailed and pick the value where both intersects)"
   ]
  },
  {
   "cell_type": "markdown",
   "id": "03752e01",
   "metadata": {},
   "source": [
    "#### 5.1.A)since, absolute t statistics is greater than critical value so alternative hypothesis should be accepted and nul hypothesis should be rejected.\n",
    "\n",
    "#### So, Zingaro is justified to think that unpolished stone is not suitable for printing."
   ]
  },
  {
   "cell_type": "markdown",
   "id": "ce705ad8",
   "metadata": {},
   "source": [
    "### 5.2 Is the mean hardness of the polished and unpolished stones the same?"
   ]
  },
  {
   "cell_type": "code",
   "execution_count": 38,
   "id": "8245a210",
   "metadata": {},
   "outputs": [],
   "source": [
    "#ttest for 21 rows\n",
    "df2 = pd.read_excel(\"2ndttest.xlsx\")"
   ]
  },
  {
   "cell_type": "code",
   "execution_count": 39,
   "id": "61ee7986",
   "metadata": {},
   "outputs": [
    {
     "data": {
      "text/html": [
       "<div>\n",
       "<style scoped>\n",
       "    .dataframe tbody tr th:only-of-type {\n",
       "        vertical-align: middle;\n",
       "    }\n",
       "\n",
       "    .dataframe tbody tr th {\n",
       "        vertical-align: top;\n",
       "    }\n",
       "\n",
       "    .dataframe thead th {\n",
       "        text-align: right;\n",
       "    }\n",
       "</style>\n",
       "<table border=\"1\" class=\"dataframe\">\n",
       "  <thead>\n",
       "    <tr style=\"text-align: right;\">\n",
       "      <th></th>\n",
       "      <th>t-Test: Two-Sample Assuming Unequal Variances</th>\n",
       "      <th>Unnamed: 1</th>\n",
       "      <th>Unnamed: 2</th>\n",
       "    </tr>\n",
       "  </thead>\n",
       "  <tbody>\n",
       "    <tr>\n",
       "      <th>0</th>\n",
       "      <td>NaN</td>\n",
       "      <td>NaN</td>\n",
       "      <td>NaN</td>\n",
       "    </tr>\n",
       "    <tr>\n",
       "      <th>1</th>\n",
       "      <td>NaN</td>\n",
       "      <td>Variable 1</td>\n",
       "      <td>Variable 2</td>\n",
       "    </tr>\n",
       "    <tr>\n",
       "      <th>2</th>\n",
       "      <td>Mean</td>\n",
       "      <td>124.403369</td>\n",
       "      <td>148.057632</td>\n",
       "    </tr>\n",
       "    <tr>\n",
       "      <th>3</th>\n",
       "      <td>Variance</td>\n",
       "      <td>1041.737566</td>\n",
       "      <td>160.582487</td>\n",
       "    </tr>\n",
       "    <tr>\n",
       "      <th>4</th>\n",
       "      <td>Observations</td>\n",
       "      <td>19</td>\n",
       "      <td>19</td>\n",
       "    </tr>\n",
       "    <tr>\n",
       "      <th>5</th>\n",
       "      <td>Hypothesized Mean Difference</td>\n",
       "      <td>0</td>\n",
       "      <td>NaN</td>\n",
       "    </tr>\n",
       "    <tr>\n",
       "      <th>6</th>\n",
       "      <td>df</td>\n",
       "      <td>23</td>\n",
       "      <td>NaN</td>\n",
       "    </tr>\n",
       "    <tr>\n",
       "      <th>7</th>\n",
       "      <td>t Stat</td>\n",
       "      <td>-2.973556</td>\n",
       "      <td>NaN</td>\n",
       "    </tr>\n",
       "    <tr>\n",
       "      <th>8</th>\n",
       "      <td>P(T&lt;=t) one-tail</td>\n",
       "      <td>0.0034</td>\n",
       "      <td>NaN</td>\n",
       "    </tr>\n",
       "    <tr>\n",
       "      <th>9</th>\n",
       "      <td>t Critical one-tail</td>\n",
       "      <td>1.713872</td>\n",
       "      <td>NaN</td>\n",
       "    </tr>\n",
       "    <tr>\n",
       "      <th>10</th>\n",
       "      <td>P(T&lt;=t) two-tail</td>\n",
       "      <td>0.006799</td>\n",
       "      <td>NaN</td>\n",
       "    </tr>\n",
       "    <tr>\n",
       "      <th>11</th>\n",
       "      <td>t Critical two-tail</td>\n",
       "      <td>2.068658</td>\n",
       "      <td>NaN</td>\n",
       "    </tr>\n",
       "  </tbody>\n",
       "</table>\n",
       "</div>"
      ],
      "text/plain": [
       "   t-Test: Two-Sample Assuming Unequal Variances   Unnamed: 1  Unnamed: 2\n",
       "0                                            NaN          NaN         NaN\n",
       "1                                            NaN   Variable 1  Variable 2\n",
       "2                                           Mean   124.403369  148.057632\n",
       "3                                       Variance  1041.737566  160.582487\n",
       "4                                   Observations           19          19\n",
       "5                   Hypothesized Mean Difference            0         NaN\n",
       "6                                             df           23         NaN\n",
       "7                                         t Stat    -2.973556         NaN\n",
       "8                               P(T<=t) one-tail       0.0034         NaN\n",
       "9                            t Critical one-tail     1.713872         NaN\n",
       "10                              P(T<=t) two-tail     0.006799         NaN\n",
       "11                           t Critical two-tail     2.068658         NaN"
      ]
     },
     "execution_count": 39,
     "metadata": {},
     "output_type": "execute_result"
    }
   ],
   "source": [
    "df2"
   ]
  },
  {
   "cell_type": "code",
   "execution_count": 42,
   "id": "9c41d3b4",
   "metadata": {},
   "outputs": [
    {
     "name": "stdout",
     "output_type": "stream",
     "text": [
      "both hardness are not equal\n"
     ]
    }
   ],
   "source": [
    "#hypothesis Ho\n",
    "Mp = 148.057632 #average hardness of unpolished stone\n",
    "Mu = 124.403369#average hardness of unpolished stone\"\n",
    "if Mp == Mu :\n",
    "  print(\"both hardnesses are equal\")\n",
    "elif Mp != Mu:\n",
    "  print(\"both hardnesses are not equal\")\n"
   ]
  },
  {
   "cell_type": "code",
   "execution_count": 43,
   "id": "97bfa3af",
   "metadata": {},
   "outputs": [
    {
     "data": {
      "text/plain": [
       "3.0508044679285304"
      ]
     },
     "execution_count": 43,
     "metadata": {},
     "output_type": "execute_result"
    }
   ],
   "source": [
    "#test statistic\n",
    "Sp = 160.582487#variance of polished stone\n",
    "Su = 1041.737566#variance of unpolished stone\n",
    "n = 20#no of samples\n",
    "t1 = Mp - Mu\n",
    "t2 = (Sp/n)+(Su/n)\n",
    "import math\n",
    "t3 = math.sqrt(t2)\n",
    "T = t1/t3\n",
    "T\n"
   ]
  },
  {
   "cell_type": "markdown",
   "id": "ac63a3c2",
   "metadata": {},
   "source": [
    "#### 5.2.A) We reject Ho if t > 1.7139.Therefor we can conclude that polished stones have greater hardness."
   ]
  },
  {
   "cell_type": "markdown",
   "id": "8506c460",
   "metadata": {},
   "source": [
    "## Problem 6:\n",
    "### Aquarius health club, one of the largest and most popular cross-fit gyms in the country has been advertising a rigorous program for body conditioning. The program is considered successful if the candidate is able to do more than 5 push-ups, as compared to when he/she enrolled in the program. Using the sample data provided can you conclude whether the program is successful? (Consider the level of Significance as 5%)\n",
    "\n",
    "### Note that this is a problem of the paired-t-test. Since the claim is that the training will make a difference of more than 5, the null and alternative hypotheses must be formed accordingly."
   ]
  },
  {
   "cell_type": "code",
   "execution_count": null,
   "id": "b0e28565",
   "metadata": {},
   "outputs": [],
   "source": [
    "#Hypothesis H0 and H1\n",
    "H0 : Md = 5 #where m is equal to 5\n",
    "H1 : Md > 5 #where m is less than 5"
   ]
  },
  {
   "cell_type": "code",
   "execution_count": 55,
   "id": "94c1dc29",
   "metadata": {},
   "outputs": [],
   "source": [
    "Aquariusgym  = pd.read_csv(\"Aquarius_gym.csv\")"
   ]
  },
  {
   "cell_type": "code",
   "execution_count": 56,
   "id": "8d98b974",
   "metadata": {},
   "outputs": [
    {
     "data": {
      "text/html": [
       "<div>\n",
       "<style scoped>\n",
       "    .dataframe tbody tr th:only-of-type {\n",
       "        vertical-align: middle;\n",
       "    }\n",
       "\n",
       "    .dataframe tbody tr th {\n",
       "        vertical-align: top;\n",
       "    }\n",
       "\n",
       "    .dataframe thead th {\n",
       "        text-align: right;\n",
       "    }\n",
       "</style>\n",
       "<table border=\"1\" class=\"dataframe\">\n",
       "  <thead>\n",
       "    <tr style=\"text-align: right;\">\n",
       "      <th></th>\n",
       "      <th>Sr no.</th>\n",
       "      <th>Before</th>\n",
       "      <th>After</th>\n",
       "    </tr>\n",
       "  </thead>\n",
       "  <tbody>\n",
       "    <tr>\n",
       "      <th>0</th>\n",
       "      <td>1</td>\n",
       "      <td>39</td>\n",
       "      <td>44</td>\n",
       "    </tr>\n",
       "    <tr>\n",
       "      <th>1</th>\n",
       "      <td>2</td>\n",
       "      <td>25</td>\n",
       "      <td>25</td>\n",
       "    </tr>\n",
       "    <tr>\n",
       "      <th>2</th>\n",
       "      <td>3</td>\n",
       "      <td>39</td>\n",
       "      <td>39</td>\n",
       "    </tr>\n",
       "    <tr>\n",
       "      <th>3</th>\n",
       "      <td>4</td>\n",
       "      <td>6</td>\n",
       "      <td>13</td>\n",
       "    </tr>\n",
       "    <tr>\n",
       "      <th>4</th>\n",
       "      <td>5</td>\n",
       "      <td>40</td>\n",
       "      <td>44</td>\n",
       "    </tr>\n",
       "  </tbody>\n",
       "</table>\n",
       "</div>"
      ],
      "text/plain": [
       "   Sr no.  Before  After\n",
       "0       1      39     44\n",
       "1       2      25     25\n",
       "2       3      39     39\n",
       "3       4       6     13\n",
       "4       5      40     44"
      ]
     },
     "execution_count": 56,
     "metadata": {},
     "output_type": "execute_result"
    }
   ],
   "source": [
    "Aquariusgym.head()"
   ]
  },
  {
   "cell_type": "code",
   "execution_count": 48,
   "id": "5a2cadca",
   "metadata": {},
   "outputs": [],
   "source": [
    "#t-Test for Paired two sample from means\n",
    "df = pd.read_excel(\"ttest for mean.xlsx\")"
   ]
  },
  {
   "cell_type": "code",
   "execution_count": 49,
   "id": "894372f8",
   "metadata": {},
   "outputs": [
    {
     "data": {
      "text/html": [
       "<div>\n",
       "<style scoped>\n",
       "    .dataframe tbody tr th:only-of-type {\n",
       "        vertical-align: middle;\n",
       "    }\n",
       "\n",
       "    .dataframe tbody tr th {\n",
       "        vertical-align: top;\n",
       "    }\n",
       "\n",
       "    .dataframe thead th {\n",
       "        text-align: right;\n",
       "    }\n",
       "</style>\n",
       "<table border=\"1\" class=\"dataframe\">\n",
       "  <thead>\n",
       "    <tr style=\"text-align: right;\">\n",
       "      <th></th>\n",
       "      <th>t-Test: Paired Two Sample for Means</th>\n",
       "      <th>Unnamed: 1</th>\n",
       "      <th>Unnamed: 2</th>\n",
       "    </tr>\n",
       "  </thead>\n",
       "  <tbody>\n",
       "    <tr>\n",
       "      <th>0</th>\n",
       "      <td>NaN</td>\n",
       "      <td>NaN</td>\n",
       "      <td>NaN</td>\n",
       "    </tr>\n",
       "    <tr>\n",
       "      <th>1</th>\n",
       "      <td>NaN</td>\n",
       "      <td>After</td>\n",
       "      <td>Before</td>\n",
       "    </tr>\n",
       "    <tr>\n",
       "      <th>2</th>\n",
       "      <td>Mean</td>\n",
       "      <td>34.333333</td>\n",
       "      <td>29.066667</td>\n",
       "    </tr>\n",
       "    <tr>\n",
       "      <th>3</th>\n",
       "      <td>Variance</td>\n",
       "      <td>67.126437</td>\n",
       "      <td>71.443678</td>\n",
       "    </tr>\n",
       "    <tr>\n",
       "      <th>4</th>\n",
       "      <td>Observations</td>\n",
       "      <td>30</td>\n",
       "      <td>30</td>\n",
       "    </tr>\n",
       "    <tr>\n",
       "      <th>5</th>\n",
       "      <td>Pearson Correlation</td>\n",
       "      <td>0.939771</td>\n",
       "      <td>NaN</td>\n",
       "    </tr>\n",
       "    <tr>\n",
       "      <th>6</th>\n",
       "      <td>Hypothesized Mean Difference</td>\n",
       "      <td>5</td>\n",
       "      <td>NaN</td>\n",
       "    </tr>\n",
       "    <tr>\n",
       "      <th>7</th>\n",
       "      <td>df</td>\n",
       "      <td>29</td>\n",
       "      <td>NaN</td>\n",
       "    </tr>\n",
       "    <tr>\n",
       "      <th>8</th>\n",
       "      <td>t Stat</td>\n",
       "      <td>0.503677</td>\n",
       "      <td>NaN</td>\n",
       "    </tr>\n",
       "    <tr>\n",
       "      <th>9</th>\n",
       "      <td>P(T&lt;=t) one-tail</td>\n",
       "      <td>0.309147</td>\n",
       "      <td>NaN</td>\n",
       "    </tr>\n",
       "    <tr>\n",
       "      <th>10</th>\n",
       "      <td>t Critical one-tail</td>\n",
       "      <td>1.699127</td>\n",
       "      <td>NaN</td>\n",
       "    </tr>\n",
       "    <tr>\n",
       "      <th>11</th>\n",
       "      <td>P(T&lt;=t) two-tail</td>\n",
       "      <td>0.618293</td>\n",
       "      <td>NaN</td>\n",
       "    </tr>\n",
       "    <tr>\n",
       "      <th>12</th>\n",
       "      <td>t Critical two-tail</td>\n",
       "      <td>2.04523</td>\n",
       "      <td>NaN</td>\n",
       "    </tr>\n",
       "  </tbody>\n",
       "</table>\n",
       "</div>"
      ],
      "text/plain": [
       "   t-Test: Paired Two Sample for Means Unnamed: 1 Unnamed: 2\n",
       "0                                  NaN        NaN        NaN\n",
       "1                                  NaN      After     Before\n",
       "2                                 Mean  34.333333  29.066667\n",
       "3                             Variance  67.126437  71.443678\n",
       "4                         Observations         30         30\n",
       "5                  Pearson Correlation   0.939771        NaN\n",
       "6         Hypothesized Mean Difference          5        NaN\n",
       "7                                   df         29        NaN\n",
       "8                               t Stat   0.503677        NaN\n",
       "9                     P(T<=t) one-tail   0.309147        NaN\n",
       "10                 t Critical one-tail   1.699127        NaN\n",
       "11                    P(T<=t) two-tail   0.618293        NaN\n",
       "12                 t Critical two-tail    2.04523        NaN"
      ]
     },
     "execution_count": 49,
     "metadata": {},
     "output_type": "execute_result"
    }
   ],
   "source": [
    "df"
   ]
  },
  {
   "cell_type": "code",
   "execution_count": 50,
   "id": "5f221fc5",
   "metadata": {},
   "outputs": [
    {
     "data": {
      "text/plain": [
       "29"
      ]
     },
     "execution_count": 50,
     "metadata": {},
     "output_type": "execute_result"
    }
   ],
   "source": [
    "#test statistic\n",
    "T = 0.503677\n",
    "#no of samples\n",
    "n = 30\n",
    "#degrees of freedom\n",
    "d = n-1\n",
    "d"
   ]
  },
  {
   "cell_type": "code",
   "execution_count": 53,
   "id": "214c9a39",
   "metadata": {},
   "outputs": [
    {
     "name": "stdout",
     "output_type": "stream",
     "text": [
      "Hypothesis is accepted\n"
     ]
    }
   ],
   "source": [
    "# P one tail \n",
    "P = 0.309147\n",
    "#significance level\n",
    "A = 0.05\n",
    "if P < A:\n",
    "    print(\"Hypothesis is rejected\")\n",
    "elif P > A:\n",
    "    print(\"Hypothesis is accepted\")"
   ]
  },
  {
   "cell_type": "markdown",
   "id": "9ed47ab7",
   "metadata": {},
   "source": [
    "#### 6.A)As the hypothesis is accepted we can conclude that there is no enough evidence to support the claim that the training will make a difference of more than 5 "
   ]
  },
  {
   "cell_type": "markdown",
   "id": "d05b8335",
   "metadata": {},
   "source": [
    "## Problem 7:\n",
    "### Dental implant data: The hardness of metal implant in dental cavities depends on multiple factors, such as the method of implant, the temperature at which the metal is treated, the alloy used as well as on the dentists who may favour one method above another and may work better in his/her favourite method. The response is the variable of interest."
   ]
  },
  {
   "cell_type": "markdown",
   "id": "3fa9357e",
   "metadata": {},
   "source": [
    "### 7.1Test whether there is any difference among the dentists on the implant hardness. State the null and alternative hypotheses. Note that both types of alloys cannot be considered together. You must state the null and alternative hypotheses separately for the two types of alloys.?"
   ]
  },
  {
   "cell_type": "code",
   "execution_count": 120,
   "id": "e84c3892",
   "metadata": {},
   "outputs": [],
   "source": [
    "#import the excel data\n",
    "df = pd.read_excel(\"Dental Hardness data.xlsx\")"
   ]
  },
  {
   "cell_type": "code",
   "execution_count": 121,
   "id": "c7386f92",
   "metadata": {},
   "outputs": [
    {
     "data": {
      "text/html": [
       "<div>\n",
       "<style scoped>\n",
       "    .dataframe tbody tr th:only-of-type {\n",
       "        vertical-align: middle;\n",
       "    }\n",
       "\n",
       "    .dataframe tbody tr th {\n",
       "        vertical-align: top;\n",
       "    }\n",
       "\n",
       "    .dataframe thead th {\n",
       "        text-align: right;\n",
       "    }\n",
       "</style>\n",
       "<table border=\"1\" class=\"dataframe\">\n",
       "  <thead>\n",
       "    <tr style=\"text-align: right;\">\n",
       "      <th></th>\n",
       "      <th>Dentist</th>\n",
       "      <th>Method</th>\n",
       "      <th>Alloy</th>\n",
       "      <th>Temp</th>\n",
       "      <th>Response</th>\n",
       "      <th>Unnamed: 5</th>\n",
       "      <th>Unnamed: 6</th>\n",
       "      <th>Unnamed: 7</th>\n",
       "      <th>Unnamed: 8</th>\n",
       "      <th>Unnamed: 9</th>\n",
       "      <th>Unnamed: 10</th>\n",
       "      <th>Unnamed: 11</th>\n",
       "      <th>Unnamed: 12</th>\n",
       "      <th>Unnamed: 13</th>\n",
       "    </tr>\n",
       "  </thead>\n",
       "  <tbody>\n",
       "    <tr>\n",
       "      <th>0</th>\n",
       "      <td>1.0</td>\n",
       "      <td>1.0</td>\n",
       "      <td>1.0</td>\n",
       "      <td>1500.0</td>\n",
       "      <td>813.0</td>\n",
       "      <td>NaN</td>\n",
       "      <td>NaN</td>\n",
       "      <td>Anova: Two-Factor Without Replication</td>\n",
       "      <td>NaN</td>\n",
       "      <td>NaN</td>\n",
       "      <td>NaN</td>\n",
       "      <td>NaN</td>\n",
       "      <td>NaN</td>\n",
       "      <td>NaN</td>\n",
       "    </tr>\n",
       "    <tr>\n",
       "      <th>1</th>\n",
       "      <td>1.0</td>\n",
       "      <td>1.0</td>\n",
       "      <td>1.0</td>\n",
       "      <td>1600.0</td>\n",
       "      <td>792.0</td>\n",
       "      <td>NaN</td>\n",
       "      <td>NaN</td>\n",
       "      <td>NaN</td>\n",
       "      <td>NaN</td>\n",
       "      <td>NaN</td>\n",
       "      <td>NaN</td>\n",
       "      <td>NaN</td>\n",
       "      <td>NaN</td>\n",
       "      <td>NaN</td>\n",
       "    </tr>\n",
       "    <tr>\n",
       "      <th>2</th>\n",
       "      <td>1.0</td>\n",
       "      <td>1.0</td>\n",
       "      <td>1.0</td>\n",
       "      <td>1700.0</td>\n",
       "      <td>792.0</td>\n",
       "      <td>NaN</td>\n",
       "      <td>NaN</td>\n",
       "      <td>SUMMARY</td>\n",
       "      <td>Count</td>\n",
       "      <td>Sum</td>\n",
       "      <td>Average</td>\n",
       "      <td>Variance</td>\n",
       "      <td>NaN</td>\n",
       "      <td>NaN</td>\n",
       "    </tr>\n",
       "    <tr>\n",
       "      <th>3</th>\n",
       "      <td>1.0</td>\n",
       "      <td>1.0</td>\n",
       "      <td>2.0</td>\n",
       "      <td>1500.0</td>\n",
       "      <td>907.0</td>\n",
       "      <td>NaN</td>\n",
       "      <td>NaN</td>\n",
       "      <td>1</td>\n",
       "      <td>4</td>\n",
       "      <td>2315</td>\n",
       "      <td>578.75</td>\n",
       "      <td>523721.583333</td>\n",
       "      <td>NaN</td>\n",
       "      <td>NaN</td>\n",
       "    </tr>\n",
       "    <tr>\n",
       "      <th>4</th>\n",
       "      <td>1.0</td>\n",
       "      <td>1.0</td>\n",
       "      <td>2.0</td>\n",
       "      <td>1600.0</td>\n",
       "      <td>792.0</td>\n",
       "      <td>NaN</td>\n",
       "      <td>NaN</td>\n",
       "      <td>1</td>\n",
       "      <td>4</td>\n",
       "      <td>2394</td>\n",
       "      <td>598.5</td>\n",
       "      <td>584819</td>\n",
       "      <td>NaN</td>\n",
       "      <td>NaN</td>\n",
       "    </tr>\n",
       "    <tr>\n",
       "      <th>5</th>\n",
       "      <td>1.0</td>\n",
       "      <td>1.0</td>\n",
       "      <td>2.0</td>\n",
       "      <td>1700.0</td>\n",
       "      <td>835.0</td>\n",
       "      <td>NaN</td>\n",
       "      <td>NaN</td>\n",
       "      <td>1</td>\n",
       "      <td>4</td>\n",
       "      <td>2494</td>\n",
       "      <td>623.5</td>\n",
       "      <td>654085.666667</td>\n",
       "      <td>NaN</td>\n",
       "      <td>NaN</td>\n",
       "    </tr>\n",
       "    <tr>\n",
       "      <th>6</th>\n",
       "      <td>1.0</td>\n",
       "      <td>2.0</td>\n",
       "      <td>1.0</td>\n",
       "      <td>1500.0</td>\n",
       "      <td>782.0</td>\n",
       "      <td>NaN</td>\n",
       "      <td>NaN</td>\n",
       "      <td>1</td>\n",
       "      <td>4</td>\n",
       "      <td>2410</td>\n",
       "      <td>602.5</td>\n",
       "      <td>540209.666667</td>\n",
       "      <td>NaN</td>\n",
       "      <td>NaN</td>\n",
       "    </tr>\n",
       "    <tr>\n",
       "      <th>7</th>\n",
       "      <td>1.0</td>\n",
       "      <td>2.0</td>\n",
       "      <td>1.0</td>\n",
       "      <td>1600.0</td>\n",
       "      <td>698.0</td>\n",
       "      <td>NaN</td>\n",
       "      <td>NaN</td>\n",
       "      <td>1</td>\n",
       "      <td>4</td>\n",
       "      <td>2395</td>\n",
       "      <td>598.75</td>\n",
       "      <td>584420.916667</td>\n",
       "      <td>NaN</td>\n",
       "      <td>NaN</td>\n",
       "    </tr>\n",
       "    <tr>\n",
       "      <th>8</th>\n",
       "      <td>1.0</td>\n",
       "      <td>2.0</td>\n",
       "      <td>1.0</td>\n",
       "      <td>1700.0</td>\n",
       "      <td>665.0</td>\n",
       "      <td>NaN</td>\n",
       "      <td>NaN</td>\n",
       "      <td>1</td>\n",
       "      <td>4</td>\n",
       "      <td>2538</td>\n",
       "      <td>634.5</td>\n",
       "      <td>658956.333333</td>\n",
       "      <td>NaN</td>\n",
       "      <td>NaN</td>\n",
       "    </tr>\n",
       "    <tr>\n",
       "      <th>9</th>\n",
       "      <td>1.0</td>\n",
       "      <td>2.0</td>\n",
       "      <td>2.0</td>\n",
       "      <td>1500.0</td>\n",
       "      <td>1115.0</td>\n",
       "      <td>NaN</td>\n",
       "      <td>NaN</td>\n",
       "      <td>1</td>\n",
       "      <td>4</td>\n",
       "      <td>2285</td>\n",
       "      <td>571.25</td>\n",
       "      <td>518740.916667</td>\n",
       "      <td>NaN</td>\n",
       "      <td>NaN</td>\n",
       "    </tr>\n",
       "  </tbody>\n",
       "</table>\n",
       "</div>"
      ],
      "text/plain": [
       "   Dentist  Method  Alloy    Temp  Response  Unnamed: 5  Unnamed: 6  \\\n",
       "0      1.0     1.0    1.0  1500.0     813.0         NaN         NaN   \n",
       "1      1.0     1.0    1.0  1600.0     792.0         NaN         NaN   \n",
       "2      1.0     1.0    1.0  1700.0     792.0         NaN         NaN   \n",
       "3      1.0     1.0    2.0  1500.0     907.0         NaN         NaN   \n",
       "4      1.0     1.0    2.0  1600.0     792.0         NaN         NaN   \n",
       "5      1.0     1.0    2.0  1700.0     835.0         NaN         NaN   \n",
       "6      1.0     2.0    1.0  1500.0     782.0         NaN         NaN   \n",
       "7      1.0     2.0    1.0  1600.0     698.0         NaN         NaN   \n",
       "8      1.0     2.0    1.0  1700.0     665.0         NaN         NaN   \n",
       "9      1.0     2.0    2.0  1500.0    1115.0         NaN         NaN   \n",
       "\n",
       "                              Unnamed: 7 Unnamed: 8 Unnamed: 9 Unnamed: 10  \\\n",
       "0  Anova: Two-Factor Without Replication        NaN        NaN         NaN   \n",
       "1                                    NaN        NaN        NaN         NaN   \n",
       "2                                SUMMARY      Count        Sum     Average   \n",
       "3                                      1          4       2315      578.75   \n",
       "4                                      1          4       2394       598.5   \n",
       "5                                      1          4       2494       623.5   \n",
       "6                                      1          4       2410       602.5   \n",
       "7                                      1          4       2395      598.75   \n",
       "8                                      1          4       2538       634.5   \n",
       "9                                      1          4       2285      571.25   \n",
       "\n",
       "     Unnamed: 11 Unnamed: 12 Unnamed: 13  \n",
       "0            NaN         NaN         NaN  \n",
       "1            NaN         NaN         NaN  \n",
       "2       Variance         NaN         NaN  \n",
       "3  523721.583333         NaN         NaN  \n",
       "4         584819         NaN         NaN  \n",
       "5  654085.666667         NaN         NaN  \n",
       "6  540209.666667         NaN         NaN  \n",
       "7  584420.916667         NaN         NaN  \n",
       "8  658956.333333         NaN         NaN  \n",
       "9  518740.916667         NaN         NaN  "
      ]
     },
     "execution_count": 121,
     "metadata": {},
     "output_type": "execute_result"
    }
   ],
   "source": [
    "df.head(10)"
   ]
  },
  {
   "cell_type": "code",
   "execution_count": 122,
   "id": "42d41cd4",
   "metadata": {},
   "outputs": [
    {
     "data": {
      "image/png": "[encoded data removed]",
      "text/plain": [
       "<Figure size 432x288 with 1 Axes>"
      ]
     },
     "metadata": {
      "needs_background": "light"
     },
     "output_type": "display_data"
    }
   ],
   "source": [
    "#compare Dentist and Alloy\n",
    "import seaborn as sn\n",
    "sns.countplot(data=df, x='Dentist', hue='Alloy');"
   ]
  },
  {
   "cell_type": "code",
   "execution_count": 150,
   "id": "55feb6f9",
   "metadata": {},
   "outputs": [
    {
     "data": {
      "text/html": [
       "<div>\n",
       "<style scoped>\n",
       "    .dataframe tbody tr th:only-of-type {\n",
       "        vertical-align: middle;\n",
       "    }\n",
       "\n",
       "    .dataframe tbody tr th {\n",
       "        vertical-align: top;\n",
       "    }\n",
       "\n",
       "    .dataframe thead th {\n",
       "        text-align: right;\n",
       "    }\n",
       "</style>\n",
       "<table border=\"1\" class=\"dataframe\">\n",
       "  <thead>\n",
       "    <tr style=\"text-align: right;\">\n",
       "      <th></th>\n",
       "      <th>Dentist 1</th>\n",
       "      <th>Alloy 1</th>\n",
       "      <th>Alloy 2</th>\n",
       "    </tr>\n",
       "  </thead>\n",
       "  <tbody>\n",
       "    <tr>\n",
       "      <th>0</th>\n",
       "      <td>1</td>\n",
       "      <td>1</td>\n",
       "      <td>2</td>\n",
       "    </tr>\n",
       "    <tr>\n",
       "      <th>1</th>\n",
       "      <td>1</td>\n",
       "      <td>1</td>\n",
       "      <td>2</td>\n",
       "    </tr>\n",
       "    <tr>\n",
       "      <th>2</th>\n",
       "      <td>1</td>\n",
       "      <td>1</td>\n",
       "      <td>2</td>\n",
       "    </tr>\n",
       "    <tr>\n",
       "      <th>3</th>\n",
       "      <td>1</td>\n",
       "      <td>1</td>\n",
       "      <td>2</td>\n",
       "    </tr>\n",
       "    <tr>\n",
       "      <th>4</th>\n",
       "      <td>1</td>\n",
       "      <td>1</td>\n",
       "      <td>2</td>\n",
       "    </tr>\n",
       "    <tr>\n",
       "      <th>5</th>\n",
       "      <td>1</td>\n",
       "      <td>1</td>\n",
       "      <td>2</td>\n",
       "    </tr>\n",
       "    <tr>\n",
       "      <th>6</th>\n",
       "      <td>1</td>\n",
       "      <td>1</td>\n",
       "      <td>2</td>\n",
       "    </tr>\n",
       "    <tr>\n",
       "      <th>7</th>\n",
       "      <td>1</td>\n",
       "      <td>1</td>\n",
       "      <td>2</td>\n",
       "    </tr>\n",
       "    <tr>\n",
       "      <th>8</th>\n",
       "      <td>1</td>\n",
       "      <td>1</td>\n",
       "      <td>2</td>\n",
       "    </tr>\n",
       "    <tr>\n",
       "      <th>9</th>\n",
       "      <td>2</td>\n",
       "      <td>1</td>\n",
       "      <td>2</td>\n",
       "    </tr>\n",
       "  </tbody>\n",
       "</table>\n",
       "</div>"
      ],
      "text/plain": [
       "   Dentist 1  Alloy 1  Alloy 2\n",
       "0          1        1        2\n",
       "1          1        1        2\n",
       "2          1        1        2\n",
       "3          1        1        2\n",
       "4          1        1        2\n",
       "5          1        1        2\n",
       "6          1        1        2\n",
       "7          1        1        2\n",
       "8          1        1        2\n",
       "9          2        1        2"
      ]
     },
     "execution_count": 150,
     "metadata": {},
     "output_type": "execute_result"
    }
   ],
   "source": [
    "#importing the dentist for individual type of alloys.\n",
    "df1 = pd.read_excel(\"Dentist with alloys.xlsx\")\n",
    "df1.head(10)"
   ]
  },
  {
   "cell_type": "code",
   "execution_count": 151,
   "id": "87f45fb0",
   "metadata": {},
   "outputs": [
    {
     "data": {
      "text/html": [
       "<div>\n",
       "<style scoped>\n",
       "    .dataframe tbody tr th:only-of-type {\n",
       "        vertical-align: middle;\n",
       "    }\n",
       "\n",
       "    .dataframe tbody tr th {\n",
       "        vertical-align: top;\n",
       "    }\n",
       "\n",
       "    .dataframe thead th {\n",
       "        text-align: right;\n",
       "    }\n",
       "</style>\n",
       "<table border=\"1\" class=\"dataframe\">\n",
       "  <thead>\n",
       "    <tr style=\"text-align: right;\">\n",
       "      <th></th>\n",
       "      <th>Dentist 1</th>\n",
       "      <th>Alloy 1</th>\n",
       "      <th>Alloy 2</th>\n",
       "    </tr>\n",
       "  </thead>\n",
       "  <tbody>\n",
       "    <tr>\n",
       "      <th>count</th>\n",
       "      <td>45.000000</td>\n",
       "      <td>45.0</td>\n",
       "      <td>45.0</td>\n",
       "    </tr>\n",
       "    <tr>\n",
       "      <th>mean</th>\n",
       "      <td>3.000000</td>\n",
       "      <td>1.0</td>\n",
       "      <td>2.0</td>\n",
       "    </tr>\n",
       "    <tr>\n",
       "      <th>std</th>\n",
       "      <td>1.430194</td>\n",
       "      <td>0.0</td>\n",
       "      <td>0.0</td>\n",
       "    </tr>\n",
       "    <tr>\n",
       "      <th>min</th>\n",
       "      <td>1.000000</td>\n",
       "      <td>1.0</td>\n",
       "      <td>2.0</td>\n",
       "    </tr>\n",
       "    <tr>\n",
       "      <th>25%</th>\n",
       "      <td>2.000000</td>\n",
       "      <td>1.0</td>\n",
       "      <td>2.0</td>\n",
       "    </tr>\n",
       "    <tr>\n",
       "      <th>50%</th>\n",
       "      <td>3.000000</td>\n",
       "      <td>1.0</td>\n",
       "      <td>2.0</td>\n",
       "    </tr>\n",
       "    <tr>\n",
       "      <th>75%</th>\n",
       "      <td>4.000000</td>\n",
       "      <td>1.0</td>\n",
       "      <td>2.0</td>\n",
       "    </tr>\n",
       "    <tr>\n",
       "      <th>max</th>\n",
       "      <td>5.000000</td>\n",
       "      <td>1.0</td>\n",
       "      <td>2.0</td>\n",
       "    </tr>\n",
       "  </tbody>\n",
       "</table>\n",
       "</div>"
      ],
      "text/plain": [
       "       Dentist 1  Alloy 1  Alloy 2\n",
       "count  45.000000     45.0     45.0\n",
       "mean    3.000000      1.0      2.0\n",
       "std     1.430194      0.0      0.0\n",
       "min     1.000000      1.0      2.0\n",
       "25%     2.000000      1.0      2.0\n",
       "50%     3.000000      1.0      2.0\n",
       "75%     4.000000      1.0      2.0\n",
       "max     5.000000      1.0      2.0"
      ]
     },
     "execution_count": 151,
     "metadata": {},
     "output_type": "execute_result"
    }
   ],
   "source": [
    "df1.describe(include = 'all')"
   ]
  },
  {
   "cell_type": "code",
   "execution_count": 146,
   "id": "806f42a2",
   "metadata": {},
   "outputs": [
    {
     "name": "stdout",
     "output_type": "stream",
     "text": [
      "4.618703326384635e-12\n",
      "reject null hypothesis\n"
     ]
    }
   ],
   "source": [
    "#Performing Null hypothesis for alloy 1\n",
    "from scipy import stats\n",
    "df1[['Dentist 1','Alloy 1']].describe()\n",
    "ttest,pval = stats.ttest_rel(df1['Dentist 1'], df1['Alloy 1'])\n",
    "print(pval)\n",
    "if pval<0.05:\n",
    "    print(\"reject null hypothesis\")\n",
    "else:\n",
    "    print(\"accept null hypothesis\")"
   ]
  },
  {
   "cell_type": "markdown",
   "id": "656a1823",
   "metadata": {},
   "source": [
    "#### Null hypothesis is rejected for alloy 1"
   ]
  },
  {
   "cell_type": "code",
   "execution_count": 147,
   "id": "d7531963",
   "metadata": {},
   "outputs": [
    {
     "name": "stdout",
     "output_type": "stream",
     "text": [
      "2.6611170408941552e-05\n",
      "reject null hypothesis\n"
     ]
    }
   ],
   "source": [
    "#Performing null hypothesis for alloy 2\n",
    "from scipy import stats\n",
    "df1[['Dentist 1','Alloy 2']].describe()\n",
    "ttest,pval = stats.ttest_rel(df1['Dentist 1'], df1['Alloy 2'])\n",
    "print(pval)\n",
    "if pval<0.05:\n",
    "    print(\"reject null hypothesis\")\n",
    "else:\n",
    "    print(\"accept null hypothesis\")"
   ]
  },
  {
   "cell_type": "markdown",
   "id": "a7919962",
   "metadata": {},
   "source": [
    "#### Null hypothesis is rejected for alloy 2"
   ]
  },
  {
   "cell_type": "markdown",
   "id": "be18b0f3",
   "metadata": {},
   "source": [
    "#### 7.1.A) As Both alloys have rejected null hypothesis we can conclude that,\n",
    "#### NUll Hypothesis for alloy 1 and alloy 2: There is no difference among the dentists on the implant hardness.\n",
    "#### Alternate Hypothesis for alloy 1 and alloy 2: There is a difference among the dentists on the implant hardness."
   ]
  },
  {
   "cell_type": "markdown",
   "id": "ff2dd4eb",
   "metadata": {},
   "source": [
    "### 7.2 Before the hypotheses may be tested, state the required assumptions. Are the assumptions fulfilled? Comment separately on both alloy types.? \n"
   ]
  },
  {
   "cell_type": "markdown",
   "id": "e654ceb0",
   "metadata": {},
   "source": [
    "#### 7.2.A) The required assumptions are that the metal is treated at the same temperature, the alloy used is the same, and the dentists who work on the metal implants are the same. These assumptions are not fulfilled."
   ]
  },
  {
   "cell_type": "markdown",
   "id": "7aece720",
   "metadata": {},
   "source": [
    "### 7.4) Now test whether there is any difference among the methods on the hardness of dental implant, separately for the two types of alloys. What are your conclusions? If the null hypothesis is rejected, is it possible to identify which pairs of methods differ?"
   ]
  },
  {
   "cell_type": "code",
   "execution_count": 154,
   "id": "507cf57b",
   "metadata": {},
   "outputs": [
    {
     "data": {
      "text/html": [
       "<div>\n",
       "<style scoped>\n",
       "    .dataframe tbody tr th:only-of-type {\n",
       "        vertical-align: middle;\n",
       "    }\n",
       "\n",
       "    .dataframe tbody tr th {\n",
       "        vertical-align: top;\n",
       "    }\n",
       "\n",
       "    .dataframe thead th {\n",
       "        text-align: right;\n",
       "    }\n",
       "</style>\n",
       "<table border=\"1\" class=\"dataframe\">\n",
       "  <thead>\n",
       "    <tr style=\"text-align: right;\">\n",
       "      <th></th>\n",
       "      <th>Method</th>\n",
       "      <th>Alloy 1</th>\n",
       "      <th>Alloy 2</th>\n",
       "    </tr>\n",
       "  </thead>\n",
       "  <tbody>\n",
       "    <tr>\n",
       "      <th>0</th>\n",
       "      <td>1</td>\n",
       "      <td>1</td>\n",
       "      <td>2</td>\n",
       "    </tr>\n",
       "    <tr>\n",
       "      <th>1</th>\n",
       "      <td>1</td>\n",
       "      <td>1</td>\n",
       "      <td>2</td>\n",
       "    </tr>\n",
       "    <tr>\n",
       "      <th>2</th>\n",
       "      <td>1</td>\n",
       "      <td>1</td>\n",
       "      <td>2</td>\n",
       "    </tr>\n",
       "    <tr>\n",
       "      <th>3</th>\n",
       "      <td>2</td>\n",
       "      <td>1</td>\n",
       "      <td>2</td>\n",
       "    </tr>\n",
       "    <tr>\n",
       "      <th>4</th>\n",
       "      <td>2</td>\n",
       "      <td>1</td>\n",
       "      <td>2</td>\n",
       "    </tr>\n",
       "    <tr>\n",
       "      <th>5</th>\n",
       "      <td>2</td>\n",
       "      <td>1</td>\n",
       "      <td>2</td>\n",
       "    </tr>\n",
       "    <tr>\n",
       "      <th>6</th>\n",
       "      <td>3</td>\n",
       "      <td>1</td>\n",
       "      <td>2</td>\n",
       "    </tr>\n",
       "    <tr>\n",
       "      <th>7</th>\n",
       "      <td>3</td>\n",
       "      <td>1</td>\n",
       "      <td>2</td>\n",
       "    </tr>\n",
       "    <tr>\n",
       "      <th>8</th>\n",
       "      <td>3</td>\n",
       "      <td>1</td>\n",
       "      <td>2</td>\n",
       "    </tr>\n",
       "    <tr>\n",
       "      <th>9</th>\n",
       "      <td>1</td>\n",
       "      <td>1</td>\n",
       "      <td>2</td>\n",
       "    </tr>\n",
       "  </tbody>\n",
       "</table>\n",
       "</div>"
      ],
      "text/plain": [
       "   Method  Alloy 1  Alloy 2\n",
       "0       1        1        2\n",
       "1       1        1        2\n",
       "2       1        1        2\n",
       "3       2        1        2\n",
       "4       2        1        2\n",
       "5       2        1        2\n",
       "6       3        1        2\n",
       "7       3        1        2\n",
       "8       3        1        2\n",
       "9       1        1        2"
      ]
     },
     "execution_count": 154,
     "metadata": {},
     "output_type": "execute_result"
    }
   ],
   "source": [
    "#importing the methods for individual type of alloys.\n",
    "df1 = pd.read_excel(\"Method with alloys.xlsx\")\n",
    "df1.head(10)"
   ]
  },
  {
   "cell_type": "code",
   "execution_count": 155,
   "id": "3a71ac77",
   "metadata": {},
   "outputs": [
    {
     "data": {
      "text/html": [
       "<div>\n",
       "<style scoped>\n",
       "    .dataframe tbody tr th:only-of-type {\n",
       "        vertical-align: middle;\n",
       "    }\n",
       "\n",
       "    .dataframe tbody tr th {\n",
       "        vertical-align: top;\n",
       "    }\n",
       "\n",
       "    .dataframe thead th {\n",
       "        text-align: right;\n",
       "    }\n",
       "</style>\n",
       "<table border=\"1\" class=\"dataframe\">\n",
       "  <thead>\n",
       "    <tr style=\"text-align: right;\">\n",
       "      <th></th>\n",
       "      <th>Method</th>\n",
       "      <th>Alloy 1</th>\n",
       "      <th>Alloy 2</th>\n",
       "    </tr>\n",
       "  </thead>\n",
       "  <tbody>\n",
       "    <tr>\n",
       "      <th>count</th>\n",
       "      <td>45.000000</td>\n",
       "      <td>45.0</td>\n",
       "      <td>45.0</td>\n",
       "    </tr>\n",
       "    <tr>\n",
       "      <th>mean</th>\n",
       "      <td>2.000000</td>\n",
       "      <td>1.0</td>\n",
       "      <td>2.0</td>\n",
       "    </tr>\n",
       "    <tr>\n",
       "      <th>std</th>\n",
       "      <td>0.825723</td>\n",
       "      <td>0.0</td>\n",
       "      <td>0.0</td>\n",
       "    </tr>\n",
       "    <tr>\n",
       "      <th>min</th>\n",
       "      <td>1.000000</td>\n",
       "      <td>1.0</td>\n",
       "      <td>2.0</td>\n",
       "    </tr>\n",
       "    <tr>\n",
       "      <th>25%</th>\n",
       "      <td>1.000000</td>\n",
       "      <td>1.0</td>\n",
       "      <td>2.0</td>\n",
       "    </tr>\n",
       "    <tr>\n",
       "      <th>50%</th>\n",
       "      <td>2.000000</td>\n",
       "      <td>1.0</td>\n",
       "      <td>2.0</td>\n",
       "    </tr>\n",
       "    <tr>\n",
       "      <th>75%</th>\n",
       "      <td>3.000000</td>\n",
       "      <td>1.0</td>\n",
       "      <td>2.0</td>\n",
       "    </tr>\n",
       "    <tr>\n",
       "      <th>max</th>\n",
       "      <td>3.000000</td>\n",
       "      <td>1.0</td>\n",
       "      <td>2.0</td>\n",
       "    </tr>\n",
       "  </tbody>\n",
       "</table>\n",
       "</div>"
      ],
      "text/plain": [
       "          Method  Alloy 1  Alloy 2\n",
       "count  45.000000     45.0     45.0\n",
       "mean    2.000000      1.0      2.0\n",
       "std     0.825723      0.0      0.0\n",
       "min     1.000000      1.0      2.0\n",
       "25%     1.000000      1.0      2.0\n",
       "50%     2.000000      1.0      2.0\n",
       "75%     3.000000      1.0      2.0\n",
       "max     3.000000      1.0      2.0"
      ]
     },
     "execution_count": 155,
     "metadata": {},
     "output_type": "execute_result"
    }
   ],
   "source": [
    "df1.describe(include = 'all')"
   ]
  },
  {
   "cell_type": "code",
   "execution_count": 159,
   "id": "e0548563",
   "metadata": {},
   "outputs": [
    {
     "name": "stdout",
     "output_type": "stream",
     "text": [
      "2.678552073494277e-10\n",
      "reject null hypothesis\n"
     ]
    }
   ],
   "source": [
    "#Performing Null hypothesis for alloy 1\n",
    "from scipy import stats\n",
    "df1[['Method','Alloy 1']].describe()\n",
    "ttest,pval = stats.ttest_rel(df1['Method'], df1['Alloy 1'])\n",
    "print(pval)\n",
    "if pval<0.05:\n",
    "    print(\"reject null hypothesis\")\n",
    "else:\n",
    "    print(\"accept null hypothesis\")"
   ]
  },
  {
   "cell_type": "markdown",
   "id": "84511ef1",
   "metadata": {},
   "source": [
    "#### Null hypothesis is rejected for alloy 1"
   ]
  },
  {
   "cell_type": "code",
   "execution_count": 160,
   "id": "76ae0ba2",
   "metadata": {},
   "outputs": [
    {
     "name": "stdout",
     "output_type": "stream",
     "text": [
      "1.0\n",
      "accept null hypothesis\n"
     ]
    }
   ],
   "source": [
    "#Performing null hypothesis for alloy 2\n",
    "from scipy import stats\n",
    "df1[['Method','Alloy 2']].describe()\n",
    "ttest,pval = stats.ttest_rel(df1['Method'], df1['Alloy 2'])\n",
    "print(pval)\n",
    "if pval<0.05:\n",
    "    print(\"reject null hypothesis\")\n",
    "else:\n",
    "    print(\"accept null hypothesis\")"
   ]
  },
  {
   "cell_type": "markdown",
   "id": "84471a2d",
   "metadata": {},
   "source": [
    "#### Null hypothesis is accepted for alloy 2"
   ]
  },
  {
   "cell_type": "markdown",
   "id": "fb80ece6",
   "metadata": {},
   "source": [
    "#### 7.4.A) Null hypothesis is rejected for alloy 1 but accepted for allloy 2.\n",
    "#### The two types of alloys are not independent, and so the two analysis of variance you carry out are not independent. You should not use the same set of means to test the effect of the types of alloys, but should instead use the overall means of each type separately. You can use the means of the two types to test the effect of methods, but you need to be aware that the methods may affect the two types of alloys differently."
   ]
  },
  {
   "cell_type": "markdown",
   "id": "16523570",
   "metadata": {},
   "source": [
    "### 7.5) Now test whether there is any difference among the temperature levels on the hardness of dental implant, separately for the two types of alloys. What are your conclusions? If the null hypothesis is rejected, is it possible to identify which levels of temperatures differ?"
   ]
  },
  {
   "cell_type": "code",
   "execution_count": 161,
   "id": "73aed1aa",
   "metadata": {},
   "outputs": [
    {
     "data": {
      "text/html": [
       "<div>\n",
       "<style scoped>\n",
       "    .dataframe tbody tr th:only-of-type {\n",
       "        vertical-align: middle;\n",
       "    }\n",
       "\n",
       "    .dataframe tbody tr th {\n",
       "        vertical-align: top;\n",
       "    }\n",
       "\n",
       "    .dataframe thead th {\n",
       "        text-align: right;\n",
       "    }\n",
       "</style>\n",
       "<table border=\"1\" class=\"dataframe\">\n",
       "  <thead>\n",
       "    <tr style=\"text-align: right;\">\n",
       "      <th></th>\n",
       "      <th>Temp</th>\n",
       "      <th>Alloy 1</th>\n",
       "      <th>Alloy 2</th>\n",
       "    </tr>\n",
       "  </thead>\n",
       "  <tbody>\n",
       "    <tr>\n",
       "      <th>0</th>\n",
       "      <td>1500</td>\n",
       "      <td>1</td>\n",
       "      <td>2</td>\n",
       "    </tr>\n",
       "    <tr>\n",
       "      <th>1</th>\n",
       "      <td>1600</td>\n",
       "      <td>1</td>\n",
       "      <td>2</td>\n",
       "    </tr>\n",
       "    <tr>\n",
       "      <th>2</th>\n",
       "      <td>1700</td>\n",
       "      <td>1</td>\n",
       "      <td>2</td>\n",
       "    </tr>\n",
       "    <tr>\n",
       "      <th>3</th>\n",
       "      <td>1500</td>\n",
       "      <td>1</td>\n",
       "      <td>2</td>\n",
       "    </tr>\n",
       "    <tr>\n",
       "      <th>4</th>\n",
       "      <td>1600</td>\n",
       "      <td>1</td>\n",
       "      <td>2</td>\n",
       "    </tr>\n",
       "    <tr>\n",
       "      <th>5</th>\n",
       "      <td>1700</td>\n",
       "      <td>1</td>\n",
       "      <td>2</td>\n",
       "    </tr>\n",
       "    <tr>\n",
       "      <th>6</th>\n",
       "      <td>1500</td>\n",
       "      <td>1</td>\n",
       "      <td>2</td>\n",
       "    </tr>\n",
       "    <tr>\n",
       "      <th>7</th>\n",
       "      <td>1600</td>\n",
       "      <td>1</td>\n",
       "      <td>2</td>\n",
       "    </tr>\n",
       "    <tr>\n",
       "      <th>8</th>\n",
       "      <td>1700</td>\n",
       "      <td>1</td>\n",
       "      <td>2</td>\n",
       "    </tr>\n",
       "    <tr>\n",
       "      <th>9</th>\n",
       "      <td>1500</td>\n",
       "      <td>1</td>\n",
       "      <td>2</td>\n",
       "    </tr>\n",
       "  </tbody>\n",
       "</table>\n",
       "</div>"
      ],
      "text/plain": [
       "   Temp  Alloy 1  Alloy 2\n",
       "0  1500        1        2\n",
       "1  1600        1        2\n",
       "2  1700        1        2\n",
       "3  1500        1        2\n",
       "4  1600        1        2\n",
       "5  1700        1        2\n",
       "6  1500        1        2\n",
       "7  1600        1        2\n",
       "8  1700        1        2\n",
       "9  1500        1        2"
      ]
     },
     "execution_count": 161,
     "metadata": {},
     "output_type": "execute_result"
    }
   ],
   "source": [
    "#importing the temperature levels for individual type of alloys.\n",
    "df1 = pd.read_excel(\"Temperature levels with alloys.xlsx\")\n",
    "df1.head(10)"
   ]
  },
  {
   "cell_type": "code",
   "execution_count": 162,
   "id": "ab16dc1d",
   "metadata": {},
   "outputs": [
    {
     "data": {
      "text/html": [
       "<div>\n",
       "<style scoped>\n",
       "    .dataframe tbody tr th:only-of-type {\n",
       "        vertical-align: middle;\n",
       "    }\n",
       "\n",
       "    .dataframe tbody tr th {\n",
       "        vertical-align: top;\n",
       "    }\n",
       "\n",
       "    .dataframe thead th {\n",
       "        text-align: right;\n",
       "    }\n",
       "</style>\n",
       "<table border=\"1\" class=\"dataframe\">\n",
       "  <thead>\n",
       "    <tr style=\"text-align: right;\">\n",
       "      <th></th>\n",
       "      <th>Temp</th>\n",
       "      <th>Alloy 1</th>\n",
       "      <th>Alloy 2</th>\n",
       "    </tr>\n",
       "  </thead>\n",
       "  <tbody>\n",
       "    <tr>\n",
       "      <th>count</th>\n",
       "      <td>45.000000</td>\n",
       "      <td>45.0</td>\n",
       "      <td>45.0</td>\n",
       "    </tr>\n",
       "    <tr>\n",
       "      <th>mean</th>\n",
       "      <td>1600.000000</td>\n",
       "      <td>1.0</td>\n",
       "      <td>2.0</td>\n",
       "    </tr>\n",
       "    <tr>\n",
       "      <th>std</th>\n",
       "      <td>82.572282</td>\n",
       "      <td>0.0</td>\n",
       "      <td>0.0</td>\n",
       "    </tr>\n",
       "    <tr>\n",
       "      <th>min</th>\n",
       "      <td>1500.000000</td>\n",
       "      <td>1.0</td>\n",
       "      <td>2.0</td>\n",
       "    </tr>\n",
       "    <tr>\n",
       "      <th>25%</th>\n",
       "      <td>1500.000000</td>\n",
       "      <td>1.0</td>\n",
       "      <td>2.0</td>\n",
       "    </tr>\n",
       "    <tr>\n",
       "      <th>50%</th>\n",
       "      <td>1600.000000</td>\n",
       "      <td>1.0</td>\n",
       "      <td>2.0</td>\n",
       "    </tr>\n",
       "    <tr>\n",
       "      <th>75%</th>\n",
       "      <td>1700.000000</td>\n",
       "      <td>1.0</td>\n",
       "      <td>2.0</td>\n",
       "    </tr>\n",
       "    <tr>\n",
       "      <th>max</th>\n",
       "      <td>1700.000000</td>\n",
       "      <td>1.0</td>\n",
       "      <td>2.0</td>\n",
       "    </tr>\n",
       "  </tbody>\n",
       "</table>\n",
       "</div>"
      ],
      "text/plain": [
       "              Temp  Alloy 1  Alloy 2\n",
       "count    45.000000     45.0     45.0\n",
       "mean   1600.000000      1.0      2.0\n",
       "std      82.572282      0.0      0.0\n",
       "min    1500.000000      1.0      2.0\n",
       "25%    1500.000000      1.0      2.0\n",
       "50%    1600.000000      1.0      2.0\n",
       "75%    1700.000000      1.0      2.0\n",
       "max    1700.000000      1.0      2.0"
      ]
     },
     "execution_count": 162,
     "metadata": {},
     "output_type": "execute_result"
    }
   ],
   "source": [
    "df1.describe(include = 'all')"
   ]
  },
  {
   "cell_type": "code",
   "execution_count": 163,
   "id": "c3ab0140",
   "metadata": {},
   "outputs": [
    {
     "name": "stdout",
     "output_type": "stream",
     "text": [
      "1.6220600585190045e-58\n",
      "reject null hypothesis\n"
     ]
    }
   ],
   "source": [
    "#Performing Null hypothesis for alloy 1\n",
    "from scipy import stats\n",
    "df1[['Temp','Alloy 1']].describe()\n",
    "ttest,pval = stats.ttest_rel(df1['Temp'], df1['Alloy 1'])\n",
    "print(pval)\n",
    "if pval<0.05:\n",
    "    print(\"reject null hypothesis\")\n",
    "else:\n",
    "    print(\"accept null hypothesis\")"
   ]
  },
  {
   "cell_type": "markdown",
   "id": "45542c37",
   "metadata": {},
   "source": [
    "#### Null hypothesis is rejected for alloy 1"
   ]
  },
  {
   "cell_type": "code",
   "execution_count": 164,
   "id": "3e8351eb",
   "metadata": {},
   "outputs": [
    {
     "name": "stdout",
     "output_type": "stream",
     "text": [
      "1.667211910035109e-58\n",
      "reject null hypothesis\n"
     ]
    }
   ],
   "source": [
    "#Performing null hypothesis for alloy 2\n",
    "from scipy import stats\n",
    "df1[['Temp','Alloy 2']].describe()\n",
    "ttest,pval = stats.ttest_rel(df1['Temp'], df1['Alloy 2'])\n",
    "print(pval)\n",
    "if pval<0.05:\n",
    "    print(\"reject null hypothesis\")\n",
    "else:\n",
    "    print(\"accept null hypothesis\")"
   ]
  },
  {
   "cell_type": "markdown",
   "id": "e02f3f0c",
   "metadata": {},
   "source": [
    "#### Null hypothesis is accepted for alloy 2"
   ]
  },
  {
   "cell_type": "markdown",
   "id": "7f55ff44",
   "metadata": {},
   "source": [
    "#### 7.5.A)There is no difference among the temperature levels on the hardness of dental implant, separately for the two types of alloys."
   ]
  },
  {
   "cell_type": "markdown",
   "id": "75f4519b",
   "metadata": {},
   "source": [
    "### 7.6) Consider the interaction effect of dentist and method and comment on the interaction plot, separately for the two types of alloys?"
   ]
  },
  {
   "cell_type": "code",
   "execution_count": 181,
   "id": "b5aa9729",
   "metadata": {},
   "outputs": [
    {
     "data": {
      "text/html": [
       "<div>\n",
       "<style scoped>\n",
       "    .dataframe tbody tr th:only-of-type {\n",
       "        vertical-align: middle;\n",
       "    }\n",
       "\n",
       "    .dataframe tbody tr th {\n",
       "        vertical-align: top;\n",
       "    }\n",
       "\n",
       "    .dataframe thead th {\n",
       "        text-align: right;\n",
       "    }\n",
       "</style>\n",
       "<table border=\"1\" class=\"dataframe\">\n",
       "  <thead>\n",
       "    <tr style=\"text-align: right;\">\n",
       "      <th></th>\n",
       "      <th>Dentist 1</th>\n",
       "      <th>Alloy 1</th>\n",
       "      <th>Alloy 2</th>\n",
       "      <th>Method</th>\n",
       "    </tr>\n",
       "  </thead>\n",
       "  <tbody>\n",
       "    <tr>\n",
       "      <th>0</th>\n",
       "      <td>1</td>\n",
       "      <td>1</td>\n",
       "      <td>2</td>\n",
       "      <td>1</td>\n",
       "    </tr>\n",
       "    <tr>\n",
       "      <th>1</th>\n",
       "      <td>1</td>\n",
       "      <td>1</td>\n",
       "      <td>2</td>\n",
       "      <td>1</td>\n",
       "    </tr>\n",
       "    <tr>\n",
       "      <th>2</th>\n",
       "      <td>1</td>\n",
       "      <td>1</td>\n",
       "      <td>2</td>\n",
       "      <td>1</td>\n",
       "    </tr>\n",
       "    <tr>\n",
       "      <th>3</th>\n",
       "      <td>1</td>\n",
       "      <td>1</td>\n",
       "      <td>2</td>\n",
       "      <td>2</td>\n",
       "    </tr>\n",
       "    <tr>\n",
       "      <th>4</th>\n",
       "      <td>1</td>\n",
       "      <td>1</td>\n",
       "      <td>2</td>\n",
       "      <td>2</td>\n",
       "    </tr>\n",
       "    <tr>\n",
       "      <th>5</th>\n",
       "      <td>1</td>\n",
       "      <td>1</td>\n",
       "      <td>2</td>\n",
       "      <td>2</td>\n",
       "    </tr>\n",
       "    <tr>\n",
       "      <th>6</th>\n",
       "      <td>1</td>\n",
       "      <td>1</td>\n",
       "      <td>2</td>\n",
       "      <td>3</td>\n",
       "    </tr>\n",
       "    <tr>\n",
       "      <th>7</th>\n",
       "      <td>1</td>\n",
       "      <td>1</td>\n",
       "      <td>2</td>\n",
       "      <td>3</td>\n",
       "    </tr>\n",
       "    <tr>\n",
       "      <th>8</th>\n",
       "      <td>1</td>\n",
       "      <td>1</td>\n",
       "      <td>2</td>\n",
       "      <td>3</td>\n",
       "    </tr>\n",
       "    <tr>\n",
       "      <th>9</th>\n",
       "      <td>2</td>\n",
       "      <td>1</td>\n",
       "      <td>2</td>\n",
       "      <td>1</td>\n",
       "    </tr>\n",
       "  </tbody>\n",
       "</table>\n",
       "</div>"
      ],
      "text/plain": [
       "   Dentist 1  Alloy 1  Alloy 2  Method\n",
       "0          1        1        2       1\n",
       "1          1        1        2       1\n",
       "2          1        1        2       1\n",
       "3          1        1        2       2\n",
       "4          1        1        2       2\n",
       "5          1        1        2       2\n",
       "6          1        1        2       3\n",
       "7          1        1        2       3\n",
       "8          1        1        2       3\n",
       "9          2        1        2       1"
      ]
     },
     "execution_count": 181,
     "metadata": {},
     "output_type": "execute_result"
    }
   ],
   "source": [
    "df1 = pd.read_excel(\"Dentist and method with alloys.xlsx\")\n",
    "df1.head(10)"
   ]
  },
  {
   "cell_type": "code",
   "execution_count": 182,
   "id": "5a753d0d",
   "metadata": {},
   "outputs": [
    {
     "data": {
      "image/png": "[encoded data removed]",
      "text/plain": [
       "<Figure size 402.375x360 with 1 Axes>"
      ]
     },
     "metadata": {
      "needs_background": "light"
     },
     "output_type": "display_data"
    }
   ],
   "source": [
    "sns.catplot(data=df1, x='Dentist 1', y='Method',hue = 'Alloy 1');"
   ]
  },
  {
   "cell_type": "code",
   "execution_count": 183,
   "id": "01bcd813",
   "metadata": {},
   "outputs": [
    {
     "data": {
      "image/png": "[encoded data removed]",
      "text/plain": [
       "<Figure size 402.375x360 with 1 Axes>"
      ]
     },
     "metadata": {
      "needs_background": "light"
     },
     "output_type": "display_data"
    }
   ],
   "source": [
    "sns.catplot(data=df1, x='Dentist 1', y='Method',hue = 'Alloy 2');"
   ]
  },
  {
   "cell_type": "markdown",
   "id": "d753a700",
   "metadata": {},
   "source": [
    "#### 7.6.A) There is no significant interaction between dentist and method for the two types of alloys."
   ]
  },
  {
   "cell_type": "markdown",
   "id": "ad80f0b4",
   "metadata": {},
   "source": [
    "### 7.7 Now consider the effect of both factors, dentist, and method, separately on each alloy. What do you conclude? Is it possible to identify which dentists are different, which methods are different, and which interaction levels are different?"
   ]
  },
  {
   "cell_type": "markdown",
   "id": "f102cf58",
   "metadata": {},
   "source": [
    "#### 7.7.A)  The effect of both factors, dentist, and method have specific structure on each alloy.So it is possible to identify which dentists are different, which methods are different, and which interaction levels are different."
   ]
  }
 ],
 "metadata": {
  "kernelspec": {
   "display_name": "Python 3 (ipykernel)",
   "language": "python",
   "name": "python3"
  },
  "language_info": {
   "codemirror_mode": {
    "name": "ipython",
    "version": 3
   },
   "file_extension": ".py",
   "mimetype": "text/x-python",
   "name": "python",
   "nbconvert_exporter": "python",
   "pygments_lexer": "ipython3",
   "version": "3.9.12"
  }
 },
 "nbformat": 4,
 "nbformat_minor": 5
}
